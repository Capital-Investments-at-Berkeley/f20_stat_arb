{
 "cells": [
  {
   "cell_type": "code",
   "execution_count": 1,
   "metadata": {},
   "outputs": [],
   "source": [
    "import functions as fn\n",
    "import pandas as pd"
   ]
  },
  {
   "cell_type": "code",
   "execution_count": 2,
   "metadata": {},
   "outputs": [],
   "source": [
    "# Start from 01-01-2019 and end at 12-31-2019\n",
    "qqqRaw = pd.read_csv(\"../data/qqq2019.csv\")\n",
    "hasRaw = pd.read_csv(\"../data/has2019.csv\")\n",
    "ttwoRaw = pd.read_csv(\"../data/ttwo2019.csv\")\n",
    "idxxRaw = pd.read_csv(\"../data/idxx2019.csv\")\n",
    "sbuxRaw = pd.read_csv(\"../data/sbux2019.csv\")\n",
    "ctasRaw = pd.read_csv(\"../data/ctas2019.csv\")\n",
    "\n",
    "qqqRaw = qqqRaw[['DATE', 'TIME_M', 'PRICE', 'SIZE']]\n",
    "hasRaw = hasRaw[['DATE', 'TIME_M', 'PRICE', 'SIZE']]\n",
    "ttwoRaw = ttwoRaw[['DATE', 'TIME_M', 'PRICE', 'SIZE']]\n",
    "idxxRaw = idxxRaw[['DATE', 'TIME_M', 'PRICE', 'SIZE']]\n",
    "sbuxRaw = sbuxRaw[['DATE', 'TIME_M', 'PRICE', 'SIZE']]\n",
    "ctasRaw = ctasRaw[['DATE', 'TIME_M', 'PRICE', 'SIZE']]"
   ]
  },
  {
   "cell_type": "code",
   "execution_count": 3,
   "metadata": {},
   "outputs": [
    {
     "name": "stdout",
     "output_type": "stream",
     "text": [
      "DONE!\n",
      "DONE!\n",
      "DONE!\n",
      "DONE!\n",
      "DONE!\n",
      "DONE!\n"
     ]
    }
   ],
   "source": [
    "qqqClean = fn.cleanTickData(qqqRaw)\n",
    "hasClean = fn.cleanTickData(hasRaw)\n",
    "ttwoClean = fn.cleanTickData(ttwoRaw)\n",
    "idxxClean = fn.cleanTickData(idxxRaw)\n",
    "sbuxClean = fn.cleanTickData(sbuxRaw)\n",
    "ctasClean = fn.cleanTickData(ctasRaw)"
   ]
  },
  {
   "cell_type": "code",
   "execution_count": 4,
   "metadata": {},
   "outputs": [
    {
     "name": "stdout",
     "output_type": "stream",
     "text": [
      "Reading data in batches:\n",
      "Batch number: 0\n",
      "Batch number: 1\n",
      "Batch number: 2\n",
      "Returning bars \n",
      "\n",
      "Reading data in batches:\n",
      "Batch number: 0\n",
      "Returning bars \n",
      "\n",
      "Reading data in batches:\n",
      "Batch number: 0\n",
      "Returning bars \n",
      "\n",
      "Reading data in batches:\n",
      "Batch number: 0\n",
      "Returning bars \n",
      "\n",
      "Reading data in batches:\n",
      "Batch number: 0\n",
      "Batch number: 1\n",
      "Returning bars \n",
      "\n",
      "Reading data in batches:\n",
      "Batch number: 0\n",
      "Returning bars \n",
      "\n"
     ]
    }
   ],
   "source": [
    "qqq = fn.getMinuteData(qqqClean)\n",
    "has = fn.getMinuteData(hasClean)\n",
    "ttwo = fn.getMinuteData(ttwoClean)\n",
    "idxx = fn.getMinuteData(idxxClean)\n",
    "sbux = fn.getMinuteData(sbuxClean)\n",
    "ctas = fn.getMinuteData(ctasClean)"
   ]
  },
  {
   "cell_type": "code",
   "execution_count": 5,
   "metadata": {},
   "outputs": [],
   "source": [
    "qqq.to_csv(\"../data/qqqMinute2019.csv\")\n",
    "has.to_csv(\"../data/hasMinute2019.csv\")\n",
    "ttwo.to_csv(\"../data/ttwoMinute2019.csv\")\n",
    "idxx.to_csv(\"../data/idxxMinute2019.csv\")\n",
    "sbux.to_csv(\"../data/sbuxMinute2019.csv\")\n",
    "ctas.to_csv(\"../data/ctasMinute2019.csv\")"
   ]
  },
  {
   "cell_type": "code",
   "execution_count": 6,
   "metadata": {},
   "outputs": [
    {
     "data": {
      "text/html": [
       "<div>\n",
       "<style scoped>\n",
       "    .dataframe tbody tr th:only-of-type {\n",
       "        vertical-align: middle;\n",
       "    }\n",
       "\n",
       "    .dataframe tbody tr th {\n",
       "        vertical-align: top;\n",
       "    }\n",
       "\n",
       "    .dataframe thead th {\n",
       "        text-align: right;\n",
       "    }\n",
       "</style>\n",
       "<table border=\"1\" class=\"dataframe\">\n",
       "  <thead>\n",
       "    <tr style=\"text-align: right;\">\n",
       "      <th></th>\n",
       "      <th>date_time</th>\n",
       "      <th>tick_num</th>\n",
       "      <th>open</th>\n",
       "      <th>high</th>\n",
       "      <th>low</th>\n",
       "      <th>close</th>\n",
       "      <th>volume</th>\n",
       "      <th>cum_buy_volume</th>\n",
       "      <th>cum_ticks</th>\n",
       "      <th>cum_dollar_value</th>\n",
       "    </tr>\n",
       "  </thead>\n",
       "  <tbody>\n",
       "    <tr>\n",
       "      <th>92996</th>\n",
       "      <td>2019-12-31 15:45:00</td>\n",
       "      <td>28444764</td>\n",
       "      <td>212.4450</td>\n",
       "      <td>212.47</td>\n",
       "      <td>212.4401</td>\n",
       "      <td>212.450</td>\n",
       "      <td>64352</td>\n",
       "      <td>23850</td>\n",
       "      <td>243</td>\n",
       "      <td>1.367221e+07</td>\n",
       "    </tr>\n",
       "    <tr>\n",
       "      <th>92997</th>\n",
       "      <td>2019-12-31 15:46:00</td>\n",
       "      <td>28445216</td>\n",
       "      <td>212.4550</td>\n",
       "      <td>212.50</td>\n",
       "      <td>212.4200</td>\n",
       "      <td>212.490</td>\n",
       "      <td>105527</td>\n",
       "      <td>52451</td>\n",
       "      <td>452</td>\n",
       "      <td>2.242076e+07</td>\n",
       "    </tr>\n",
       "    <tr>\n",
       "      <th>92998</th>\n",
       "      <td>2019-12-31 15:47:00</td>\n",
       "      <td>28445439</td>\n",
       "      <td>212.4850</td>\n",
       "      <td>212.50</td>\n",
       "      <td>212.4700</td>\n",
       "      <td>212.495</td>\n",
       "      <td>48811</td>\n",
       "      <td>26298</td>\n",
       "      <td>223</td>\n",
       "      <td>1.037180e+07</td>\n",
       "    </tr>\n",
       "    <tr>\n",
       "      <th>92999</th>\n",
       "      <td>2019-12-31 15:48:00</td>\n",
       "      <td>28445776</td>\n",
       "      <td>212.4950</td>\n",
       "      <td>212.51</td>\n",
       "      <td>212.4600</td>\n",
       "      <td>212.460</td>\n",
       "      <td>61259</td>\n",
       "      <td>39493</td>\n",
       "      <td>337</td>\n",
       "      <td>1.301701e+07</td>\n",
       "    </tr>\n",
       "    <tr>\n",
       "      <th>93000</th>\n",
       "      <td>2019-12-31 15:49:00</td>\n",
       "      <td>28446011</td>\n",
       "      <td>212.4649</td>\n",
       "      <td>212.47</td>\n",
       "      <td>212.4300</td>\n",
       "      <td>212.430</td>\n",
       "      <td>33549</td>\n",
       "      <td>17496</td>\n",
       "      <td>235</td>\n",
       "      <td>7.127519e+06</td>\n",
       "    </tr>\n",
       "  </tbody>\n",
       "</table>\n",
       "</div>"
      ],
      "text/plain": [
       "                date_time  tick_num      open    high       low    close  \\\n",
       "92996 2019-12-31 15:45:00  28444764  212.4450  212.47  212.4401  212.450   \n",
       "92997 2019-12-31 15:46:00  28445216  212.4550  212.50  212.4200  212.490   \n",
       "92998 2019-12-31 15:47:00  28445439  212.4850  212.50  212.4700  212.495   \n",
       "92999 2019-12-31 15:48:00  28445776  212.4950  212.51  212.4600  212.460   \n",
       "93000 2019-12-31 15:49:00  28446011  212.4649  212.47  212.4300  212.430   \n",
       "\n",
       "       volume  cum_buy_volume  cum_ticks  cum_dollar_value  \n",
       "92996   64352           23850        243      1.367221e+07  \n",
       "92997  105527           52451        452      2.242076e+07  \n",
       "92998   48811           26298        223      1.037180e+07  \n",
       "92999   61259           39493        337      1.301701e+07  \n",
       "93000   33549           17496        235      7.127519e+06  "
      ]
     },
     "execution_count": 6,
     "metadata": {},
     "output_type": "execute_result"
    }
   ],
   "source": [
    "qqq.tail()"
   ]
  },
  {
   "cell_type": "code",
   "execution_count": 7,
   "metadata": {},
   "outputs": [
    {
     "data": {
      "text/plain": [
       "93001"
      ]
     },
     "execution_count": 7,
     "metadata": {},
     "output_type": "execute_result"
    }
   ],
   "source": [
    "len(qqq)"
   ]
  },
  {
   "cell_type": "code",
   "execution_count": 8,
   "metadata": {},
   "outputs": [
    {
     "data": {
      "text/plain": [
       "92514"
      ]
     },
     "execution_count": 8,
     "metadata": {},
     "output_type": "execute_result"
    }
   ],
   "source": [
    "len(has)"
   ]
  },
  {
   "cell_type": "code",
   "execution_count": 9,
   "metadata": {},
   "outputs": [
    {
     "data": {
      "text/plain": [
       "92667"
      ]
     },
     "execution_count": 9,
     "metadata": {},
     "output_type": "execute_result"
    }
   ],
   "source": [
    "len(ttwo)"
   ]
  },
  {
   "cell_type": "code",
   "execution_count": 10,
   "metadata": {},
   "outputs": [
    {
     "data": {
      "text/plain": [
       "91468"
      ]
     },
     "execution_count": 10,
     "metadata": {},
     "output_type": "execute_result"
    }
   ],
   "source": [
    "len(idxx)"
   ]
  },
  {
   "cell_type": "code",
   "execution_count": 12,
   "metadata": {},
   "outputs": [
    {
     "data": {
      "text/plain": [
       "92965"
      ]
     },
     "execution_count": 12,
     "metadata": {},
     "output_type": "execute_result"
    }
   ],
   "source": [
    "len(sbux)"
   ]
  },
  {
   "cell_type": "code",
   "execution_count": 13,
   "metadata": {},
   "outputs": [
    {
     "data": {
      "text/plain": [
       "91587"
      ]
     },
     "execution_count": 13,
     "metadata": {},
     "output_type": "execute_result"
    }
   ],
   "source": [
    "len(ctas)"
   ]
  },
  {
   "cell_type": "code",
   "execution_count": null,
   "metadata": {},
   "outputs": [],
   "source": []
  }
 ],
 "metadata": {
  "kernelspec": {
   "display_name": "Python 3",
   "language": "python",
   "name": "python3"
  },
  "language_info": {
   "codemirror_mode": {
    "name": "ipython",
    "version": 3
   },
   "file_extension": ".py",
   "mimetype": "text/x-python",
   "name": "python",
   "nbconvert_exporter": "python",
   "pygments_lexer": "ipython3",
   "version": "3.8.5"
  }
 },
 "nbformat": 4,
 "nbformat_minor": 4
}
