{
 "cells": [
  {
   "cell_type": "code",
   "execution_count": 1,
   "metadata": {},
   "outputs": [],
   "source": [
    "import functions as fn\n",
    "import pandas as pd"
   ]
  },
  {
   "cell_type": "code",
   "execution_count": 2,
   "metadata": {},
   "outputs": [],
   "source": [
    "# Starting from 01-01-2018 and ending at 12-31-2018\n",
    "qqqRaw2018 = pd.read_csv(\"../data/qqq2018.csv\")\n",
    "hasRaw2018 = pd.read_csv(\"../data/has2018.csv\")\n",
    "aaplRaw2018 = pd.read_csv(\"../data/aapl2018.csv\")\n",
    "ttwoRaw2018 = pd.read_csv(\"../data/ttwo2018.csv\")\n",
    "idxxRaw2018 = pd.read_csv(\"../data/idxx2018.csv\")\n",
    "sbuxRaw2018 = pd.read_csv(\"../data/sbux2018.csv\")\n",
    "ctasRaw2018 = pd.read_csv(\"../data/ctas2018.csv\")\n",
    "alxnRaw2018 = pd.read_csv(\"../data/alxn2018.csv\")\n",
    "algnRaw2018 = pd.read_csv(\"../data/algn2018.csv\")\n",
    "payxRaw2018 = pd.read_csv(\"../data/payx2018.csv\")\n",
    "\n",
    "qqqRaw2018 = qqqRaw2018[['DATE', 'TIME_M', 'PRICE', 'SIZE']]\n",
    "hasRaw2018 = hasRaw2018[['DATE', 'TIME_M', 'PRICE', 'SIZE']]\n",
    "aaplRaw2018 = aaplRaw2018[['DATE', 'TIME_M', 'PRICE', 'SIZE']]\n",
    "ttwoRaw2018 = ttwoRaw2018[['DATE', 'TIME_M', 'PRICE', 'SIZE']]\n",
    "idxxRaw2018 = idxxRaw2018[['DATE', 'TIME_M', 'PRICE', 'SIZE']]\n",
    "sbuxRaw2018 = sbuxRaw2018[['DATE', 'TIME_M', 'PRICE', 'SIZE']]\n",
    "ctasRaw2018 = ctasRaw2018[['DATE', 'TIME_M', 'PRICE', 'SIZE']]\n",
    "alxnRaw2018 = alxnRaw2018[['DATE', 'TIME_M', 'PRICE', 'SIZE']]\n",
    "algnRaw2018 = algnRaw2018[['DATE', 'TIME_M', 'PRICE', 'SIZE']]\n",
    "payxRaw2018 = payxRaw2018[['DATE', 'TIME_M', 'PRICE', 'SIZE']]"
   ]
  },
  {
   "cell_type": "code",
   "execution_count": 3,
   "metadata": {},
   "outputs": [],
   "source": [
    "# Starting from 01-01-2019 and ending at 12-31-2019\n",
    "qqqRaw2019 = pd.read_csv(\"../data/qqq2019.csv\")\n",
    "hasRaw2019 = pd.read_csv(\"../data/has2019.csv\")\n",
    "aaplRaw2019 = pd.read_csv(\"../data/aapl2019.csv\")\n",
    "ttwoRaw2019 = pd.read_csv(\"../data/ttwo2019.csv\")\n",
    "idxxRaw2019 = pd.read_csv(\"../data/idxx2019.csv\")\n",
    "sbuxRaw2019 = pd.read_csv(\"../data/sbux2019.csv\")\n",
    "ctasRaw2019 = pd.read_csv(\"../data/ctas2019.csv\")\n",
    "alxnRaw2019 = pd.read_csv(\"../data/alxn2019.csv\")\n",
    "algnRaw2019 = pd.read_csv(\"../data/algn2019.csv\")\n",
    "payxRaw2019 = pd.read_csv(\"../data/payx2019.csv\")\n",
    "\n",
    "qqqRaw2019 = qqqRaw2019[['DATE', 'TIME_M', 'PRICE', 'SIZE']]\n",
    "hasRaw2019 = hasRaw2019[['DATE', 'TIME_M', 'PRICE', 'SIZE']]\n",
    "aaplRaw2019 = aaplRaw2019[['DATE', 'TIME_M', 'PRICE', 'SIZE']]\n",
    "ttwoRaw2019 = ttwoRaw2019[['DATE', 'TIME_M', 'PRICE', 'SIZE']]\n",
    "idxxRaw2019 = idxxRaw2019[['DATE', 'TIME_M', 'PRICE', 'SIZE']]\n",
    "sbuxRaw2019 = sbuxRaw2019[['DATE', 'TIME_M', 'PRICE', 'SIZE']]\n",
    "ctasRaw2019 = ctasRaw2019[['DATE', 'TIME_M', 'PRICE', 'SIZE']]\n",
    "alxnRaw2019 = alxnRaw2019[['DATE', 'TIME_M', 'PRICE', 'SIZE']]\n",
    "algnRaw2019 = algnRaw2019[['DATE', 'TIME_M', 'PRICE', 'SIZE']]\n",
    "payxRaw2019 = payxRaw2019[['DATE', 'TIME_M', 'PRICE', 'SIZE']]"
   ]
  },
  {
   "cell_type": "code",
   "execution_count": 4,
   "metadata": {},
   "outputs": [
    {
     "name": "stdout",
     "output_type": "stream",
     "text": [
      "DONE!\n",
      "DONE!\n",
      "DONE!\n",
      "DONE!\n",
      "DONE!\n",
      "DONE!\n",
      "DONE!\n",
      "DONE!\n",
      "DONE!\n",
      "DONE!\n"
     ]
    }
   ],
   "source": [
    "qqqClean2018 = fn.cleanTickData(qqqRaw2018)\n",
    "hasClean2018 = fn.cleanTickData(hasRaw2018)\n",
    "aaplClean2018 = fn.cleanTickData(aaplRaw2018)\n",
    "ttwoClean2018 = fn.cleanTickData(ttwoRaw2018)\n",
    "idxxClean2018 = fn.cleanTickData(idxxRaw2018)\n",
    "sbuxClean2018 = fn.cleanTickData(sbuxRaw2018)\n",
    "ctasClean2018 = fn.cleanTickData(ctasRaw2018)\n",
    "alxnClean2018 = fn.cleanTickData(alxnRaw2018)\n",
    "algnClean2018 = fn.cleanTickData(algnRaw2018)\n",
    "payxClean2018 = fn.cleanTickData(payxRaw2018)"
   ]
  },
  {
   "cell_type": "code",
   "execution_count": 5,
   "metadata": {},
   "outputs": [
    {
     "name": "stdout",
     "output_type": "stream",
     "text": [
      "DONE!\n",
      "DONE!\n",
      "DONE!\n",
      "DONE!\n",
      "DONE!\n",
      "DONE!\n",
      "DONE!\n",
      "DONE!\n",
      "DONE!\n",
      "DONE!\n"
     ]
    }
   ],
   "source": [
    "qqqClean2019 = fn.cleanTickData(qqqRaw2019)\n",
    "hasClean2019 = fn.cleanTickData(hasRaw2019)\n",
    "aaplClean2019 = fn.cleanTickData(aaplRaw2019)\n",
    "ttwoClean2019 = fn.cleanTickData(ttwoRaw2019)\n",
    "idxxClean2019 = fn.cleanTickData(idxxRaw2019)\n",
    "sbuxClean2019 = fn.cleanTickData(sbuxRaw2019)\n",
    "ctasClean2019 = fn.cleanTickData(ctasRaw2019)\n",
    "alxnClean2019 = fn.cleanTickData(alxnRaw2019)\n",
    "algnClean2019 = fn.cleanTickData(algnRaw2019)\n",
    "payxClean2019 = fn.cleanTickData(payxRaw2019)"
   ]
  },
  {
   "cell_type": "code",
   "execution_count": 6,
   "metadata": {},
   "outputs": [
    {
     "name": "stdout",
     "output_type": "stream",
     "text": [
      "Reading data in batches:\n",
      "Batch number: 0\n",
      "Batch number: 1\n",
      "Batch number: 2\n",
      "Batch number: 3\n",
      "Batch number: 4\n",
      "Returning bars \n",
      "\n",
      "Reading data in batches:\n",
      "Batch number: 0\n",
      "Returning bars \n",
      "\n",
      "Reading data in batches:\n",
      "Batch number: 0\n",
      "Batch number: 1\n",
      "Batch number: 2\n",
      "Batch number: 3\n",
      "Batch number: 4\n",
      "Batch number: 5\n",
      "Returning bars \n",
      "\n",
      "Reading data in batches:\n",
      "Batch number: 0\n",
      "Returning bars \n",
      "\n",
      "Reading data in batches:\n",
      "Batch number: 0\n",
      "Returning bars \n",
      "\n",
      "Reading data in batches:\n",
      "Batch number: 0\n",
      "Batch number: 1\n",
      "Returning bars \n",
      "\n",
      "Reading data in batches:\n",
      "Batch number: 0\n",
      "Returning bars \n",
      "\n",
      "Reading data in batches:\n",
      "Batch number: 0\n",
      "Returning bars \n",
      "\n",
      "Reading data in batches:\n",
      "Batch number: 0\n",
      "Returning bars \n",
      "\n",
      "Reading data in batches:\n",
      "Batch number: 0\n",
      "Returning bars \n",
      "\n"
     ]
    }
   ],
   "source": [
    "qqq2018 = fn.getMinuteData(qqqClean2018)\n",
    "has2018 = fn.getMinuteData(hasClean2018)\n",
    "aapl2018 = fn.getMinuteData(aaplClean2018)\n",
    "ttwo2018 = fn.getMinuteData(ttwoClean2018)\n",
    "idxx2018 = fn.getMinuteData(idxxClean2018)\n",
    "sbux2018 = fn.getMinuteData(sbuxClean2018)\n",
    "ctas2018 = fn.getMinuteData(ctasClean2018)\n",
    "alxn2018 = fn.getMinuteData(alxnClean2018)\n",
    "algn2018 = fn.getMinuteData(algnClean2018)\n",
    "payx2018 = fn.getMinuteData(payxClean2018)"
   ]
  },
  {
   "cell_type": "code",
   "execution_count": 7,
   "metadata": {},
   "outputs": [
    {
     "name": "stdout",
     "output_type": "stream",
     "text": [
      "Reading data in batches:\n",
      "Batch number: 0\n",
      "Batch number: 1\n",
      "Batch number: 2\n",
      "Returning bars \n",
      "\n",
      "Reading data in batches:\n",
      "Batch number: 0\n",
      "Returning bars \n",
      "\n",
      "Reading data in batches:\n",
      "Batch number: 0\n",
      "Batch number: 1\n",
      "Batch number: 2\n",
      "Batch number: 3\n",
      "Batch number: 4\n",
      "Returning bars \n",
      "\n",
      "Reading data in batches:\n",
      "Batch number: 0\n",
      "Returning bars \n",
      "\n",
      "Reading data in batches:\n",
      "Batch number: 0\n",
      "Returning bars \n",
      "\n",
      "Reading data in batches:\n",
      "Batch number: 0\n",
      "Batch number: 1\n",
      "Returning bars \n",
      "\n",
      "Reading data in batches:\n",
      "Batch number: 0\n",
      "Returning bars \n",
      "\n",
      "Reading data in batches:\n",
      "Batch number: 0\n",
      "Returning bars \n",
      "\n",
      "Reading data in batches:\n",
      "Batch number: 0\n",
      "Returning bars \n",
      "\n",
      "Reading data in batches:\n",
      "Batch number: 0\n",
      "Returning bars \n",
      "\n"
     ]
    }
   ],
   "source": [
    "qqq2019 = fn.getMinuteData(qqqClean2019)\n",
    "has2019 = fn.getMinuteData(hasClean2019)\n",
    "aapl2019 = fn.getMinuteData(aaplClean2019)\n",
    "ttwo2019 = fn.getMinuteData(ttwoClean2019)\n",
    "idxx2019 = fn.getMinuteData(idxxClean2019)\n",
    "sbux2019 = fn.getMinuteData(sbuxClean2019)\n",
    "ctas2019 = fn.getMinuteData(ctasClean2019)\n",
    "alxn2019 = fn.getMinuteData(alxnClean2019)\n",
    "algn2019 = fn.getMinuteData(algnClean2019)\n",
    "payx2019 = fn.getMinuteData(payxClean2019)"
   ]
  },
  {
   "cell_type": "code",
   "execution_count": 8,
   "metadata": {},
   "outputs": [],
   "source": [
    "qqq2018.to_csv(\"../data/qqqMinute2018.csv\")\n",
    "has2018.to_csv(\"../data/hasMinute2018.csv\")\n",
    "aapl2018.to_csv(\"../data/aaplMinute2018.csv\")\n",
    "ttwo2018.to_csv(\"../data/ttwoMinute2018.csv\")\n",
    "idxx2018.to_csv(\"../data/idxxMinute2018.csv\")\n",
    "sbux2018.to_csv(\"../data/sbuxMinute2018.csv\")\n",
    "ctas2018.to_csv(\"../data/ctasMinute2018.csv\")\n",
    "alxn2018.to_csv(\"../data/alxnMinute2018.csv\")\n",
    "algn2018.to_csv(\"../data/algnMinute2018.csv\")\n",
    "payx2018.to_csv(\"../data/payxMinute2018.csv\")"
   ]
  },
  {
   "cell_type": "code",
   "execution_count": 9,
   "metadata": {},
   "outputs": [],
   "source": [
    "qqq2019.to_csv(\"../data/qqqMinute2019.csv\")\n",
    "has2019.to_csv(\"../data/hasMinute2019.csv\")\n",
    "aapl2019.to_csv(\"../data/aaplMinute2019.csv\")\n",
    "ttwo2019.to_csv(\"../data/ttwoMinute2019.csv\")\n",
    "idxx2019.to_csv(\"../data/idxxMinute2019.csv\")\n",
    "sbux2019.to_csv(\"../data/sbuxMinute2019.csv\")\n",
    "ctas2019.to_csv(\"../data/ctasMinute2019.csv\")\n",
    "alxn2019.to_csv(\"../data/alxnMinute2019.csv\")\n",
    "algn2019.to_csv(\"../data/algnMinute2019.csv\")\n",
    "payx2019.to_csv(\"../data/payxMinute2019.csv\")"
   ]
  },
  {
   "cell_type": "code",
   "execution_count": null,
   "metadata": {},
   "outputs": [],
   "source": []
  }
 ],
 "metadata": {
  "kernelspec": {
   "display_name": "Python 3",
   "language": "python",
   "name": "python3"
  },
  "language_info": {
   "codemirror_mode": {
    "name": "ipython",
    "version": 3
   },
   "file_extension": ".py",
   "mimetype": "text/x-python",
   "name": "python",
   "nbconvert_exporter": "python",
   "pygments_lexer": "ipython3",
   "version": "3.8.5"
  }
 },
 "nbformat": 4,
 "nbformat_minor": 4
}
