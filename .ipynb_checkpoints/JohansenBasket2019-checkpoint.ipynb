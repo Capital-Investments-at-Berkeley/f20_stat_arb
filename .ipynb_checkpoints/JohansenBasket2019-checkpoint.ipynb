{
 "cells": [
  {
   "cell_type": "code",
   "execution_count": 1,
   "metadata": {},
   "outputs": [],
   "source": [
    "import pandas as pd\n",
    "import functions as fn\n",
    "import numpy as np\n",
    "import matplotlib.pyplot as plt"
   ]
  },
  {
   "cell_type": "code",
   "execution_count": 2,
   "metadata": {},
   "outputs": [],
   "source": [
    "tickers = pd.read_csv(\"../data/nasdaq_comps_2016-2020.csv\")"
   ]
  },
  {
   "cell_type": "code",
   "execution_count": 3,
   "metadata": {},
   "outputs": [
    {
     "name": "stdout",
     "output_type": "stream",
     "text": [
      "[*********************100%***********************]  1 of 1 completed\n",
      "[*********************100%***********************]  1 of 1 completed\n",
      "GOOG\n",
      "[*********************100%***********************]  1 of 1 completed\n",
      "ROST\n",
      "[*********************100%***********************]  1 of 1 completed\n",
      "MSFT\n",
      "[*********************100%***********************]  1 of 1 completed\n",
      "FB\n",
      "[*********************100%***********************]  1 of 1 completed\n",
      "ALGN\n",
      "[*********************100%***********************]  1 of 1 completed\n",
      "KLAC\n",
      "[*********************100%***********************]  1 of 1 completed\n",
      "NVDA\n",
      "[*********************100%***********************]  1 of 1 completed\n",
      "LBTYA\n",
      "[*********************100%***********************]  1 of 1 completed\n",
      "\n",
      "1 Failed download:\n",
      "- CTRP: No data found, symbol may be delisted\n",
      "err\n",
      "[*********************100%***********************]  1 of 1 completed\n",
      "SNPS\n",
      "[*********************100%***********************]  1 of 1 completed\n",
      "ATVI\n",
      "[*********************100%***********************]  1 of 1 completed\n",
      "MAR\n",
      "[*********************100%***********************]  1 of 1 completed\n",
      "BIIB\n",
      "[*********************100%***********************]  1 of 1 completed\n",
      "MCHP\n",
      "[*********************100%***********************]  1 of 1 completed\n",
      "MELI\n",
      "[*********************100%***********************]  1 of 1 completed\n",
      "ISRG\n",
      "[*********************100%***********************]  1 of 1 completed\n",
      "QCOM\n",
      "[*********************100%***********************]  1 of 1 completed\n",
      "ALXN\n",
      "[*********************100%***********************]  1 of 1 completed\n",
      "COST\n",
      "[*********************100%***********************]  1 of 1 completed\n",
      "CTAS\n",
      "[*********************100%***********************]  1 of 1 completed\n",
      "\n",
      "1 Failed download:\n",
      "- FOX: Data doesn't exist for startDate = 1514793600, endDate = 1546243200\n",
      "err\n",
      "[*********************100%***********************]  1 of 1 completed\n",
      "LRCX\n",
      "[*********************100%***********************]  1 of 1 completed\n",
      "JBHT\n",
      "[*********************100%***********************]  1 of 1 completed\n",
      "NTES\n",
      "[*********************100%***********************]  1 of 1 completed\n",
      "ILMN\n",
      "[*********************100%***********************]  1 of 1 completed\n",
      "DLTR\n",
      "[*********************100%***********************]  1 of 1 completed\n",
      "ADP\n",
      "[*********************100%***********************]  1 of 1 completed\n",
      "AVGO\n",
      "[*********************100%***********************]  1 of 1 completed\n",
      "TXN\n",
      "[*********************100%***********************]  1 of 1 completed\n",
      "CERN\n",
      "[*********************100%***********************]  1 of 1 completed\n",
      "\n",
      "1 Failed download:\n",
      "- CELG: No data found, symbol may be delisted\n",
      "err\n",
      "[*********************100%***********************]  1 of 1 completed\n",
      "IDXX\n",
      "[*********************100%***********************]  1 of 1 completed\n",
      "TSLA\n",
      "[*********************100%***********************]  1 of 1 completed\n",
      "err\n",
      "[*********************100%***********************]  1 of 1 completed\n",
      "EXPE\n",
      "[*********************100%***********************]  1 of 1 completed\n",
      "AMAT\n",
      "[*********************100%***********************]  1 of 1 completed\n",
      "EBAY\n",
      "[*********************100%***********************]  1 of 1 completed\n",
      "MNST\n",
      "[*********************100%***********************]  1 of 1 completed\n",
      "REGN\n",
      "[*********************100%***********************]  1 of 1 completed\n",
      "KHC\n",
      "[*********************100%***********************]  1 of 1 completed\n",
      "NFLX\n",
      "[*********************100%***********************]  1 of 1 completed\n",
      "MU\n",
      "[*********************100%***********************]  1 of 1 completed\n",
      "INTU\n",
      "[*********************100%***********************]  1 of 1 completed\n",
      "WYNN\n",
      "[*********************100%***********************]  1 of 1 completed\n",
      "MDLZ\n",
      "[*********************100%***********************]  1 of 1 completed\n",
      "INTC\n",
      "[*********************100%***********************]  1 of 1 completed\n",
      "ASML\n",
      "[*********************100%***********************]  1 of 1 completed\n",
      "ULTA\n",
      "[*********************100%***********************]  1 of 1 completed\n",
      "WDC\n",
      "[*********************100%***********************]  1 of 1 completed\n",
      "SIRI\n",
      "[*********************100%***********************]  1 of 1 completed\n",
      "SBUX\n",
      "[*********************100%***********************]  1 of 1 completed\n",
      "HSIC\n",
      "[*********************100%***********************]  1 of 1 completed\n",
      "CDNS\n",
      "[*********************100%***********************]  1 of 1 completed\n",
      "FAST\n",
      "[*********************100%***********************]  1 of 1 completed\n",
      "BKNG\n",
      "[*********************100%***********************]  1 of 1 completed\n",
      "AMZN\n",
      "[*********************100%***********************]  1 of 1 completed\n",
      "TTWO\n",
      "[*********************100%***********************]  1 of 1 completed\n",
      "JD\n",
      "[*********************100%***********************]  1 of 1 completed\n",
      "\n",
      "1 Failed download:\n",
      "- SYMC: No data found, symbol may be delisted\n",
      "err\n",
      "[*********************100%***********************]  1 of 1 completed\n",
      "WBA\n",
      "[*********************100%***********************]  1 of 1 completed\n",
      "ADBE\n",
      "[*********************100%***********************]  1 of 1 completed\n",
      "AAPL\n",
      "[*********************100%***********************]  1 of 1 completed\n",
      "PYPL\n",
      "[*********************100%***********************]  1 of 1 completed\n",
      "SWKS\n",
      "[*********************100%***********************]  1 of 1 completed\n",
      "INCY\n",
      "[*********************100%***********************]  1 of 1 completed\n",
      "PAYX\n",
      "[*********************100%***********************]  1 of 1 completed\n",
      "TMUS\n",
      "[*********************100%***********************]  1 of 1 completed\n",
      "MXIM\n",
      "[*********************100%***********************]  1 of 1 completed\n",
      "VRTX\n",
      "[*********************100%***********************]  1 of 1 completed\n",
      "ADSK\n",
      "[*********************100%***********************]  1 of 1 completed\n",
      "BMRN\n",
      "[*********************100%***********************]  1 of 1 completed\n",
      "HAS\n",
      "[*********************100%***********************]  1 of 1 completed\n",
      "\n",
      "1 Failed download:\n",
      "- FOXA: Data doesn't exist for startDate = 1514793600, endDate = 1546243200\n",
      "err\n",
      "[*********************100%***********************]  1 of 1 completed\n",
      "GILD\n",
      "[*********************100%***********************]  1 of 1 completed\n",
      "CSCO\n",
      "[*********************100%***********************]  1 of 1 completed\n",
      "EA\n",
      "[*********************100%***********************]  1 of 1 completed\n",
      "XLNX\n",
      "[*********************100%***********************]  1 of 1 completed\n",
      "MYL\n",
      "[*********************100%***********************]  1 of 1 completed\n",
      "CSX\n",
      "[*********************100%***********************]  1 of 1 completed\n",
      "ADI\n",
      "[*********************100%***********************]  1 of 1 completed\n",
      "AAL\n",
      "[*********************100%***********************]  1 of 1 completed\n",
      "PCAR\n",
      "[*********************100%***********************]  1 of 1 completed\n",
      "ORLY\n",
      "[*********************100%***********************]  1 of 1 completed\n",
      "LBTYK\n",
      "[*********************100%***********************]  1 of 1 completed\n",
      "CHKP\n",
      "[*********************100%***********************]  1 of 1 completed\n",
      "CTSH\n",
      "[*********************100%***********************]  1 of 1 completed\n",
      "CTXS\n",
      "[*********************100%***********************]  1 of 1 completed\n",
      "AMGN\n",
      "[*********************100%***********************]  1 of 1 completed\n",
      "BIDU\n",
      "[*********************100%***********************]  1 of 1 completed\n",
      "CHTR\n",
      "[*********************100%***********************]  1 of 1 completed\n",
      "WDAY\n",
      "[*********************100%***********************]  1 of 1 completed\n",
      "VRSK\n",
      "[*********************100%***********************]  1 of 1 completed\n",
      "FISV\n"
     ]
    }
   ],
   "source": [
    "tickers = list(set(tickers['2019']).intersection(set(tickers['2018'])))\n",
    "etf = 'QQQ'\n",
    "start = '2018-01-01'\n",
    "end = '2018-12-31'\n",
    "cointegrationResultsIndividual = fn.runCointTestIndividual(etf, tickers, start, end)"
   ]
  },
  {
   "cell_type": "code",
   "execution_count": 4,
   "metadata": {},
   "outputs": [
    {
     "data": {
      "text/html": [
       "<div>\n",
       "<style scoped>\n",
       "    .dataframe tbody tr th:only-of-type {\n",
       "        vertical-align: middle;\n",
       "    }\n",
       "\n",
       "    .dataframe tbody tr th {\n",
       "        vertical-align: top;\n",
       "    }\n",
       "\n",
       "    .dataframe thead th {\n",
       "        text-align: right;\n",
       "    }\n",
       "</style>\n",
       "<table border=\"1\" class=\"dataframe\">\n",
       "  <thead>\n",
       "    <tr style=\"text-align: right;\">\n",
       "      <th></th>\n",
       "      <th>ticker</th>\n",
       "      <th>t-stat</th>\n",
       "      <th>pval</th>\n",
       "    </tr>\n",
       "  </thead>\n",
       "  <tbody>\n",
       "    <tr>\n",
       "      <th>71</th>\n",
       "      <td>HAS</td>\n",
       "      <td>-3.476138</td>\n",
       "      <td>0.034570</td>\n",
       "    </tr>\n",
       "    <tr>\n",
       "      <th>61</th>\n",
       "      <td>AAPL</td>\n",
       "      <td>-3.268703</td>\n",
       "      <td>0.059170</td>\n",
       "    </tr>\n",
       "    <tr>\n",
       "      <th>56</th>\n",
       "      <td>TTWO</td>\n",
       "      <td>-3.186715</td>\n",
       "      <td>0.072178</td>\n",
       "    </tr>\n",
       "    <tr>\n",
       "      <th>31</th>\n",
       "      <td>IDXX</td>\n",
       "      <td>-3.156778</td>\n",
       "      <td>0.077458</td>\n",
       "    </tr>\n",
       "    <tr>\n",
       "      <th>50</th>\n",
       "      <td>SBUX</td>\n",
       "      <td>-3.125705</td>\n",
       "      <td>0.083256</td>\n",
       "    </tr>\n",
       "  </tbody>\n",
       "</table>\n",
       "</div>"
      ],
      "text/plain": [
       "   ticker    t-stat      pval\n",
       "71    HAS -3.476138  0.034570\n",
       "61   AAPL -3.268703  0.059170\n",
       "56   TTWO -3.186715  0.072178\n",
       "31   IDXX -3.156778  0.077458\n",
       "50   SBUX -3.125705  0.083256"
      ]
     },
     "execution_count": 4,
     "metadata": {},
     "output_type": "execute_result"
    }
   ],
   "source": [
    "cointegrationResultsIndividual.head()"
   ]
  },
  {
   "cell_type": "code",
   "execution_count": 5,
   "metadata": {},
   "outputs": [
    {
     "name": "stdout",
     "output_type": "stream",
     "text": [
      "[*********************100%***********************]  1 of 1 completed\n",
      "[*********************100%***********************]  10 of 10 completed\n",
      "0 done, out of a total of  1013\n",
      "500 done, out of a total of  1013\n",
      "1000 done, out of a total of  1013\n"
     ]
    }
   ],
   "source": [
    "subset = cointegrationResultsIndividual.loc[cointegrationResultsIndividual['pval'] <= 0.2]\n",
    "tickers = subset['ticker'].tolist()\n",
    "etf = 'QQQ'\n",
    "start = '2018-01-01'\n",
    "end = '2018-12-31'\n",
    "synthetic_asset_rank = fn.runCointTestBasketsJoh(etf, tickers, start, end)"
   ]
  },
  {
   "cell_type": "code",
   "execution_count": 6,
   "metadata": {},
   "outputs": [
    {
     "data": {
      "text/html": [
       "<div>\n",
       "<style scoped>\n",
       "    .dataframe tbody tr th:only-of-type {\n",
       "        vertical-align: middle;\n",
       "    }\n",
       "\n",
       "    .dataframe tbody tr th {\n",
       "        vertical-align: top;\n",
       "    }\n",
       "\n",
       "    .dataframe thead th {\n",
       "        text-align: right;\n",
       "    }\n",
       "</style>\n",
       "<table border=\"1\" class=\"dataframe\">\n",
       "  <thead>\n",
       "    <tr style=\"text-align: right;\">\n",
       "      <th></th>\n",
       "      <th>ticker</th>\n",
       "      <th>critical-values</th>\n",
       "      <th>trace-stat</th>\n",
       "    </tr>\n",
       "  </thead>\n",
       "  <tbody>\n",
       "    <tr>\n",
       "      <th>697</th>\n",
       "      <td>[HAS, TTWO, IDXX, SBUX, CTAS, ALXN]</td>\n",
       "      <td>[2.7055, 3.8415, 6.6349]</td>\n",
       "      <td>0.045069</td>\n",
       "    </tr>\n",
       "    <tr>\n",
       "      <th>446</th>\n",
       "      <td>[HAS, TTWO, SBUX, CTAS, ALXN]</td>\n",
       "      <td>[2.7055, 3.8415, 6.6349]</td>\n",
       "      <td>0.049130</td>\n",
       "    </tr>\n",
       "    <tr>\n",
       "      <th>895</th>\n",
       "      <td>[HAS, TTWO, IDXX, SBUX, CTAS, ALXN, PAYX]</td>\n",
       "      <td>[2.7055, 3.8415, 6.6349]</td>\n",
       "      <td>0.072650</td>\n",
       "    </tr>\n",
       "    <tr>\n",
       "      <th>719</th>\n",
       "      <td>[HAS, TTWO, SBUX, CTAS, ALXN, PAYX]</td>\n",
       "      <td>[2.7055, 3.8415, 6.6349]</td>\n",
       "      <td>0.078982</td>\n",
       "    </tr>\n",
       "    <tr>\n",
       "      <th>432</th>\n",
       "      <td>[HAS, TTWO, IDXX, SBUX, ALXN]</td>\n",
       "      <td>[2.7055, 3.8415, 6.6349]</td>\n",
       "      <td>0.087837</td>\n",
       "    </tr>\n",
       "  </tbody>\n",
       "</table>\n",
       "</div>"
      ],
      "text/plain": [
       "                                        ticker           critical-values  \\\n",
       "697        [HAS, TTWO, IDXX, SBUX, CTAS, ALXN]  [2.7055, 3.8415, 6.6349]   \n",
       "446              [HAS, TTWO, SBUX, CTAS, ALXN]  [2.7055, 3.8415, 6.6349]   \n",
       "895  [HAS, TTWO, IDXX, SBUX, CTAS, ALXN, PAYX]  [2.7055, 3.8415, 6.6349]   \n",
       "719        [HAS, TTWO, SBUX, CTAS, ALXN, PAYX]  [2.7055, 3.8415, 6.6349]   \n",
       "432              [HAS, TTWO, IDXX, SBUX, ALXN]  [2.7055, 3.8415, 6.6349]   \n",
       "\n",
       "     trace-stat  \n",
       "697    0.045069  \n",
       "446    0.049130  \n",
       "895    0.072650  \n",
       "719    0.078982  \n",
       "432    0.087837  "
      ]
     },
     "execution_count": 6,
     "metadata": {},
     "output_type": "execute_result"
    }
   ],
   "source": [
    "synthetic_asset_rank.head()"
   ]
  },
  {
   "cell_type": "code",
   "execution_count": 7,
   "metadata": {},
   "outputs": [],
   "source": [
    "# Start from 01-01-2019 and end at 12-31-2019\n",
    "qqq = pd.read_csv(\"../data/qqqMinute2019.csv\")\n",
    "has = pd.read_csv(\"../data/hasMinute2019.csv\")\n",
    "ttwo = pd.read_csv(\"../data/ttwoMinute2019.csv\")\n",
    "idxx = pd.read_csv(\"../data/idxxMinute2019.csv\")\n",
    "sbux = pd.read_csv(\"../data/sbuxMinute2019.csv\")\n",
    "ctas = pd.read_csv(\"../data/ctasMinute2019.csv\")\n",
    "alxn = pd.read_csv(\"../data/alxnMinute2019.csv\")"
   ]
  },
  {
   "cell_type": "code",
   "execution_count": 8,
   "metadata": {},
   "outputs": [
    {
     "data": {
      "text/html": [
       "<div>\n",
       "<style scoped>\n",
       "    .dataframe tbody tr th:only-of-type {\n",
       "        vertical-align: middle;\n",
       "    }\n",
       "\n",
       "    .dataframe tbody tr th {\n",
       "        vertical-align: top;\n",
       "    }\n",
       "\n",
       "    .dataframe thead th {\n",
       "        text-align: right;\n",
       "    }\n",
       "</style>\n",
       "<table border=\"1\" class=\"dataframe\">\n",
       "  <thead>\n",
       "    <tr style=\"text-align: right;\">\n",
       "      <th></th>\n",
       "      <th>qqqclose</th>\n",
       "      <th>hasclose</th>\n",
       "      <th>ttwoclose</th>\n",
       "      <th>idxxclose</th>\n",
       "      <th>sbuxclose</th>\n",
       "      <th>ctasclose</th>\n",
       "      <th>alxnclose</th>\n",
       "    </tr>\n",
       "  </thead>\n",
       "  <tbody>\n",
       "    <tr>\n",
       "      <th>2019-12-31 15:30:00</th>\n",
       "      <td>212.345</td>\n",
       "      <td>105.7300</td>\n",
       "      <td>122.2000</td>\n",
       "      <td>260.78</td>\n",
       "      <td>87.6850</td>\n",
       "      <td>268.2800</td>\n",
       "      <td>108.0100</td>\n",
       "    </tr>\n",
       "    <tr>\n",
       "      <th>2019-12-31 15:31:00</th>\n",
       "      <td>212.330</td>\n",
       "      <td>105.7100</td>\n",
       "      <td>122.1600</td>\n",
       "      <td>260.86</td>\n",
       "      <td>87.7050</td>\n",
       "      <td>268.3100</td>\n",
       "      <td>107.9500</td>\n",
       "    </tr>\n",
       "    <tr>\n",
       "      <th>2019-12-31 15:32:00</th>\n",
       "      <td>212.355</td>\n",
       "      <td>105.6972</td>\n",
       "      <td>122.1200</td>\n",
       "      <td>260.94</td>\n",
       "      <td>87.7130</td>\n",
       "      <td>268.3200</td>\n",
       "      <td>107.9500</td>\n",
       "    </tr>\n",
       "    <tr>\n",
       "      <th>2019-12-31 15:33:00</th>\n",
       "      <td>212.360</td>\n",
       "      <td>105.6900</td>\n",
       "      <td>122.1800</td>\n",
       "      <td>260.85</td>\n",
       "      <td>87.7250</td>\n",
       "      <td>268.4400</td>\n",
       "      <td>107.9550</td>\n",
       "    </tr>\n",
       "    <tr>\n",
       "      <th>2019-12-31 15:34:00</th>\n",
       "      <td>212.365</td>\n",
       "      <td>105.6900</td>\n",
       "      <td>122.2200</td>\n",
       "      <td>260.91</td>\n",
       "      <td>87.7700</td>\n",
       "      <td>268.4900</td>\n",
       "      <td>107.9700</td>\n",
       "    </tr>\n",
       "    <tr>\n",
       "      <th>2019-12-31 15:35:00</th>\n",
       "      <td>212.385</td>\n",
       "      <td>105.6800</td>\n",
       "      <td>122.1800</td>\n",
       "      <td>260.89</td>\n",
       "      <td>87.7650</td>\n",
       "      <td>268.4800</td>\n",
       "      <td>107.9850</td>\n",
       "    </tr>\n",
       "    <tr>\n",
       "      <th>2019-12-31 15:36:00</th>\n",
       "      <td>212.370</td>\n",
       "      <td>105.6500</td>\n",
       "      <td>122.2000</td>\n",
       "      <td>260.92</td>\n",
       "      <td>87.7600</td>\n",
       "      <td>268.4793</td>\n",
       "      <td>108.0387</td>\n",
       "    </tr>\n",
       "    <tr>\n",
       "      <th>2019-12-31 15:37:00</th>\n",
       "      <td>212.350</td>\n",
       "      <td>105.6200</td>\n",
       "      <td>122.1700</td>\n",
       "      <td>260.73</td>\n",
       "      <td>87.7600</td>\n",
       "      <td>268.4900</td>\n",
       "      <td>107.9800</td>\n",
       "    </tr>\n",
       "    <tr>\n",
       "      <th>2019-12-31 15:38:00</th>\n",
       "      <td>212.385</td>\n",
       "      <td>105.6200</td>\n",
       "      <td>122.1298</td>\n",
       "      <td>260.51</td>\n",
       "      <td>87.7600</td>\n",
       "      <td>268.5600</td>\n",
       "      <td>108.0000</td>\n",
       "    </tr>\n",
       "    <tr>\n",
       "      <th>2019-12-31 15:39:00</th>\n",
       "      <td>212.355</td>\n",
       "      <td>105.6044</td>\n",
       "      <td>122.1050</td>\n",
       "      <td>260.52</td>\n",
       "      <td>87.7500</td>\n",
       "      <td>268.5800</td>\n",
       "      <td>108.0300</td>\n",
       "    </tr>\n",
       "    <tr>\n",
       "      <th>2019-12-31 15:40:00</th>\n",
       "      <td>212.365</td>\n",
       "      <td>105.6000</td>\n",
       "      <td>122.1000</td>\n",
       "      <td>260.58</td>\n",
       "      <td>87.7800</td>\n",
       "      <td>268.5400</td>\n",
       "      <td>108.0700</td>\n",
       "    </tr>\n",
       "    <tr>\n",
       "      <th>2019-12-31 15:41:00</th>\n",
       "      <td>212.400</td>\n",
       "      <td>105.5905</td>\n",
       "      <td>122.1000</td>\n",
       "      <td>260.72</td>\n",
       "      <td>87.7700</td>\n",
       "      <td>268.8500</td>\n",
       "      <td>108.1340</td>\n",
       "    </tr>\n",
       "    <tr>\n",
       "      <th>2019-12-31 15:42:00</th>\n",
       "      <td>212.410</td>\n",
       "      <td>105.5800</td>\n",
       "      <td>122.1067</td>\n",
       "      <td>260.70</td>\n",
       "      <td>87.7800</td>\n",
       "      <td>268.7100</td>\n",
       "      <td>108.0639</td>\n",
       "    </tr>\n",
       "    <tr>\n",
       "      <th>2019-12-31 15:43:00</th>\n",
       "      <td>212.415</td>\n",
       "      <td>105.5800</td>\n",
       "      <td>122.1300</td>\n",
       "      <td>260.70</td>\n",
       "      <td>87.8200</td>\n",
       "      <td>268.7476</td>\n",
       "      <td>108.1101</td>\n",
       "    </tr>\n",
       "    <tr>\n",
       "      <th>2019-12-31 15:44:00</th>\n",
       "      <td>212.450</td>\n",
       "      <td>105.6100</td>\n",
       "      <td>122.1300</td>\n",
       "      <td>260.70</td>\n",
       "      <td>87.8550</td>\n",
       "      <td>268.7650</td>\n",
       "      <td>108.1300</td>\n",
       "    </tr>\n",
       "    <tr>\n",
       "      <th>2019-12-31 15:45:00</th>\n",
       "      <td>212.450</td>\n",
       "      <td>105.5900</td>\n",
       "      <td>122.1200</td>\n",
       "      <td>260.64</td>\n",
       "      <td>87.8600</td>\n",
       "      <td>268.7300</td>\n",
       "      <td>108.1300</td>\n",
       "    </tr>\n",
       "    <tr>\n",
       "      <th>2019-12-31 15:46:00</th>\n",
       "      <td>212.490</td>\n",
       "      <td>105.6300</td>\n",
       "      <td>122.1500</td>\n",
       "      <td>260.64</td>\n",
       "      <td>87.8547</td>\n",
       "      <td>268.8400</td>\n",
       "      <td>108.1300</td>\n",
       "    </tr>\n",
       "    <tr>\n",
       "      <th>2019-12-31 15:47:00</th>\n",
       "      <td>212.495</td>\n",
       "      <td>105.5500</td>\n",
       "      <td>122.1584</td>\n",
       "      <td>260.54</td>\n",
       "      <td>87.8550</td>\n",
       "      <td>268.7700</td>\n",
       "      <td>108.1176</td>\n",
       "    </tr>\n",
       "    <tr>\n",
       "      <th>2019-12-31 15:48:00</th>\n",
       "      <td>212.460</td>\n",
       "      <td>105.5400</td>\n",
       "      <td>122.2000</td>\n",
       "      <td>260.53</td>\n",
       "      <td>87.8450</td>\n",
       "      <td>268.8000</td>\n",
       "      <td>108.1645</td>\n",
       "    </tr>\n",
       "    <tr>\n",
       "      <th>2019-12-31 15:49:00</th>\n",
       "      <td>212.430</td>\n",
       "      <td>105.5100</td>\n",
       "      <td>122.2100</td>\n",
       "      <td>260.32</td>\n",
       "      <td>87.8150</td>\n",
       "      <td>268.7950</td>\n",
       "      <td>108.1300</td>\n",
       "    </tr>\n",
       "  </tbody>\n",
       "</table>\n",
       "</div>"
      ],
      "text/plain": [
       "                     qqqclose  hasclose  ttwoclose  idxxclose  sbuxclose  \\\n",
       "2019-12-31 15:30:00   212.345  105.7300   122.2000     260.78    87.6850   \n",
       "2019-12-31 15:31:00   212.330  105.7100   122.1600     260.86    87.7050   \n",
       "2019-12-31 15:32:00   212.355  105.6972   122.1200     260.94    87.7130   \n",
       "2019-12-31 15:33:00   212.360  105.6900   122.1800     260.85    87.7250   \n",
       "2019-12-31 15:34:00   212.365  105.6900   122.2200     260.91    87.7700   \n",
       "2019-12-31 15:35:00   212.385  105.6800   122.1800     260.89    87.7650   \n",
       "2019-12-31 15:36:00   212.370  105.6500   122.2000     260.92    87.7600   \n",
       "2019-12-31 15:37:00   212.350  105.6200   122.1700     260.73    87.7600   \n",
       "2019-12-31 15:38:00   212.385  105.6200   122.1298     260.51    87.7600   \n",
       "2019-12-31 15:39:00   212.355  105.6044   122.1050     260.52    87.7500   \n",
       "2019-12-31 15:40:00   212.365  105.6000   122.1000     260.58    87.7800   \n",
       "2019-12-31 15:41:00   212.400  105.5905   122.1000     260.72    87.7700   \n",
       "2019-12-31 15:42:00   212.410  105.5800   122.1067     260.70    87.7800   \n",
       "2019-12-31 15:43:00   212.415  105.5800   122.1300     260.70    87.8200   \n",
       "2019-12-31 15:44:00   212.450  105.6100   122.1300     260.70    87.8550   \n",
       "2019-12-31 15:45:00   212.450  105.5900   122.1200     260.64    87.8600   \n",
       "2019-12-31 15:46:00   212.490  105.6300   122.1500     260.64    87.8547   \n",
       "2019-12-31 15:47:00   212.495  105.5500   122.1584     260.54    87.8550   \n",
       "2019-12-31 15:48:00   212.460  105.5400   122.2000     260.53    87.8450   \n",
       "2019-12-31 15:49:00   212.430  105.5100   122.2100     260.32    87.8150   \n",
       "\n",
       "                     ctasclose  alxnclose  \n",
       "2019-12-31 15:30:00   268.2800   108.0100  \n",
       "2019-12-31 15:31:00   268.3100   107.9500  \n",
       "2019-12-31 15:32:00   268.3200   107.9500  \n",
       "2019-12-31 15:33:00   268.4400   107.9550  \n",
       "2019-12-31 15:34:00   268.4900   107.9700  \n",
       "2019-12-31 15:35:00   268.4800   107.9850  \n",
       "2019-12-31 15:36:00   268.4793   108.0387  \n",
       "2019-12-31 15:37:00   268.4900   107.9800  \n",
       "2019-12-31 15:38:00   268.5600   108.0000  \n",
       "2019-12-31 15:39:00   268.5800   108.0300  \n",
       "2019-12-31 15:40:00   268.5400   108.0700  \n",
       "2019-12-31 15:41:00   268.8500   108.1340  \n",
       "2019-12-31 15:42:00   268.7100   108.0639  \n",
       "2019-12-31 15:43:00   268.7476   108.1101  \n",
       "2019-12-31 15:44:00   268.7650   108.1300  \n",
       "2019-12-31 15:45:00   268.7300   108.1300  \n",
       "2019-12-31 15:46:00   268.8400   108.1300  \n",
       "2019-12-31 15:47:00   268.7700   108.1176  \n",
       "2019-12-31 15:48:00   268.8000   108.1645  \n",
       "2019-12-31 15:49:00   268.7950   108.1300  "
      ]
     },
     "execution_count": 8,
     "metadata": {},
     "output_type": "execute_result"
    }
   ],
   "source": [
    "qqq = qqq.set_index('date_time')\n",
    "qqq = qqq.rename(columns={'close': 'qqqclose'})\n",
    "\n",
    "has = has.set_index('date_time')\n",
    "has = has.rename(columns={'close': 'hasclose'})\n",
    "\n",
    "ttwo = ttwo.set_index('date_time')\n",
    "ttwo = ttwo.rename(columns={'close': 'ttwoclose'})\n",
    "\n",
    "idxx = idxx.set_index('date_time')\n",
    "idxx = idxx.rename(columns={'close': 'idxxclose'})\n",
    "\n",
    "sbux = sbux.set_index('date_time')\n",
    "sbux = sbux.rename(columns={'close': 'sbuxclose'})\n",
    "\n",
    "ctas = ctas.set_index('date_time')\n",
    "ctas = ctas.rename(columns={'close': 'ctasclose'})\n",
    "\n",
    "alxn = alxn.set_index('date_time')\n",
    "alxn = alxn.rename(columns={'close': 'alxnclose'})\n",
    "\n",
    "data = qqq[['qqqclose']].join([has[['hasclose']], ttwo[['ttwoclose']], idxx[['idxxclose']], \n",
    "                               sbux[['sbuxclose']], ctas[['ctasclose']], alxn[['alxnclose']]], how='outer')\n",
    "data = data.dropna()\n",
    "data.tail(20)"
   ]
  },
  {
   "cell_type": "code",
   "execution_count": 9,
   "metadata": {},
   "outputs": [],
   "source": [
    "syntheticAssetLogPrice = data[['hasclose', 'ttwoclose', 'idxxclose', 'sbuxclose', 'ctasclose', 'alxnclose']].apply(np.log)\n",
    "qqqLogPrice = np.log(data['qqqclose'].values)"
   ]
  },
  {
   "cell_type": "code",
   "execution_count": 10,
   "metadata": {},
   "outputs": [],
   "source": [
    "kf = fn.multivariateKalmanFilter(syntheticAssetLogPrice, qqqLogPrice)\n",
    "state_means, state_covs = kf.filter(qqqLogPrice)\n",
    "basket_size = len(syntheticAssetLogPrice.columns)\n",
    "slopes = state_means[:, np.arange(0, basket_size, 1)]\n",
    "intercept = state_means[:, basket_size]"
   ]
  },
  {
   "cell_type": "code",
   "execution_count": 11,
   "metadata": {},
   "outputs": [
    {
     "data": {
      "text/plain": [
       "<matplotlib.lines.Line2D at 0x2614c7e1fa0>"
      ]
     },
     "execution_count": 11,
     "metadata": {},
     "output_type": "execute_result"
    },
    {
     "data": {
      "image/png": "[encoded data removed]",
      "text/plain": [
       "<Figure size 1080x504 with 1 Axes>"
      ]
     },
     "metadata": {
      "needs_background": "light"
     },
     "output_type": "display_data"
    }
   ],
   "source": [
    "syntheticAssetEstimate = [np.dot(slopes[i], syntheticAssetLogPrice.values[i].T) for i in range(len(slopes))]\n",
    "spread_ts = qqqLogPrice - syntheticAssetEstimate\n",
    "plt.figure(figsize = (15,7))\n",
    "plt.plot(spread_ts)\n",
    "plt.title(\"Spread based on Dynamic Hedge Ratio\")\n",
    "plt.ylabel(\"Log Spread ($)\")\n",
    "plt.xlabel(\"Date\")\n",
    "spread_avg = spread_ts.mean()\n",
    "spread_sd = spread_ts.std()\n",
    "upper_threshold = spread_avg + spread_sd\n",
    "lower_threshold = spread_avg - spread_sd\n",
    "plt.axhline(upper_threshold, linestyle = 'dashed', color = 'g')\n",
    "plt.axhline(spread_avg, linestyle = 'dashed', color = 'y')\n",
    "plt.axhline(lower_threshold, linestyle = 'dashed', color = 'r')"
   ]
  },
  {
   "cell_type": "code",
   "execution_count": 12,
   "metadata": {},
   "outputs": [],
   "source": [
    "# Start from 01-01-2018 and end at 12-31-2018\n",
    "qqq2018 = pd.read_csv(\"../data/qqqMinute2018.csv\")\n",
    "has2018 = pd.read_csv(\"../data/hasMinute2018.csv\")\n",
    "ttwo2018 = pd.read_csv(\"../data/ttwoMinute2018.csv\")\n",
    "idxx2018 = pd.read_csv(\"../data/idxxMinute2018.csv\")\n",
    "sbux2018 = pd.read_csv(\"../data/sbuxMinute2018.csv\")\n",
    "ctas2018 = pd.read_csv(\"../data/ctasMinute2018.csv\")\n",
    "alxn2018 = pd.read_csv(\"../data/alxnMinute2018.csv\")"
   ]
  },
  {
   "cell_type": "code",
   "execution_count": 13,
   "metadata": {},
   "outputs": [],
   "source": [
    "qqq2018 = qqq2018.set_index('date_time')\n",
    "qqq2018 = qqq2018.rename(columns={'close': 'qqqclose'})\n",
    "\n",
    "has2018 = has2018.set_index('date_time')\n",
    "has2018 = has2018.rename(columns={'close': 'hasclose'})\n",
    "\n",
    "ttwo2018 = ttwo2018.set_index('date_time')\n",
    "ttwo2018 = ttwo2018.rename(columns={'close': 'ttwoclose'})\n",
    "\n",
    "idxx2018 = idxx2018.set_index('date_time')\n",
    "idxx2018 = idxx2018.rename(columns={'close': 'idxxclose'})\n",
    "\n",
    "sbux2018 = sbux2018.set_index('date_time')\n",
    "sbux2018 = sbux2018.rename(columns={'close': 'sbuxclose'})\n",
    "\n",
    "ctas2018 = ctas2018.set_index('date_time')\n",
    "ctas2018 = ctas2018.rename(columns={'close': 'ctasclose'})\n",
    "\n",
    "alxn2018 = alxn2018.set_index('date_time')\n",
    "alxn2018 = alxn2018.rename(columns={'close': 'alxnclose'})\n",
    "\n",
    "data2018 = qqq2018[['qqqclose']].join([has2018[['hasclose']], ttwo2018[['ttwoclose']], idxx2018[['idxxclose']], \n",
    "                                       sbux2018[['sbuxclose']], ctas2018[['ctasclose']], alxn2018[['alxnclose']]], \n",
    "                                      how='outer')\n",
    "data2018 = data2018.dropna()"
   ]
  },
  {
   "cell_type": "code",
   "execution_count": 14,
   "metadata": {},
   "outputs": [
    {
     "name": "stderr",
     "output_type": "stream",
     "text": [
      "C:\\Users\\liuvi\\Documents\\fall2020\\f20_stat_arb\\functions.py:281: SettingWithCopyWarning: \n",
      "A value is trying to be set on a copy of a slice from a DataFrame.\n",
      "Try using .loc[row_indexer,col_indexer] = value instead\n",
      "\n",
      "See the caveats in the documentation: https://pandas.pydata.org/pandas-docs/stable/user_guide/indexing.html#returning-a-view-versus-a-copy\n",
      "  price_data['logspread'] = spread_ts\n",
      "C:\\Users\\liuvi\\Documents\\fall2020\\f20_stat_arb\\functions.py:282: SettingWithCopyWarning: \n",
      "A value is trying to be set on a copy of a slice from a DataFrame.\n",
      "Try using .loc[row_indexer,col_indexer] = value instead\n",
      "\n",
      "See the caveats in the documentation: https://pandas.pydata.org/pandas-docs/stable/user_guide/indexing.html#returning-a-view-versus-a-copy\n",
      "  price_data['spread'] = np.exp(spread_ts)\n",
      "C:\\Users\\liuvi\\Documents\\fall2020\\f20_stat_arb\\functions.py:283: SettingWithCopyWarning: \n",
      "A value is trying to be set on a copy of a slice from a DataFrame.\n",
      "Try using .loc[row_indexer,col_indexer] = value instead\n",
      "\n",
      "See the caveats in the documentation: https://pandas.pydata.org/pandas-docs/stable/user_guide/indexing.html#returning-a-view-versus-a-copy\n",
      "  price_data['qqqclose'] = dataTemp['qqqclose']\n",
      "C:\\Users\\liuvi\\anaconda3\\envs\\quant\\lib\\site-packages\\pandas\\core\\frame.py:2963: SettingWithCopyWarning: \n",
      "A value is trying to be set on a copy of a slice from a DataFrame.\n",
      "Try using .loc[row_indexer,col_indexer] = value instead\n",
      "\n",
      "See the caveats in the documentation: https://pandas.pydata.org/pandas-docs/stable/user_guide/indexing.html#returning-a-view-versus-a-copy\n",
      "  self[k1] = value[k2]\n",
      "C:\\Users\\liuvi\\anaconda3\\envs\\quant\\lib\\site-packages\\pandas\\core\\indexing.py:671: SettingWithCopyWarning: \n",
      "A value is trying to be set on a copy of a slice from a DataFrame\n",
      "\n",
      "See the caveats in the documentation: https://pandas.pydata.org/pandas-docs/stable/user_guide/indexing.html#returning-a-view-versus-a-copy\n",
      "  self._setitem_with_indexer(indexer, value)\n"
     ]
    },
    {
     "name": "stdout",
     "output_type": "stream",
     "text": [
      "10 done, out of 304\n",
      "20 done, out of 304\n",
      "30 done, out of 304\n",
      "40 done, out of 304\n",
      "50 done, out of 304\n",
      "60 done, out of 304\n",
      "70 done, out of 304\n",
      "80 done, out of 304\n",
      "90 done, out of 304\n",
      "100 done, out of 304\n",
      "110 done, out of 304\n",
      "120 done, out of 304\n",
      "130 done, out of 304\n",
      "140 done, out of 304\n",
      "150 done, out of 304\n",
      "160 done, out of 304\n",
      "170 done, out of 304\n",
      "180 done, out of 304\n",
      "190 done, out of 304\n",
      "200 done, out of 304\n",
      "210 done, out of 304\n",
      "220 done, out of 304\n",
      "230 done, out of 304\n",
      "240 done, out of 304\n",
      "250 done, out of 304\n",
      "260 done, out of 304\n",
      "270 done, out of 304\n",
      "280 done, out of 304\n",
      "290 done, out of 304\n",
      "300 done, out of 304\n",
      "304 done, out of 304\n"
     ]
    }
   ],
   "source": [
    "lookback_list = np.arange(30, 301, 15)\n",
    "z_thresh_list = np.arange(1, 2.6, .1)\n",
    "results_map = fn.tuneBBParameters(data2018, lookback_list, z_thresh_list, \n",
    "                                  ['hasclose', 'ttwoclose', 'idxxclose', 'sbuxclose', 'ctasclose', 'alxnclose'], \n",
    "                                 stoploss = None)"
   ]
  },
  {
   "cell_type": "code",
   "execution_count": 15,
   "metadata": {},
   "outputs": [
    {
     "data": {
      "text/plain": [
       "[((75, 1.0), [28233.706100000432, 1.0883178234374848, 1.590219988220545]),\n",
       " ((75, 1.1), [26805.651300000438, 1.0848985715377286, 1.540128761533792]),\n",
       " ((60, 1.0), [25012.211200001024, 1.075274661784291, 1.336055357397509]),\n",
       " ((60, 1.1), [24961.556900001055, 1.075329590502077, 1.3387864659636368]),\n",
       " ((90, 1.1), [20531.69180000023, 1.0639975902103647, 1.2114929084429285]),\n",
       " ((195, 1.0), [20410.88770000053, 1.0663977444109187, 1.7654457340037921]),\n",
       " ((90, 1.0), [19818.955200000622, 1.0604834288896832, 1.1356535467557716]),\n",
       " ((105, 1.0), [19323.560500000607, 1.0594369717362457, 1.1424834349892625]),\n",
       " ((180, 1.0), [19031.050000000763, 1.0597525574779236, 1.3556990625209804]),\n",
       " ((165, 1.0), [17454.588800000605, 1.0542652843781104, 1.2270203900698036])]"
      ]
     },
     "execution_count": 15,
     "metadata": {},
     "output_type": "execute_result"
    }
   ],
   "source": [
    "list(results_map.items())[:10]"
   ]
  },
  {
   "cell_type": "code",
   "execution_count": 16,
   "metadata": {},
   "outputs": [
    {
     "name": "stdout",
     "output_type": "stream",
     "text": [
      "(75, 1.0)\n"
     ]
    }
   ],
   "source": [
    "params = list(results_map.keys())[0]\n",
    "print(params)"
   ]
  },
  {
   "cell_type": "code",
   "execution_count": 17,
   "metadata": {},
   "outputs": [],
   "source": [
    "data.reset_index(inplace=True)\n",
    "data['logspread'] = spread_ts\n",
    "data['spread'] = np.exp(spread_ts)\n",
    "data = data.rename(columns={'index': 'datetime'})"
   ]
  },
  {
   "cell_type": "code",
   "execution_count": 18,
   "metadata": {},
   "outputs": [],
   "source": [
    "backtest_data = data[['datetime', 'qqqclose', 'hasclose', 'ttwoclose', 'idxxclose', \n",
    "                      'sbuxclose', 'ctasclose', 'alxnclose', 'spread']]\n",
    "lookback = params[0]\n",
    "z_thresh = params[1].round(2)"
   ]
  },
  {
   "cell_type": "code",
   "execution_count": 19,
   "metadata": {},
   "outputs": [],
   "source": [
    "backtest_data = fn.createBands(backtest_data, lookback, z_thresh)"
   ]
  },
  {
   "cell_type": "code",
   "execution_count": 20,
   "metadata": {},
   "outputs": [
    {
     "data": {
      "text/plain": [
       "Text(0.5, 0, 'Date')"
      ]
     },
     "execution_count": 20,
     "metadata": {},
     "output_type": "execute_result"
    },
    {
     "data": {
      "image/png": "[encoded data removed]",
      "text/plain": [
       "<Figure size 1080x504 with 1 Axes>"
      ]
     },
     "metadata": {
      "needs_background": "light"
     },
     "output_type": "display_data"
    }
   ],
   "source": [
    "plt.figure(figsize = (15,7))\n",
    "plt.plot(backtest_data['spread'].iloc[-1200:])\n",
    "plt.plot(backtest_data['upperband'].iloc[-1200:], color='g')\n",
    "plt.plot(backtest_data['ema'].iloc[-1200:], color='y')\n",
    "plt.plot(backtest_data['lowerband'].iloc[-1200:], color='r')\n",
    "plt.title(\"Spread based on Dynamic Hedge Ratio\")\n",
    "plt.ylabel(\"Log Spread ($)\")\n",
    "plt.xlabel(\"Date\")"
   ]
  },
  {
   "cell_type": "code",
   "execution_count": 21,
   "metadata": {},
   "outputs": [],
   "source": [
    "backtest_data = fn.createPositions(backtest_data)"
   ]
  },
  {
   "cell_type": "code",
   "execution_count": 22,
   "metadata": {},
   "outputs": [],
   "source": [
    "prices = backtest_data[['hasclose', 'ttwoclose', 'idxxclose', 'sbuxclose', 'ctasclose', 'alxnclose']].values\n",
    "hedge_ratios = np.asarray([slopes.T[i][lookback - 1:] for i in range(len(slopes.T))]).T"
   ]
  },
  {
   "cell_type": "code",
   "execution_count": 23,
   "metadata": {},
   "outputs": [],
   "source": [
    "backtest_data['hedgeRatioHAS'] = slopes[:, 0][lookback - 1:]\n",
    "backtest_data['hedgeRatioTTWO'] = slopes[:, 1][lookback - 1:]\n",
    "backtest_data['hedgeRatioIDXX'] = slopes[:, 2][lookback - 1:]\n",
    "backtest_data['hedgeRatioSBUX'] = slopes[:, 3][lookback -1 :]\n",
    "backtest_data['hedgeRatioCTAS'] = slopes[:, 4][lookback - 1:]"
   ]
  },
  {
   "cell_type": "code",
   "execution_count": 24,
   "metadata": {},
   "outputs": [
    {
     "data": {
      "text/html": [
       "<div>\n",
       "<style scoped>\n",
       "    .dataframe tbody tr th:only-of-type {\n",
       "        vertical-align: middle;\n",
       "    }\n",
       "\n",
       "    .dataframe tbody tr th {\n",
       "        vertical-align: top;\n",
       "    }\n",
       "\n",
       "    .dataframe thead th {\n",
       "        text-align: right;\n",
       "    }\n",
       "</style>\n",
       "<table border=\"1\" class=\"dataframe\">\n",
       "  <thead>\n",
       "    <tr style=\"text-align: right;\">\n",
       "      <th></th>\n",
       "      <th>start</th>\n",
       "      <th>end</th>\n",
       "      <th>holdingPeriod</th>\n",
       "      <th>position</th>\n",
       "      <th>positionSizeY</th>\n",
       "      <th>entryY</th>\n",
       "      <th>exitY</th>\n",
       "      <th>positionSizeX</th>\n",
       "      <th>entryX</th>\n",
       "      <th>exitX</th>\n",
       "      <th>initialPortfolioValue</th>\n",
       "      <th>trade_profit</th>\n",
       "      <th>trade_returns</th>\n",
       "    </tr>\n",
       "  </thead>\n",
       "  <tbody>\n",
       "    <tr>\n",
       "      <th>3666</th>\n",
       "      <td>2019-12-31 13:31:00</td>\n",
       "      <td>2019-12-31 13:33:00</td>\n",
       "      <td>2</td>\n",
       "      <td>short</td>\n",
       "      <td>1000</td>\n",
       "      <td>211.974</td>\n",
       "      <td>211.9500</td>\n",
       "      <td>[132.0, 170.0, 291.0, 140.0, 295.0, 158.0]</td>\n",
       "      <td>[105.61, 121.65, 260.6, 87.345, 267.035, 107.96]</td>\n",
       "      <td>[105.66, 121.74, 260.6, 87.36, 267.15, 108.02]</td>\n",
       "      <td>430490.9250</td>\n",
       "      <td>91.4050</td>\n",
       "      <td>0.000212</td>\n",
       "    </tr>\n",
       "    <tr>\n",
       "      <th>3667</th>\n",
       "      <td>2019-12-31 13:46:00</td>\n",
       "      <td>2019-12-31 13:53:00</td>\n",
       "      <td>7</td>\n",
       "      <td>long</td>\n",
       "      <td>1000</td>\n",
       "      <td>212.070</td>\n",
       "      <td>212.1000</td>\n",
       "      <td>[132.0, 170.0, 291.0, 140.0, 295.0, 158.0]</td>\n",
       "      <td>[105.5626, 122.04, 260.63, 87.34, 267.39, 108.13]</td>\n",
       "      <td>[105.6191, 122.06, 260.61, 87.355, 267.3371, 1...</td>\n",
       "      <td>430786.5832</td>\n",
       "      <td>25.8275</td>\n",
       "      <td>0.000060</td>\n",
       "    </tr>\n",
       "    <tr>\n",
       "      <th>3668</th>\n",
       "      <td>2019-12-31 14:07:00</td>\n",
       "      <td>2019-12-31 14:08:00</td>\n",
       "      <td>1</td>\n",
       "      <td>long</td>\n",
       "      <td>1000</td>\n",
       "      <td>212.120</td>\n",
       "      <td>212.0934</td>\n",
       "      <td>[132.0, 170.0, 291.0, 140.0, 295.0, 158.0]</td>\n",
       "      <td>[105.48, 122.11, 260.56, 87.35, 267.5, 108.12]</td>\n",
       "      <td>[105.53, 122.12, 260.6, 87.34, 267.515, 108.025]</td>\n",
       "      <td>430849.4800</td>\n",
       "      <td>-34.5550</td>\n",
       "      <td>-0.000080</td>\n",
       "    </tr>\n",
       "    <tr>\n",
       "      <th>3669</th>\n",
       "      <td>2019-12-31 14:12:00</td>\n",
       "      <td>2019-12-31 14:37:00</td>\n",
       "      <td>25</td>\n",
       "      <td>long</td>\n",
       "      <td>1000</td>\n",
       "      <td>212.060</td>\n",
       "      <td>212.1800</td>\n",
       "      <td>[132.0, 170.0, 291.0, 140.0, 295.0, 158.0]</td>\n",
       "      <td>[105.5517, 122.05, 260.88, 87.3901, 267.8371, ...</td>\n",
       "      <td>[105.5497, 122.36, 261.32, 87.575, 268.3702, 1...</td>\n",
       "      <td>430958.4829</td>\n",
       "      <td>-267.3265</td>\n",
       "      <td>-0.000620</td>\n",
       "    </tr>\n",
       "    <tr>\n",
       "      <th>3670</th>\n",
       "      <td>2019-12-31 14:51:00</td>\n",
       "      <td>2019-12-31 15:14:00</td>\n",
       "      <td>23</td>\n",
       "      <td>short</td>\n",
       "      <td>1000</td>\n",
       "      <td>212.190</td>\n",
       "      <td>212.2900</td>\n",
       "      <td>[132.0, 170.0, 290.0, 140.0, 295.0, 158.0]</td>\n",
       "      <td>[105.5201, 122.375, 261.3948, 87.5541, 268.03,...</td>\n",
       "      <td>[105.55, 122.3, 261.02, 87.6023, 268.25, 108.17]</td>\n",
       "      <td>431095.1992</td>\n",
       "      <td>-96.8672</td>\n",
       "      <td>-0.000225</td>\n",
       "    </tr>\n",
       "  </tbody>\n",
       "</table>\n",
       "</div>"
      ],
      "text/plain": [
       "                   start                 end  holdingPeriod position  \\\n",
       "3666 2019-12-31 13:31:00 2019-12-31 13:33:00              2    short   \n",
       "3667 2019-12-31 13:46:00 2019-12-31 13:53:00              7     long   \n",
       "3668 2019-12-31 14:07:00 2019-12-31 14:08:00              1     long   \n",
       "3669 2019-12-31 14:12:00 2019-12-31 14:37:00             25     long   \n",
       "3670 2019-12-31 14:51:00 2019-12-31 15:14:00             23    short   \n",
       "\n",
       "      positionSizeY   entryY     exitY  \\\n",
       "3666           1000  211.974  211.9500   \n",
       "3667           1000  212.070  212.1000   \n",
       "3668           1000  212.120  212.0934   \n",
       "3669           1000  212.060  212.1800   \n",
       "3670           1000  212.190  212.2900   \n",
       "\n",
       "                                   positionSizeX  \\\n",
       "3666  [132.0, 170.0, 291.0, 140.0, 295.0, 158.0]   \n",
       "3667  [132.0, 170.0, 291.0, 140.0, 295.0, 158.0]   \n",
       "3668  [132.0, 170.0, 291.0, 140.0, 295.0, 158.0]   \n",
       "3669  [132.0, 170.0, 291.0, 140.0, 295.0, 158.0]   \n",
       "3670  [132.0, 170.0, 290.0, 140.0, 295.0, 158.0]   \n",
       "\n",
       "                                                 entryX  \\\n",
       "3666   [105.61, 121.65, 260.6, 87.345, 267.035, 107.96]   \n",
       "3667  [105.5626, 122.04, 260.63, 87.34, 267.39, 108.13]   \n",
       "3668     [105.48, 122.11, 260.56, 87.35, 267.5, 108.12]   \n",
       "3669  [105.5517, 122.05, 260.88, 87.3901, 267.8371, ...   \n",
       "3670  [105.5201, 122.375, 261.3948, 87.5541, 268.03,...   \n",
       "\n",
       "                                                  exitX  \\\n",
       "3666     [105.66, 121.74, 260.6, 87.36, 267.15, 108.02]   \n",
       "3667  [105.6191, 122.06, 260.61, 87.355, 267.3371, 1...   \n",
       "3668   [105.53, 122.12, 260.6, 87.34, 267.515, 108.025]   \n",
       "3669  [105.5497, 122.36, 261.32, 87.575, 268.3702, 1...   \n",
       "3670   [105.55, 122.3, 261.02, 87.6023, 268.25, 108.17]   \n",
       "\n",
       "      initialPortfolioValue  trade_profit  trade_returns  \n",
       "3666            430490.9250       91.4050       0.000212  \n",
       "3667            430786.5832       25.8275       0.000060  \n",
       "3668            430849.4800      -34.5550      -0.000080  \n",
       "3669            430958.4829     -267.3265      -0.000620  \n",
       "3670            431095.1992      -96.8672      -0.000225  "
      ]
     },
     "execution_count": 24,
     "metadata": {},
     "output_type": "execute_result"
    }
   ],
   "source": [
    "tradeLog, minuteDf = fn.constructTradeLog(backtest_data['datetime'].values, backtest_data['position'].values, \n",
    "                                backtest_data['qqqclose'].values, prices, hedge_ratios.round(3), lot_size = 1000, \n",
    "                               stoploss = -0.0006)\n",
    "tradeLog.tail()"
   ]
  },
  {
   "cell_type": "code",
   "execution_count": 25,
   "metadata": {},
   "outputs": [
    {
     "name": "stderr",
     "output_type": "stream",
     "text": [
      "<ipython-input-25-4913ea6083e5>:2: SettingWithCopyWarning: \n",
      "A value is trying to be set on a copy of a slice from a DataFrame.\n",
      "Try using .loc[row_indexer,col_indexer] = value instead\n",
      "\n",
      "See the caveats in the documentation: https://pandas.pydata.org/pandas-docs/stable/user_guide/indexing.html#returning-a-view-versus-a-copy\n",
      "  returns_df['cumulative_returns'] = np.cumprod(1 + minuteDf['returns'])\n"
     ]
    },
    {
     "data": {
      "text/plain": [
       "<matplotlib.axes._subplots.AxesSubplot at 0x2615669dd30>"
      ]
     },
     "execution_count": 25,
     "metadata": {},
     "output_type": "execute_result"
    },
    {
     "data": {
      "image/png": "[encoded data removed]",
      "text/plain": [
       "<Figure size 1080x504 with 1 Axes>"
      ]
     },
     "metadata": {
      "needs_background": "light"
     },
     "output_type": "display_data"
    }
   ],
   "source": [
    "returns_df = minuteDf[['datetime']]\n",
    "returns_df['cumulative_returns'] = np.cumprod(1 + minuteDf['returns'])\n",
    "returns_df = returns_df.set_index('datetime')\n",
    "returns_df.plot(figsize=[15, 7])"
   ]
  },
  {
   "cell_type": "code",
   "execution_count": 26,
   "metadata": {},
   "outputs": [
    {
     "name": "stdout",
     "output_type": "stream",
     "text": [
      "Trade Log cumulative profit was -44703.414\n"
     ]
    }
   ],
   "source": [
    "total_profit = np.cumsum(tradeLog['trade_profit'])\n",
    "print('Trade Log cumulative profit was {:.3f}'.format(total_profit.iloc[-1]))"
   ]
  },
  {
   "cell_type": "code",
   "execution_count": 27,
   "metadata": {},
   "outputs": [
    {
     "name": "stdout",
     "output_type": "stream",
     "text": [
      "Trade Log cumulative return was -11.285%\n"
     ]
    }
   ],
   "source": [
    "cumulative_return = np.cumprod(1 + tradeLog['trade_returns']) - 1\n",
    "print('Trade Log cumulative return was {:.3f}%'.format(cumulative_return.iloc[-1] * 100))"
   ]
  },
  {
   "cell_type": "code",
   "execution_count": 28,
   "metadata": {},
   "outputs": [
    {
     "name": "stdout",
     "output_type": "stream",
     "text": [
      "Annualized Sharpe Ratio:  -3.2831733702907693\n"
     ]
    }
   ],
   "source": [
    "minuteDf['datetime'] = pd.to_datetime(minuteDf['datetime'])\n",
    "dailyReturns = fn.calculateDailyReturns(minuteDf[['datetime', 'returns']])\n",
    "sharpeRatio = fn.calculateAnnualizedSharpeRatio(dailyReturns)\n",
    "print('Annualized Sharpe Ratio: ', sharpeRatio)"
   ]
  },
  {
   "cell_type": "code",
   "execution_count": 29,
   "metadata": {},
   "outputs": [
    {
     "data": {
      "text/plain": [
       "<matplotlib.lines.Line2D at 0x26157128bb0>"
      ]
     },
     "execution_count": 29,
     "metadata": {},
     "output_type": "execute_result"
    },
    {
     "data": {
      "image/png": "[encoded data removed]",
      "text/plain": [
       "<Figure size 1080x504 with 1 Axes>"
      ]
     },
     "metadata": {
      "needs_background": "light"
     },
     "output_type": "display_data"
    }
   ],
   "source": [
    "plt.figure(figsize=[15, 7])\n",
    "plt.hist(tradeLog['trade_returns'], bins=75)\n",
    "plt.axvline(tradeLog['trade_returns'].mean(), color='k', linestyle='dashed', linewidth=1)"
   ]
  },
  {
   "cell_type": "code",
   "execution_count": 30,
   "metadata": {},
   "outputs": [
    {
     "data": {
      "text/plain": [
       "-0.0007042930694954419"
      ]
     },
     "execution_count": 30,
     "metadata": {},
     "output_type": "execute_result"
    }
   ],
   "source": [
    "tradeLog['trade_returns'].quantile(0.1)"
   ]
  },
  {
   "cell_type": "code",
   "execution_count": 31,
   "metadata": {},
   "outputs": [
    {
     "data": {
      "text/plain": [
       "<matplotlib.lines.Line2D at 0x26162339c70>"
      ]
     },
     "execution_count": 31,
     "metadata": {},
     "output_type": "execute_result"
    },
    {
     "data": {
      "image/png": "[encoded data removed]",
      "text/plain": [
       "<Figure size 1080x504 with 1 Axes>"
      ]
     },
     "metadata": {
      "needs_background": "light"
     },
     "output_type": "display_data"
    }
   ],
   "source": [
    "plt.figure(figsize=[15, 7])\n",
    "plt.hist(tradeLog['trade_profit'], bins=75)\n",
    "plt.axvline(tradeLog['trade_profit'].mean(), color='k', linestyle='dashed', linewidth=1)"
   ]
  },
  {
   "cell_type": "code",
   "execution_count": 32,
   "metadata": {},
   "outputs": [
    {
     "data": {
      "text/plain": [
       "<matplotlib.lines.Line2D at 0x26162339d30>"
      ]
     },
     "execution_count": 32,
     "metadata": {},
     "output_type": "execute_result"
    },
    {
     "data": {
      "image/png": "[encoded data removed]",
      "text/plain": [
       "<Figure size 1080x504 with 1 Axes>"
      ]
     },
     "metadata": {
      "needs_background": "light"
     },
     "output_type": "display_data"
    }
   ],
   "source": [
    "plt.figure(figsize=[15, 7])\n",
    "plt.hist(tradeLog['holdingPeriod'], bins=50)\n",
    "plt.axvline(tradeLog['holdingPeriod'].mean(), color='k', linestyle='dashed', linewidth=1)\n",
    "plt.axvline(tradeLog['holdingPeriod'].median(), color='r', linestyle='dashed', linewidth=1)"
   ]
  },
  {
   "cell_type": "code",
   "execution_count": 33,
   "metadata": {},
   "outputs": [
    {
     "data": {
      "text/html": [
       "<div>\n",
       "<style scoped>\n",
       "    .dataframe tbody tr th:only-of-type {\n",
       "        vertical-align: middle;\n",
       "    }\n",
       "\n",
       "    .dataframe tbody tr th {\n",
       "        vertical-align: top;\n",
       "    }\n",
       "\n",
       "    .dataframe thead th {\n",
       "        text-align: right;\n",
       "    }\n",
       "</style>\n",
       "<table border=\"1\" class=\"dataframe\">\n",
       "  <thead>\n",
       "    <tr style=\"text-align: right;\">\n",
       "      <th></th>\n",
       "      <th>start</th>\n",
       "      <th>end</th>\n",
       "      <th>holdingPeriod</th>\n",
       "      <th>position</th>\n",
       "      <th>positionSizeY</th>\n",
       "      <th>entryY</th>\n",
       "      <th>exitY</th>\n",
       "      <th>positionSizeX</th>\n",
       "      <th>entryX</th>\n",
       "      <th>exitX</th>\n",
       "      <th>initialPortfolioValue</th>\n",
       "      <th>trade_profit</th>\n",
       "      <th>trade_returns</th>\n",
       "    </tr>\n",
       "  </thead>\n",
       "  <tbody>\n",
       "    <tr>\n",
       "      <th>176</th>\n",
       "      <td>2019-01-18 14:01:00</td>\n",
       "      <td>2019-01-18 14:05:00</td>\n",
       "      <td>4</td>\n",
       "      <td>long</td>\n",
       "      <td>1000</td>\n",
       "      <td>165.454</td>\n",
       "      <td>163.6300</td>\n",
       "      <td>[140.0, 185.0, 305.0, 96.0, 285.0, 176.0]</td>\n",
       "      <td>[88.69, 108.4, 200.19, 64.58, 185.05, 116.4]</td>\n",
       "      <td>[88.69, 108.3423, 200.17, 64.5845, 184.84, 116.5]</td>\n",
       "      <td>338407.8800</td>\n",
       "      <td>-1765.4075</td>\n",
       "      <td>-0.005217</td>\n",
       "    </tr>\n",
       "    <tr>\n",
       "      <th>1384</th>\n",
       "      <td>2019-05-16 13:40:00</td>\n",
       "      <td>2019-05-16 14:01:00</td>\n",
       "      <td>20</td>\n",
       "      <td>long</td>\n",
       "      <td>1000</td>\n",
       "      <td>185.300</td>\n",
       "      <td>183.0900</td>\n",
       "      <td>[131.0, 170.0, 303.0, 104.0, 291.0, 174.0]</td>\n",
       "      <td>[97.93, 107.88, 253.36, 79.15, 224.13, 131.4]</td>\n",
       "      <td>[97.86, 107.76, 252.88, 78.985, 224.01, 131.35]</td>\n",
       "      <td>389553.5400</td>\n",
       "      <td>-1974.2100</td>\n",
       "      <td>-0.005068</td>\n",
       "    </tr>\n",
       "    <tr>\n",
       "      <th>1652</th>\n",
       "      <td>2019-06-12 13:14:00</td>\n",
       "      <td>2019-06-12 14:02:00</td>\n",
       "      <td>42</td>\n",
       "      <td>short</td>\n",
       "      <td>1000</td>\n",
       "      <td>182.400</td>\n",
       "      <td>183.4000</td>\n",
       "      <td>[129.0, 170.0, 300.0, 104.0, 291.0, 171.0]</td>\n",
       "      <td>[106.07, 109.8108, 264.41, 82.91, 234.2353, 12...</td>\n",
       "      <td>[106.22, 109.0611, 264.455, 82.9835, 234.55, 1...</td>\n",
       "      <td>391483.3909</td>\n",
       "      <td>-1033.0999</td>\n",
       "      <td>-0.002639</td>\n",
       "    </tr>\n",
       "    <tr>\n",
       "      <th>1693</th>\n",
       "      <td>2019-06-18 11:15:00</td>\n",
       "      <td>2019-06-18 11:38:00</td>\n",
       "      <td>23</td>\n",
       "      <td>long</td>\n",
       "      <td>1000</td>\n",
       "      <td>187.390</td>\n",
       "      <td>183.7221</td>\n",
       "      <td>[130.0, 171.0, 299.0, 104.0, 290.0, 172.0]</td>\n",
       "      <td>[107.89, 112.13, 269.582, 83.44, 232.09, 124.0]</td>\n",
       "      <td>[107.8575, 111.71, 269.96, 83.55, 231.92, 123.7]</td>\n",
       "      <td>398506.8080</td>\n",
       "      <td>-3615.4170</td>\n",
       "      <td>-0.009072</td>\n",
       "    </tr>\n",
       "    <tr>\n",
       "      <th>1780</th>\n",
       "      <td>2019-06-25 14:31:00</td>\n",
       "      <td>2019-06-25 14:34:00</td>\n",
       "      <td>3</td>\n",
       "      <td>short</td>\n",
       "      <td>1000</td>\n",
       "      <td>185.490</td>\n",
       "      <td>188.1075</td>\n",
       "      <td>[130.0, 171.0, 298.0, 104.0, 290.0, 169.0]</td>\n",
       "      <td>[105.775, 112.93, 274.12, 84.24, 232.5, 125.84]</td>\n",
       "      <td>[105.73, 112.83, 274.0657, 84.1828, 232.65, 12...</td>\n",
       "      <td>397692.4600</td>\n",
       "      <td>-2674.8502</td>\n",
       "      <td>-0.006726</td>\n",
       "    </tr>\n",
       "    <tr>\n",
       "      <th>2139</th>\n",
       "      <td>2019-08-02 09:42:00</td>\n",
       "      <td>2019-08-02 09:43:00</td>\n",
       "      <td>1</td>\n",
       "      <td>long</td>\n",
       "      <td>1000</td>\n",
       "      <td>188.650</td>\n",
       "      <td>188.4000</td>\n",
       "      <td>[132.0, 174.0, 292.0, 111.0, 283.0, 168.0]</td>\n",
       "      <td>[114.39, 121.49, 265.02, 95.35, 257.79, 113.43]</td>\n",
       "      <td>[114.51, 121.63, 270.993, 95.39, 257.8232, 113...</td>\n",
       "      <td>404869.2400</td>\n",
       "      <td>-2027.9916</td>\n",
       "      <td>-0.005009</td>\n",
       "    </tr>\n",
       "    <tr>\n",
       "      <th>3044</th>\n",
       "      <td>2019-10-28 13:59:00</td>\n",
       "      <td>2019-10-28 14:01:00</td>\n",
       "      <td>2</td>\n",
       "      <td>long</td>\n",
       "      <td>1000</td>\n",
       "      <td>197.450</td>\n",
       "      <td>195.6400</td>\n",
       "      <td>[119.0, 168.0, 301.0, 131.0, 295.0, 157.0]</td>\n",
       "      <td>[96.42, 123.09, 267.83, 83.5069, 272.0508, 106...</td>\n",
       "      <td>[96.43, 123.21, 267.57, 83.51, 272.3026, 106.5...</td>\n",
       "      <td>418125.3999</td>\n",
       "      <td>-1850.3223</td>\n",
       "      <td>-0.004425</td>\n",
       "    </tr>\n",
       "  </tbody>\n",
       "</table>\n",
       "</div>"
      ],
      "text/plain": [
       "                   start                 end  holdingPeriod position  \\\n",
       "176  2019-01-18 14:01:00 2019-01-18 14:05:00              4     long   \n",
       "1384 2019-05-16 13:40:00 2019-05-16 14:01:00             20     long   \n",
       "1652 2019-06-12 13:14:00 2019-06-12 14:02:00             42    short   \n",
       "1693 2019-06-18 11:15:00 2019-06-18 11:38:00             23     long   \n",
       "1780 2019-06-25 14:31:00 2019-06-25 14:34:00              3    short   \n",
       "2139 2019-08-02 09:42:00 2019-08-02 09:43:00              1     long   \n",
       "3044 2019-10-28 13:59:00 2019-10-28 14:01:00              2     long   \n",
       "\n",
       "      positionSizeY   entryY     exitY  \\\n",
       "176            1000  165.454  163.6300   \n",
       "1384           1000  185.300  183.0900   \n",
       "1652           1000  182.400  183.4000   \n",
       "1693           1000  187.390  183.7221   \n",
       "1780           1000  185.490  188.1075   \n",
       "2139           1000  188.650  188.4000   \n",
       "3044           1000  197.450  195.6400   \n",
       "\n",
       "                                   positionSizeX  \\\n",
       "176    [140.0, 185.0, 305.0, 96.0, 285.0, 176.0]   \n",
       "1384  [131.0, 170.0, 303.0, 104.0, 291.0, 174.0]   \n",
       "1652  [129.0, 170.0, 300.0, 104.0, 291.0, 171.0]   \n",
       "1693  [130.0, 171.0, 299.0, 104.0, 290.0, 172.0]   \n",
       "1780  [130.0, 171.0, 298.0, 104.0, 290.0, 169.0]   \n",
       "2139  [132.0, 174.0, 292.0, 111.0, 283.0, 168.0]   \n",
       "3044  [119.0, 168.0, 301.0, 131.0, 295.0, 157.0]   \n",
       "\n",
       "                                                 entryX  \\\n",
       "176        [88.69, 108.4, 200.19, 64.58, 185.05, 116.4]   \n",
       "1384      [97.93, 107.88, 253.36, 79.15, 224.13, 131.4]   \n",
       "1652  [106.07, 109.8108, 264.41, 82.91, 234.2353, 12...   \n",
       "1693    [107.89, 112.13, 269.582, 83.44, 232.09, 124.0]   \n",
       "1780    [105.775, 112.93, 274.12, 84.24, 232.5, 125.84]   \n",
       "2139    [114.39, 121.49, 265.02, 95.35, 257.79, 113.43]   \n",
       "3044  [96.42, 123.09, 267.83, 83.5069, 272.0508, 106...   \n",
       "\n",
       "                                                  exitX  \\\n",
       "176   [88.69, 108.3423, 200.17, 64.5845, 184.84, 116.5]   \n",
       "1384    [97.86, 107.76, 252.88, 78.985, 224.01, 131.35]   \n",
       "1652  [106.22, 109.0611, 264.455, 82.9835, 234.55, 1...   \n",
       "1693   [107.8575, 111.71, 269.96, 83.55, 231.92, 123.7]   \n",
       "1780  [105.73, 112.83, 274.0657, 84.1828, 232.65, 12...   \n",
       "2139  [114.51, 121.63, 270.993, 95.39, 257.8232, 113...   \n",
       "3044  [96.43, 123.21, 267.57, 83.51, 272.3026, 106.5...   \n",
       "\n",
       "      initialPortfolioValue  trade_profit  trade_returns  \n",
       "176             338407.8800    -1765.4075      -0.005217  \n",
       "1384            389553.5400    -1974.2100      -0.005068  \n",
       "1652            391483.3909    -1033.0999      -0.002639  \n",
       "1693            398506.8080    -3615.4170      -0.009072  \n",
       "1780            397692.4600    -2674.8502      -0.006726  \n",
       "2139            404869.2400    -2027.9916      -0.005009  \n",
       "3044            418125.3999    -1850.3223      -0.004425  "
      ]
     },
     "execution_count": 33,
     "metadata": {},
     "output_type": "execute_result"
    }
   ],
   "source": [
    "tradeLog.loc[tradeLog['trade_returns'] <= -0.0025]"
   ]
  },
  {
   "cell_type": "code",
   "execution_count": null,
   "metadata": {},
   "outputs": [],
   "source": []
  }
 ],
 "metadata": {
  "kernelspec": {
   "display_name": "Python 3",
   "language": "python",
   "name": "python3"
  },
  "language_info": {
   "codemirror_mode": {
    "name": "ipython",
    "version": 3
   },
   "file_extension": ".py",
   "mimetype": "text/x-python",
   "name": "python",
   "nbconvert_exporter": "python",
   "pygments_lexer": "ipython3",
   "version": "3.8.5"
  }
 },
 "nbformat": 4,
 "nbformat_minor": 4
}
