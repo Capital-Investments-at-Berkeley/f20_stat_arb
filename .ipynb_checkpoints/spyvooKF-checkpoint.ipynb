{
 "cells": [
  {
   "cell_type": "code",
   "execution_count": 1,
   "metadata": {},
   "outputs": [],
   "source": [
    "import pandas as pd\n",
    "from pykalman import KalmanFilter\n",
    "import numpy as np\n",
    "import matplotlib.pyplot as plt\n",
    "import statsmodels.api as sm\n",
    "import datetime as dt"
   ]
  },
  {
   "cell_type": "code",
   "execution_count": 2,
   "metadata": {},
   "outputs": [
    {
     "data": {
      "text/html": [
       "<div>\n",
       "<style scoped>\n",
       "    .dataframe tbody tr th:only-of-type {\n",
       "        vertical-align: middle;\n",
       "    }\n",
       "\n",
       "    .dataframe tbody tr th {\n",
       "        vertical-align: top;\n",
       "    }\n",
       "\n",
       "    .dataframe thead th {\n",
       "        text-align: right;\n",
       "    }\n",
       "</style>\n",
       "<table border=\"1\" class=\"dataframe\">\n",
       "  <thead>\n",
       "    <tr style=\"text-align: right;\">\n",
       "      <th></th>\n",
       "      <th>datetime</th>\n",
       "      <th>spyprice</th>\n",
       "      <th>vooprice</th>\n",
       "    </tr>\n",
       "  </thead>\n",
       "  <tbody>\n",
       "    <tr>\n",
       "      <th>135486250</th>\n",
       "      <td>2020-10-30 15:49:59.987597</td>\n",
       "      <td>324.12</td>\n",
       "      <td>297.77</td>\n",
       "    </tr>\n",
       "    <tr>\n",
       "      <th>135486251</th>\n",
       "      <td>2020-10-30 15:49:59.987600</td>\n",
       "      <td>324.12</td>\n",
       "      <td>297.77</td>\n",
       "    </tr>\n",
       "    <tr>\n",
       "      <th>135486252</th>\n",
       "      <td>2020-10-30 15:49:59.989840</td>\n",
       "      <td>324.13</td>\n",
       "      <td>297.77</td>\n",
       "    </tr>\n",
       "    <tr>\n",
       "      <th>135486253</th>\n",
       "      <td>2020-10-30 15:49:59.992486</td>\n",
       "      <td>324.12</td>\n",
       "      <td>297.77</td>\n",
       "    </tr>\n",
       "    <tr>\n",
       "      <th>135486254</th>\n",
       "      <td>2020-10-30 15:49:59.998130</td>\n",
       "      <td>324.14</td>\n",
       "      <td>297.77</td>\n",
       "    </tr>\n",
       "  </tbody>\n",
       "</table>\n",
       "</div>"
      ],
      "text/plain": [
       "                             datetime  spyprice  vooprice\n",
       "135486250  2020-10-30 15:49:59.987597    324.12    297.77\n",
       "135486251  2020-10-30 15:49:59.987600    324.12    297.77\n",
       "135486252  2020-10-30 15:49:59.989840    324.13    297.77\n",
       "135486253  2020-10-30 15:49:59.992486    324.12    297.77\n",
       "135486254  2020-10-30 15:49:59.998130    324.14    297.77"
      ]
     },
     "execution_count": 2,
     "metadata": {},
     "output_type": "execute_result"
    }
   ],
   "source": [
    "data = pd.read_csv('./data/spyvooTicks.csv')\n",
    "data = data.dropna()\n",
    "data.tail()"
   ]
  },
  {
   "cell_type": "code",
   "execution_count": 3,
   "metadata": {},
   "outputs": [
    {
     "data": {
      "text/html": [
       "<div>\n",
       "<style scoped>\n",
       "    .dataframe tbody tr th:only-of-type {\n",
       "        vertical-align: middle;\n",
       "    }\n",
       "\n",
       "    .dataframe tbody tr th {\n",
       "        vertical-align: top;\n",
       "    }\n",
       "\n",
       "    .dataframe thead th {\n",
       "        text-align: right;\n",
       "    }\n",
       "</style>\n",
       "<table border=\"1\" class=\"dataframe\">\n",
       "  <thead>\n",
       "    <tr style=\"text-align: right;\">\n",
       "      <th></th>\n",
       "      <th>spyprice</th>\n",
       "      <th>vooprice</th>\n",
       "    </tr>\n",
       "    <tr>\n",
       "      <th>datetime</th>\n",
       "      <th></th>\n",
       "      <th></th>\n",
       "    </tr>\n",
       "  </thead>\n",
       "  <tbody>\n",
       "    <tr>\n",
       "      <th>2020-10-26</th>\n",
       "      <td>338.704965</td>\n",
       "      <td>311.164373</td>\n",
       "    </tr>\n",
       "    <tr>\n",
       "      <th>2020-10-27</th>\n",
       "      <td>339.052535</td>\n",
       "      <td>311.487456</td>\n",
       "    </tr>\n",
       "    <tr>\n",
       "      <th>2020-10-28</th>\n",
       "      <td>328.982052</td>\n",
       "      <td>302.224633</td>\n",
       "    </tr>\n",
       "    <tr>\n",
       "      <th>2020-10-29</th>\n",
       "      <td>329.833554</td>\n",
       "      <td>303.003233</td>\n",
       "    </tr>\n",
       "    <tr>\n",
       "      <th>2020-10-30</th>\n",
       "      <td>324.823462</td>\n",
       "      <td>298.398602</td>\n",
       "    </tr>\n",
       "  </tbody>\n",
       "</table>\n",
       "</div>"
      ],
      "text/plain": [
       "              spyprice    vooprice\n",
       "datetime                          \n",
       "2020-10-26  338.704965  311.164373\n",
       "2020-10-27  339.052535  311.487456\n",
       "2020-10-28  328.982052  302.224633\n",
       "2020-10-29  329.833554  303.003233\n",
       "2020-10-30  324.823462  298.398602"
      ]
     },
     "execution_count": 3,
     "metadata": {},
     "output_type": "execute_result"
    }
   ],
   "source": [
    "data['datetime'] = pd.to_datetime(data[\"datetime\"])\n",
    "data['dayperiod'] = data['datetime'].dt.to_period('D')\n",
    "kalmanData = data.set_index('datetime').groupby(pd.Grouper(freq='d')).mean().dropna(how='all')\n",
    "kalmanData.tail()"
   ]
  },
  {
   "cell_type": "code",
   "execution_count": 4,
   "metadata": {},
   "outputs": [],
   "source": [
    "vooprice = kalmanData['vooprice'].to_numpy()\n",
    "spyprice = kalmanData['spyprice'].to_numpy()\n",
    "obs_mat = sm.add_constant(np.log(vooprice), prepend=False)[:, np.newaxis]\n",
    "delta = 1e-5\n",
    "trans_cov = delta / (1 - delta) * np.eye(2)\n",
    "firstY = np.log(spyprice[0])\n",
    "firstX = np.log(vooprice[0])\n",
    "kf = KalmanFilter(n_dim_obs = 1, n_dim_state = 2,\n",
    "                  initial_state_mean = [firstY / firstX, 0.0],\n",
    "                  initial_state_covariance = np.ones((2,2)),\n",
    "                  transition_matrices = np.eye(2), \n",
    "                  observation_matrices = obs_mat,\n",
    "                  observation_covariance = 0.5,\n",
    "                  transition_covariance= trans_cov)"
   ]
  },
  {
   "cell_type": "code",
   "execution_count": 5,
   "metadata": {},
   "outputs": [],
   "source": [
    "state_means, state_covs = kf.filter(np.log(spyprice))\n",
    "slope=state_means[:, 0] \n",
    "intercept=state_means[:, 1]"
   ]
  },
  {
   "cell_type": "code",
   "execution_count": 6,
   "metadata": {},
   "outputs": [
    {
     "data": {
      "text/html": [
       "<div>\n",
       "<style scoped>\n",
       "    .dataframe tbody tr th:only-of-type {\n",
       "        vertical-align: middle;\n",
       "    }\n",
       "\n",
       "    .dataframe tbody tr th {\n",
       "        vertical-align: top;\n",
       "    }\n",
       "\n",
       "    .dataframe thead th {\n",
       "        text-align: right;\n",
       "    }\n",
       "</style>\n",
       "<table border=\"1\" class=\"dataframe\">\n",
       "  <thead>\n",
       "    <tr style=\"text-align: right;\">\n",
       "      <th></th>\n",
       "      <th>datetime</th>\n",
       "      <th>spyprice</th>\n",
       "      <th>vooprice</th>\n",
       "      <th>dayperiod</th>\n",
       "      <th>hedgeRatio</th>\n",
       "    </tr>\n",
       "  </thead>\n",
       "  <tbody>\n",
       "    <tr>\n",
       "      <th>135486250</th>\n",
       "      <td>2020-10-30 15:49:59.987597</td>\n",
       "      <td>324.12</td>\n",
       "      <td>297.77</td>\n",
       "      <td>2020-10-30</td>\n",
       "      <td>1.014751</td>\n",
       "    </tr>\n",
       "    <tr>\n",
       "      <th>135486251</th>\n",
       "      <td>2020-10-30 15:49:59.987600</td>\n",
       "      <td>324.12</td>\n",
       "      <td>297.77</td>\n",
       "      <td>2020-10-30</td>\n",
       "      <td>1.014751</td>\n",
       "    </tr>\n",
       "    <tr>\n",
       "      <th>135486252</th>\n",
       "      <td>2020-10-30 15:49:59.989840</td>\n",
       "      <td>324.13</td>\n",
       "      <td>297.77</td>\n",
       "      <td>2020-10-30</td>\n",
       "      <td>1.014751</td>\n",
       "    </tr>\n",
       "    <tr>\n",
       "      <th>135486253</th>\n",
       "      <td>2020-10-30 15:49:59.992486</td>\n",
       "      <td>324.12</td>\n",
       "      <td>297.77</td>\n",
       "      <td>2020-10-30</td>\n",
       "      <td>1.014751</td>\n",
       "    </tr>\n",
       "    <tr>\n",
       "      <th>135486254</th>\n",
       "      <td>2020-10-30 15:49:59.998130</td>\n",
       "      <td>324.14</td>\n",
       "      <td>297.77</td>\n",
       "      <td>2020-10-30</td>\n",
       "      <td>1.014751</td>\n",
       "    </tr>\n",
       "  </tbody>\n",
       "</table>\n",
       "</div>"
      ],
      "text/plain": [
       "                            datetime  spyprice  vooprice   dayperiod  \\\n",
       "135486250 2020-10-30 15:49:59.987597    324.12    297.77  2020-10-30   \n",
       "135486251 2020-10-30 15:49:59.987600    324.12    297.77  2020-10-30   \n",
       "135486252 2020-10-30 15:49:59.989840    324.13    297.77  2020-10-30   \n",
       "135486253 2020-10-30 15:49:59.992486    324.12    297.77  2020-10-30   \n",
       "135486254 2020-10-30 15:49:59.998130    324.14    297.77  2020-10-30   \n",
       "\n",
       "           hedgeRatio  \n",
       "135486250    1.014751  \n",
       "135486251    1.014751  \n",
       "135486252    1.014751  \n",
       "135486253    1.014751  \n",
       "135486254    1.014751  "
      ]
     },
     "execution_count": 6,
     "metadata": {},
     "output_type": "execute_result"
    }
   ],
   "source": [
    "dailyHedgeRatios = pd.DataFrame(index=kalmanData.index, data={\"slope\": slope})\n",
    "data['hedgeRatio'] = [dailyHedgeRatios['slope'].loc[data['dayperiod'].iloc[i].to_timestamp()] for i in range(len(data))]\n",
    "#dailyHedgeRatios['slope'].loc[dt.datetime(year=2020, month=10, day=30)]\n",
    "data.tail()"
   ]
  },
  {
   "cell_type": "code",
   "execution_count": 7,
   "metadata": {},
   "outputs": [],
   "source": [
    "#data.to_csv(\"./data/spyvooDailyHedgeRatio.csv\")"
   ]
  },
  {
   "cell_type": "code",
   "execution_count": 8,
   "metadata": {},
   "outputs": [],
   "source": [
    "#sizes = data.groupby('day_period').count()[‘spyprice’].values\n",
    "#lst = sum([[s]*sizes[i] for i, s in enumerate(slope)], [])\n",
    "#data['hedgeRatio'] = lst"
   ]
  },
  {
   "cell_type": "code",
   "execution_count": 9,
   "metadata": {},
   "outputs": [
    {
     "data": {
      "text/plain": [
       "<matplotlib.lines.Line2D at 0x16208615160>"
      ]
     },
     "execution_count": 9,
     "metadata": {},
     "output_type": "execute_result"
    },
    {
     "data": {
      "image/png": "[encoded data removed]",
      "text/plain": [
       "<Figure size 1080x504 with 1 Axes>"
      ]
     },
     "metadata": {
      "needs_background": "light"
     },
     "output_type": "display_data"
    }
   ],
   "source": [
    "spread_ts = np.log(data['spyprice'].values) - data['hedgeRatio'].values * np.log(data['vooprice'].values)\n",
    "plt.figure(figsize = (15,7))\n",
    "plt.plot(spread_ts)\n",
    "plt.title(\"Spread based on Dynamic Hedge Ratio\")\n",
    "plt.ylabel(\"Log Spread ($)\")\n",
    "plt.xlabel(\"Date\")\n",
    "spread_avg = spread_ts.mean()\n",
    "spread_sd = spread_ts.std()\n",
    "upper_threshold = spread_avg + spread_sd\n",
    "lower_threshold = spread_avg - spread_sd\n",
    "plt.axhline(upper_threshold, linestyle = 'dashed', color = 'g')\n",
    "plt.axhline(spread_avg, linestyle = 'dashed', color = 'y')\n",
    "plt.axhline(lower_threshold, linestyle = 'dashed', color = 'r')"
   ]
  },
  {
   "cell_type": "code",
   "execution_count": 10,
   "metadata": {},
   "outputs": [
    {
     "data": {
      "text/html": [
       "<div>\n",
       "<style scoped>\n",
       "    .dataframe tbody tr th:only-of-type {\n",
       "        vertical-align: middle;\n",
       "    }\n",
       "\n",
       "    .dataframe tbody tr th {\n",
       "        vertical-align: top;\n",
       "    }\n",
       "\n",
       "    .dataframe thead th {\n",
       "        text-align: right;\n",
       "    }\n",
       "</style>\n",
       "<table border=\"1\" class=\"dataframe\">\n",
       "  <thead>\n",
       "    <tr style=\"text-align: right;\">\n",
       "      <th></th>\n",
       "      <th>datetime</th>\n",
       "      <th>spread</th>\n",
       "      <th>spyprice</th>\n",
       "      <th>vooprice</th>\n",
       "      <th>dailyHedgeRatio</th>\n",
       "    </tr>\n",
       "  </thead>\n",
       "  <tbody>\n",
       "    <tr>\n",
       "      <th>135486250</th>\n",
       "      <td>2020-10-30 15:49:59.987597</td>\n",
       "      <td>0.000766</td>\n",
       "      <td>324.12</td>\n",
       "      <td>297.77</td>\n",
       "      <td>1.014751</td>\n",
       "    </tr>\n",
       "    <tr>\n",
       "      <th>135486251</th>\n",
       "      <td>2020-10-30 15:49:59.987600</td>\n",
       "      <td>0.000766</td>\n",
       "      <td>324.12</td>\n",
       "      <td>297.77</td>\n",
       "      <td>1.014751</td>\n",
       "    </tr>\n",
       "    <tr>\n",
       "      <th>135486252</th>\n",
       "      <td>2020-10-30 15:49:59.989840</td>\n",
       "      <td>0.000797</td>\n",
       "      <td>324.13</td>\n",
       "      <td>297.77</td>\n",
       "      <td>1.014751</td>\n",
       "    </tr>\n",
       "    <tr>\n",
       "      <th>135486253</th>\n",
       "      <td>2020-10-30 15:49:59.992486</td>\n",
       "      <td>0.000766</td>\n",
       "      <td>324.12</td>\n",
       "      <td>297.77</td>\n",
       "      <td>1.014751</td>\n",
       "    </tr>\n",
       "    <tr>\n",
       "      <th>135486254</th>\n",
       "      <td>2020-10-30 15:49:59.998130</td>\n",
       "      <td>0.000828</td>\n",
       "      <td>324.14</td>\n",
       "      <td>297.77</td>\n",
       "      <td>1.014751</td>\n",
       "    </tr>\n",
       "  </tbody>\n",
       "</table>\n",
       "</div>"
      ],
      "text/plain": [
       "                            datetime    spread  spyprice  vooprice  \\\n",
       "135486250 2020-10-30 15:49:59.987597  0.000766    324.12    297.77   \n",
       "135486251 2020-10-30 15:49:59.987600  0.000766    324.12    297.77   \n",
       "135486252 2020-10-30 15:49:59.989840  0.000797    324.13    297.77   \n",
       "135486253 2020-10-30 15:49:59.992486  0.000766    324.12    297.77   \n",
       "135486254 2020-10-30 15:49:59.998130  0.000828    324.14    297.77   \n",
       "\n",
       "           dailyHedgeRatio  \n",
       "135486250         1.014751  \n",
       "135486251         1.014751  \n",
       "135486252         1.014751  \n",
       "135486253         1.014751  \n",
       "135486254         1.014751  "
      ]
     },
     "execution_count": 10,
     "metadata": {},
     "output_type": "execute_result"
    }
   ],
   "source": [
    "d = {'datetime': data['datetime'], 'spread': spread_ts, 'spyprice': data['spyprice'], 'vooprice': data['vooprice'], 'dailyHedgeRatio': data['hedgeRatio']}\n",
    "spread = pd.DataFrame(index=data.index, data=d)\n",
    "spread.tail()"
   ]
  },
  {
   "cell_type": "code",
   "execution_count": 11,
   "metadata": {},
   "outputs": [],
   "source": [
    "#spread.to_csv('./data/spyvooSpreadTSDailyHedgeRatio.csv')"
   ]
  },
  {
   "cell_type": "code",
   "execution_count": null,
   "metadata": {},
   "outputs": [],
   "source": []
  }
 ],
 "metadata": {
  "kernelspec": {
   "display_name": "Python 3",
   "language": "python",
   "name": "python3"
  },
  "language_info": {
   "codemirror_mode": {
    "name": "ipython",
    "version": 3
   },
   "file_extension": ".py",
   "mimetype": "text/x-python",
   "name": "python",
   "nbconvert_exporter": "python",
   "pygments_lexer": "ipython3",
   "version": "3.8.5"
  }
 },
 "nbformat": 4,
 "nbformat_minor": 4
}
