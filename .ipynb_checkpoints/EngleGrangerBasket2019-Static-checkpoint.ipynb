{
 "cells": [
  {
   "cell_type": "code",
   "execution_count": 1,
   "metadata": {},
   "outputs": [],
   "source": [
    "import pandas as pd\n",
    "import functions as fn\n",
    "import numpy as np\n",
    "import matplotlib.pyplot as plt"
   ]
  },
  {
   "cell_type": "markdown",
   "metadata": {},
   "source": [
    "# Constructing Synthetic Basket\n",
    "\n",
    "1. Calculates the cointegration score of each NASDAQ100 component present in 2018 and 2019 against the QQQ ETF for the year 2018\n",
    "2. Selects subset of NASDAQ100 components that have a cointegration p-value below 0.2\n",
    "3. Create a powerset of the cointegrated subset and calculate the cointegration score of the subset against the QQQ ETF\n",
    "4. Select most cointegrated subset as our synthetic basket which is, by design, cointegrated with QQQ in 2018"
   ]
  },
  {
   "cell_type": "code",
   "execution_count": 2,
   "metadata": {},
   "outputs": [],
   "source": [
    "tickers = pd.read_csv(\"../data/nasdaq_comps_2016-2020.csv\")"
   ]
  },
  {
   "cell_type": "markdown",
   "metadata": {},
   "source": [
    "### Engle-Granger Two-Step Method\n",
    "We use the Engle-Granger Two-Step method in our initial step to calculate the cointegration between each NASDAQ100 component and the QQQ ETF.  NASDAQ100 components are chosen if they are a component during both our basket formation period (2018) and our trading period (2019)."
   ]
  },
  {
   "cell_type": "code",
   "execution_count": 3,
   "metadata": {},
   "outputs": [
    {
     "name": "stdout",
     "output_type": "stream",
     "text": [
      "[*********************100%***********************]  1 of 1 completed\n",
      "[*********************100%***********************]  1 of 1 completed\n",
      "ILMN\n",
      "[*********************100%***********************]  1 of 1 completed\n",
      "FISV\n",
      "[*********************100%***********************]  1 of 1 completed\n",
      "ADSK\n",
      "[*********************100%***********************]  1 of 1 completed\n",
      "ISRG\n",
      "[*********************100%***********************]  1 of 1 completed\n",
      "\n",
      "1 Failed download:\n",
      "- CELG: No data found, symbol may be delisted\n",
      "err\n",
      "[*********************100%***********************]  1 of 1 completed\n",
      "MSFT\n",
      "[*********************100%***********************]  1 of 1 completed\n",
      "PYPL\n",
      "[*********************100%***********************]  1 of 1 completed\n",
      "MNST\n",
      "[*********************100%***********************]  1 of 1 completed\n",
      "HSIC\n",
      "[*********************100%***********************]  1 of 1 completed\n",
      "ALGN\n",
      "[*********************100%***********************]  1 of 1 completed\n",
      "ATVI\n",
      "[*********************100%***********************]  1 of 1 completed\n",
      "NVDA\n",
      "[*********************100%***********************]  1 of 1 completed\n",
      "MAR\n",
      "[*********************100%***********************]  1 of 1 completed\n",
      "LRCX\n",
      "[*********************100%***********************]  1 of 1 completed\n",
      "AVGO\n",
      "[*********************100%***********************]  1 of 1 completed\n",
      "BKNG\n",
      "[*********************100%***********************]  1 of 1 completed\n",
      "VRTX\n",
      "[*********************100%***********************]  1 of 1 completed\n",
      "TSLA\n",
      "[*********************100%***********************]  1 of 1 completed\n",
      "INTC\n",
      "[*********************100%***********************]  1 of 1 completed\n",
      "AAL\n",
      "[*********************100%***********************]  1 of 1 completed\n",
      "WYNN\n",
      "[*********************100%***********************]  1 of 1 completed\n",
      "IDXX\n",
      "[*********************100%***********************]  1 of 1 completed\n",
      "\n",
      "1 Failed download:\n",
      "- FOXA: Data doesn't exist for startDate = 1514793600, endDate = 1546243200\n",
      "err\n",
      "[*********************100%***********************]  1 of 1 completed\n",
      "TTWO\n",
      "[*********************100%***********************]  1 of 1 completed\n",
      "GOOG\n",
      "[*********************100%***********************]  1 of 1 completed\n",
      "MDLZ\n",
      "[*********************100%***********************]  1 of 1 completed\n",
      "err\n",
      "[*********************100%***********************]  1 of 1 completed\n",
      "DLTR\n",
      "[*********************100%***********************]  1 of 1 completed\n",
      "SWKS\n",
      "[*********************100%***********************]  1 of 1 completed\n",
      "FAST\n",
      "[*********************100%***********************]  1 of 1 completed\n",
      "ADI\n",
      "[*********************100%***********************]  1 of 1 completed\n",
      "CHKP\n",
      "[*********************100%***********************]  1 of 1 completed\n",
      "ADP\n",
      "[*********************100%***********************]  1 of 1 completed\n",
      "CSX\n",
      "[*********************100%***********************]  1 of 1 completed\n",
      "SIRI\n",
      "[*********************100%***********************]  1 of 1 completed\n",
      "GILD\n",
      "[*********************100%***********************]  1 of 1 completed\n",
      "NFLX\n",
      "[*********************100%***********************]  1 of 1 completed\n",
      "\n",
      "1 Failed download:\n",
      "- CTRP: No data found, symbol may be delisted\n",
      "err\n",
      "[*********************100%***********************]  1 of 1 completed\n",
      "\n",
      "1 Failed download:\n",
      "- SYMC: No data found, symbol may be delisted\n",
      "err\n",
      "[*********************100%***********************]  1 of 1 completed\n",
      "INCY\n",
      "[*********************100%***********************]  1 of 1 completed\n",
      "COST\n",
      "[*********************100%***********************]  1 of 1 completed\n",
      "PAYX\n",
      "[*********************100%***********************]  1 of 1 completed\n",
      "CTSH\n",
      "[*********************100%***********************]  1 of 1 completed\n",
      "JD\n",
      "[*********************100%***********************]  1 of 1 completed\n",
      "CTXS\n",
      "[*********************100%***********************]  1 of 1 completed\n",
      "ROST\n",
      "[*********************100%***********************]  1 of 1 completed\n",
      "WDC\n",
      "[*********************100%***********************]  1 of 1 completed\n",
      "MCHP\n",
      "[*********************100%***********************]  1 of 1 completed\n",
      "BIDU\n",
      "[*********************100%***********************]  1 of 1 completed\n",
      "EA\n",
      "[*********************100%***********************]  1 of 1 completed\n",
      "AAPL\n",
      "[*********************100%***********************]  1 of 1 completed\n",
      "INTU\n",
      "[*********************100%***********************]  1 of 1 completed\n",
      "LBTYA\n",
      "[*********************100%***********************]  1 of 1 completed\n",
      "CDNS\n",
      "[*********************100%***********************]  1 of 1 completed\n",
      "FB\n",
      "[*********************100%***********************]  1 of 1 completed\n",
      "NTES\n",
      "[*********************100%***********************]  1 of 1 completed\n",
      "SBUX\n",
      "[*********************100%***********************]  1 of 1 completed\n",
      "WBA\n",
      "[*********************100%***********************]  1 of 1 completed\n",
      "MELI\n",
      "[*********************100%***********************]  1 of 1 completed\n",
      "CTAS\n",
      "[*********************100%***********************]  1 of 1 completed\n",
      "BIIB\n",
      "[*********************100%***********************]  1 of 1 completed\n",
      "AMZN\n",
      "[*********************100%***********************]  1 of 1 completed\n",
      "AMAT\n",
      "[*********************100%***********************]  1 of 1 completed\n",
      "TXN\n",
      "[*********************100%***********************]  1 of 1 completed\n",
      "QCOM\n",
      "[*********************100%***********************]  1 of 1 completed\n",
      "JBHT\n",
      "[*********************100%***********************]  1 of 1 completed\n",
      "CSCO\n",
      "[*********************100%***********************]  1 of 1 completed\n",
      "ASML\n",
      "[*********************100%***********************]  1 of 1 completed\n",
      "SNPS\n",
      "[*********************100%***********************]  1 of 1 completed\n",
      "CERN\n",
      "[*********************100%***********************]  1 of 1 completed\n",
      "TMUS\n",
      "[*********************100%***********************]  1 of 1 completed\n",
      "PCAR\n",
      "[*********************100%***********************]  1 of 1 completed\n",
      "BMRN\n",
      "[*********************100%***********************]  1 of 1 completed\n",
      "MYL\n",
      "[*********************100%***********************]  1 of 1 completed\n",
      "VRSK\n",
      "[*********************100%***********************]  1 of 1 completed\n",
      "EXPE\n",
      "[*********************100%***********************]  1 of 1 completed\n",
      "MU\n",
      "[*********************100%***********************]  1 of 1 completed\n",
      "ADBE\n",
      "[*********************100%***********************]  1 of 1 completed\n",
      "AMGN\n",
      "[*********************100%***********************]  1 of 1 completed\n",
      "ALXN\n",
      "[*********************100%***********************]  1 of 1 completed\n",
      "ULTA\n",
      "[*********************100%***********************]  1 of 1 completed\n",
      "KLAC\n",
      "[*********************100%***********************]  1 of 1 completed\n",
      "LBTYK\n",
      "[*********************100%***********************]  1 of 1 completed\n",
      "\n",
      "1 Failed download:\n",
      "- FOX: Data doesn't exist for startDate = 1514793600, endDate = 1546243200\n",
      "err\n",
      "[*********************100%***********************]  1 of 1 completed\n",
      "CHTR\n",
      "[*********************100%***********************]  1 of 1 completed\n",
      "WDAY\n",
      "[*********************100%***********************]  1 of 1 completed\n",
      "MXIM\n",
      "[*********************100%***********************]  1 of 1 completed\n",
      "KHC\n",
      "[*********************100%***********************]  1 of 1 completed\n",
      "ORLY\n",
      "[*********************100%***********************]  1 of 1 completed\n",
      "XLNX\n",
      "[*********************100%***********************]  1 of 1 completed\n",
      "REGN\n",
      "[*********************100%***********************]  1 of 1 completed\n",
      "HAS\n",
      "[*********************100%***********************]  1 of 1 completed\n",
      "EBAY\n"
     ]
    }
   ],
   "source": [
    "tickers = list(set(tickers['2019']).intersection(set(tickers['2018'])))\n",
    "etf = 'QQQ'\n",
    "start = '2018-01-01'\n",
    "end = '2018-12-31'\n",
    "cointegrationResultsIndividual = fn.runCointTestIndividual(etf, tickers, start, end)"
   ]
  },
  {
   "cell_type": "code",
   "execution_count": 4,
   "metadata": {},
   "outputs": [
    {
     "data": {
      "text/html": [
       "<div>\n",
       "<style scoped>\n",
       "    .dataframe tbody tr th:only-of-type {\n",
       "        vertical-align: middle;\n",
       "    }\n",
       "\n",
       "    .dataframe tbody tr th {\n",
       "        vertical-align: top;\n",
       "    }\n",
       "\n",
       "    .dataframe thead th {\n",
       "        text-align: right;\n",
       "    }\n",
       "</style>\n",
       "<table border=\"1\" class=\"dataframe\">\n",
       "  <thead>\n",
       "    <tr style=\"text-align: right;\">\n",
       "      <th></th>\n",
       "      <th>ticker</th>\n",
       "      <th>t-stat</th>\n",
       "      <th>pval</th>\n",
       "    </tr>\n",
       "  </thead>\n",
       "  <tbody>\n",
       "    <tr>\n",
       "      <th>91</th>\n",
       "      <td>HAS</td>\n",
       "      <td>-3.476138</td>\n",
       "      <td>0.034570</td>\n",
       "    </tr>\n",
       "    <tr>\n",
       "      <th>50</th>\n",
       "      <td>AAPL</td>\n",
       "      <td>-3.268703</td>\n",
       "      <td>0.059170</td>\n",
       "    </tr>\n",
       "    <tr>\n",
       "      <th>23</th>\n",
       "      <td>TTWO</td>\n",
       "      <td>-3.186715</td>\n",
       "      <td>0.072178</td>\n",
       "    </tr>\n",
       "    <tr>\n",
       "      <th>21</th>\n",
       "      <td>IDXX</td>\n",
       "      <td>-3.156778</td>\n",
       "      <td>0.077458</td>\n",
       "    </tr>\n",
       "    <tr>\n",
       "      <th>56</th>\n",
       "      <td>SBUX</td>\n",
       "      <td>-3.125705</td>\n",
       "      <td>0.083256</td>\n",
       "    </tr>\n",
       "    <tr>\n",
       "      <th>59</th>\n",
       "      <td>CTAS</td>\n",
       "      <td>-3.089389</td>\n",
       "      <td>0.090454</td>\n",
       "    </tr>\n",
       "    <tr>\n",
       "      <th>79</th>\n",
       "      <td>ALXN</td>\n",
       "      <td>-2.892722</td>\n",
       "      <td>0.137956</td>\n",
       "    </tr>\n",
       "    <tr>\n",
       "      <th>9</th>\n",
       "      <td>ALGN</td>\n",
       "      <td>-2.865327</td>\n",
       "      <td>0.145781</td>\n",
       "    </tr>\n",
       "    <tr>\n",
       "      <th>72</th>\n",
       "      <td>BMRN</td>\n",
       "      <td>-2.797488</td>\n",
       "      <td>0.166485</td>\n",
       "    </tr>\n",
       "    <tr>\n",
       "      <th>41</th>\n",
       "      <td>PAYX</td>\n",
       "      <td>-2.703154</td>\n",
       "      <td>0.198446</td>\n",
       "    </tr>\n",
       "  </tbody>\n",
       "</table>\n",
       "</div>"
      ],
      "text/plain": [
       "   ticker    t-stat      pval\n",
       "91    HAS -3.476138  0.034570\n",
       "50   AAPL -3.268703  0.059170\n",
       "23   TTWO -3.186715  0.072178\n",
       "21   IDXX -3.156778  0.077458\n",
       "56   SBUX -3.125705  0.083256\n",
       "59   CTAS -3.089389  0.090454\n",
       "79   ALXN -2.892722  0.137956\n",
       "9    ALGN -2.865327  0.145781\n",
       "72   BMRN -2.797488  0.166485\n",
       "41   PAYX -2.703154  0.198446"
      ]
     },
     "execution_count": 4,
     "metadata": {},
     "output_type": "execute_result"
    }
   ],
   "source": [
    "cointegrationResultsIndividual.head(10)"
   ]
  },
  {
   "cell_type": "markdown",
   "metadata": {},
   "source": [
    "### Synthetic Basket Construction\n",
    "Based on the Engle-Granger cointegration test performed, we select the subset of the NASDAQ100 components that have a cointegration test p-value of less than 0.2 to be candidates for our synthetic basket.  We create every possible basket that can be constructed by any combination of the components in our subset and run another Engle-Granger cointegration test.  This time we run the cointegration test of the ETF against the sum of the components in our basket.  The most cointegrated synthetic basket is selected to be traded in the trading period (2019)."
   ]
  },
  {
   "cell_type": "code",
   "execution_count": 5,
   "metadata": {},
   "outputs": [
    {
     "name": "stdout",
     "output_type": "stream",
     "text": [
      "[*********************100%***********************]  1 of 1 completed\n",
      "[*********************100%***********************]  10 of 10 completed\n",
      "0 done, out of a total of  1013\n",
      "500 done, out of a total of  1013\n",
      "1000 done, out of a total of  1013\n"
     ]
    }
   ],
   "source": [
    "subset = cointegrationResultsIndividual.loc[cointegrationResultsIndividual['pval'] <= 0.2]\n",
    "tickers = subset['ticker'].tolist()\n",
    "etf = 'QQQ'\n",
    "start = '2018-01-01'\n",
    "end = '2018-12-31'\n",
    "synthetic_asset_rank = fn.runCointTestBasketsEG(etf, tickers, start, end)"
   ]
  },
  {
   "cell_type": "code",
   "execution_count": 6,
   "metadata": {},
   "outputs": [
    {
     "data": {
      "text/html": [
       "<div>\n",
       "<style scoped>\n",
       "    .dataframe tbody tr th:only-of-type {\n",
       "        vertical-align: middle;\n",
       "    }\n",
       "\n",
       "    .dataframe tbody tr th {\n",
       "        vertical-align: top;\n",
       "    }\n",
       "\n",
       "    .dataframe thead th {\n",
       "        text-align: right;\n",
       "    }\n",
       "</style>\n",
       "<table border=\"1\" class=\"dataframe\">\n",
       "  <thead>\n",
       "    <tr style=\"text-align: right;\">\n",
       "      <th></th>\n",
       "      <th>ticker</th>\n",
       "      <th>t-stat</th>\n",
       "      <th>pval</th>\n",
       "    </tr>\n",
       "  </thead>\n",
       "  <tbody>\n",
       "    <tr>\n",
       "      <th>973</th>\n",
       "      <td>(HAS, AAPL, TTWO, SBUX, CTAS, ALXN, ALGN, PAYX)</td>\n",
       "      <td>-5.112294</td>\n",
       "      <td>0.000102</td>\n",
       "    </tr>\n",
       "    <tr>\n",
       "      <th>857</th>\n",
       "      <td>(HAS, AAPL, TTWO, SBUX, CTAS, ALXN, ALGN)</td>\n",
       "      <td>-5.082241</td>\n",
       "      <td>0.000116</td>\n",
       "    </tr>\n",
       "    <tr>\n",
       "      <th>972</th>\n",
       "      <td>(HAS, AAPL, TTWO, SBUX, CTAS, ALXN, ALGN, BMRN)</td>\n",
       "      <td>-5.054691</td>\n",
       "      <td>0.000130</td>\n",
       "    </tr>\n",
       "    <tr>\n",
       "      <th>984</th>\n",
       "      <td>(HAS, AAPL, SBUX, CTAS, ALXN, ALGN, BMRN, PAYX)</td>\n",
       "      <td>-5.047519</td>\n",
       "      <td>0.000135</td>\n",
       "    </tr>\n",
       "    <tr>\n",
       "      <th>1008</th>\n",
       "      <td>(HAS, AAPL, TTWO, SBUX, CTAS, ALXN, ALGN, BMRN...</td>\n",
       "      <td>-5.047064</td>\n",
       "      <td>0.000135</td>\n",
       "    </tr>\n",
       "  </tbody>\n",
       "</table>\n",
       "</div>"
      ],
      "text/plain": [
       "                                                 ticker    t-stat      pval\n",
       "973     (HAS, AAPL, TTWO, SBUX, CTAS, ALXN, ALGN, PAYX) -5.112294  0.000102\n",
       "857           (HAS, AAPL, TTWO, SBUX, CTAS, ALXN, ALGN) -5.082241  0.000116\n",
       "972     (HAS, AAPL, TTWO, SBUX, CTAS, ALXN, ALGN, BMRN) -5.054691  0.000130\n",
       "984     (HAS, AAPL, SBUX, CTAS, ALXN, ALGN, BMRN, PAYX) -5.047519  0.000135\n",
       "1008  (HAS, AAPL, TTWO, SBUX, CTAS, ALXN, ALGN, BMRN... -5.047064  0.000135"
      ]
     },
     "execution_count": 6,
     "metadata": {},
     "output_type": "execute_result"
    }
   ],
   "source": [
    "synthetic_asset_rank.head()"
   ]
  },
  {
   "cell_type": "markdown",
   "metadata": {},
   "source": [
    "# Constructing Multivariate Kalman Filter\n",
    "1. Construct a multivariate Kalman Filter with each stock in our synthetic basket collectively filtered against QQQ for the year 2019\n",
    "2. Using the outputted state means, calculate the value of our synthetic basket\n",
    "3. Generate the spread between our synthetic basket and the QQQ ETF.  We expect this spread to be mean-reverting"
   ]
  },
  {
   "cell_type": "code",
   "execution_count": 7,
   "metadata": {},
   "outputs": [],
   "source": [
    "# Start from 01-01-2019 and end at 12-31-2019\n",
    "qqq = pd.read_csv(\"../data/qqqMinute2019.csv\")\n",
    "has = pd.read_csv(\"../data/hasMinute2019.csv\")\n",
    "aapl = pd.read_csv(\"../data/aaplMinute2019.csv\")\n",
    "ttwo = pd.read_csv(\"../data/ttwoMinute2019.csv\")\n",
    "sbux = pd.read_csv(\"../data/sbuxMinute2019.csv\")\n",
    "ctas = pd.read_csv(\"../data/ctasMinute2019.csv\")\n",
    "alxn = pd.read_csv(\"../data/alxnMinute2019.csv\")\n",
    "algn = pd.read_csv(\"../data/algnMinute2019.csv\")\n",
    "payx = pd.read_csv(\"../data/payxMinute2019.csv\")"
   ]
  },
  {
   "cell_type": "code",
   "execution_count": 8,
   "metadata": {},
   "outputs": [
    {
     "data": {
      "text/html": [
       "<div>\n",
       "<style scoped>\n",
       "    .dataframe tbody tr th:only-of-type {\n",
       "        vertical-align: middle;\n",
       "    }\n",
       "\n",
       "    .dataframe tbody tr th {\n",
       "        vertical-align: top;\n",
       "    }\n",
       "\n",
       "    .dataframe thead th {\n",
       "        text-align: right;\n",
       "    }\n",
       "</style>\n",
       "<table border=\"1\" class=\"dataframe\">\n",
       "  <thead>\n",
       "    <tr style=\"text-align: right;\">\n",
       "      <th></th>\n",
       "      <th>qqqclose</th>\n",
       "      <th>hasclose</th>\n",
       "      <th>aaplclose</th>\n",
       "      <th>ttwoclose</th>\n",
       "      <th>sbuxclose</th>\n",
       "      <th>ctasclose</th>\n",
       "      <th>alxnclose</th>\n",
       "      <th>algnclose</th>\n",
       "      <th>payxclose</th>\n",
       "    </tr>\n",
       "  </thead>\n",
       "  <tbody>\n",
       "    <tr>\n",
       "      <th>2019-12-31 15:30:00</th>\n",
       "      <td>212.345</td>\n",
       "      <td>105.7300</td>\n",
       "      <td>293.1700</td>\n",
       "      <td>122.2000</td>\n",
       "      <td>87.6850</td>\n",
       "      <td>268.2800</td>\n",
       "      <td>108.0100</td>\n",
       "      <td>277.8000</td>\n",
       "      <td>84.8400</td>\n",
       "    </tr>\n",
       "    <tr>\n",
       "      <th>2019-12-31 15:31:00</th>\n",
       "      <td>212.330</td>\n",
       "      <td>105.7100</td>\n",
       "      <td>293.1768</td>\n",
       "      <td>122.1600</td>\n",
       "      <td>87.7050</td>\n",
       "      <td>268.3100</td>\n",
       "      <td>107.9500</td>\n",
       "      <td>277.5900</td>\n",
       "      <td>84.8500</td>\n",
       "    </tr>\n",
       "    <tr>\n",
       "      <th>2019-12-31 15:32:00</th>\n",
       "      <td>212.355</td>\n",
       "      <td>105.6972</td>\n",
       "      <td>293.1400</td>\n",
       "      <td>122.1200</td>\n",
       "      <td>87.7130</td>\n",
       "      <td>268.3200</td>\n",
       "      <td>107.9500</td>\n",
       "      <td>277.8300</td>\n",
       "      <td>84.8600</td>\n",
       "    </tr>\n",
       "    <tr>\n",
       "      <th>2019-12-31 15:33:00</th>\n",
       "      <td>212.360</td>\n",
       "      <td>105.6900</td>\n",
       "      <td>293.0200</td>\n",
       "      <td>122.1800</td>\n",
       "      <td>87.7250</td>\n",
       "      <td>268.4400</td>\n",
       "      <td>107.9550</td>\n",
       "      <td>277.8800</td>\n",
       "      <td>84.8700</td>\n",
       "    </tr>\n",
       "    <tr>\n",
       "      <th>2019-12-31 15:34:00</th>\n",
       "      <td>212.365</td>\n",
       "      <td>105.6900</td>\n",
       "      <td>293.0165</td>\n",
       "      <td>122.2200</td>\n",
       "      <td>87.7700</td>\n",
       "      <td>268.4900</td>\n",
       "      <td>107.9700</td>\n",
       "      <td>277.8200</td>\n",
       "      <td>84.8900</td>\n",
       "    </tr>\n",
       "    <tr>\n",
       "      <th>2019-12-31 15:35:00</th>\n",
       "      <td>212.385</td>\n",
       "      <td>105.6800</td>\n",
       "      <td>293.0170</td>\n",
       "      <td>122.1800</td>\n",
       "      <td>87.7650</td>\n",
       "      <td>268.4800</td>\n",
       "      <td>107.9850</td>\n",
       "      <td>278.1000</td>\n",
       "      <td>84.9100</td>\n",
       "    </tr>\n",
       "    <tr>\n",
       "      <th>2019-12-31 15:36:00</th>\n",
       "      <td>212.370</td>\n",
       "      <td>105.6500</td>\n",
       "      <td>292.9450</td>\n",
       "      <td>122.2000</td>\n",
       "      <td>87.7600</td>\n",
       "      <td>268.4793</td>\n",
       "      <td>108.0387</td>\n",
       "      <td>278.0950</td>\n",
       "      <td>84.8800</td>\n",
       "    </tr>\n",
       "    <tr>\n",
       "      <th>2019-12-31 15:37:00</th>\n",
       "      <td>212.350</td>\n",
       "      <td>105.6200</td>\n",
       "      <td>293.0400</td>\n",
       "      <td>122.1700</td>\n",
       "      <td>87.7600</td>\n",
       "      <td>268.4900</td>\n",
       "      <td>107.9800</td>\n",
       "      <td>277.8700</td>\n",
       "      <td>84.8800</td>\n",
       "    </tr>\n",
       "    <tr>\n",
       "      <th>2019-12-31 15:38:00</th>\n",
       "      <td>212.385</td>\n",
       "      <td>105.6200</td>\n",
       "      <td>293.1316</td>\n",
       "      <td>122.1298</td>\n",
       "      <td>87.7600</td>\n",
       "      <td>268.5600</td>\n",
       "      <td>108.0000</td>\n",
       "      <td>278.1000</td>\n",
       "      <td>84.9000</td>\n",
       "    </tr>\n",
       "    <tr>\n",
       "      <th>2019-12-31 15:39:00</th>\n",
       "      <td>212.355</td>\n",
       "      <td>105.6044</td>\n",
       "      <td>293.0800</td>\n",
       "      <td>122.1050</td>\n",
       "      <td>87.7500</td>\n",
       "      <td>268.5800</td>\n",
       "      <td>108.0300</td>\n",
       "      <td>278.0050</td>\n",
       "      <td>84.9300</td>\n",
       "    </tr>\n",
       "    <tr>\n",
       "      <th>2019-12-31 15:40:00</th>\n",
       "      <td>212.365</td>\n",
       "      <td>105.6000</td>\n",
       "      <td>293.0850</td>\n",
       "      <td>122.1000</td>\n",
       "      <td>87.7800</td>\n",
       "      <td>268.5400</td>\n",
       "      <td>108.0700</td>\n",
       "      <td>278.0500</td>\n",
       "      <td>84.9600</td>\n",
       "    </tr>\n",
       "    <tr>\n",
       "      <th>2019-12-31 15:41:00</th>\n",
       "      <td>212.400</td>\n",
       "      <td>105.5905</td>\n",
       "      <td>293.1800</td>\n",
       "      <td>122.1000</td>\n",
       "      <td>87.7700</td>\n",
       "      <td>268.8500</td>\n",
       "      <td>108.1340</td>\n",
       "      <td>278.2650</td>\n",
       "      <td>84.9300</td>\n",
       "    </tr>\n",
       "    <tr>\n",
       "      <th>2019-12-31 15:42:00</th>\n",
       "      <td>212.410</td>\n",
       "      <td>105.5800</td>\n",
       "      <td>293.2000</td>\n",
       "      <td>122.1067</td>\n",
       "      <td>87.7800</td>\n",
       "      <td>268.7100</td>\n",
       "      <td>108.0639</td>\n",
       "      <td>278.2900</td>\n",
       "      <td>84.9900</td>\n",
       "    </tr>\n",
       "    <tr>\n",
       "      <th>2019-12-31 15:43:00</th>\n",
       "      <td>212.415</td>\n",
       "      <td>105.5800</td>\n",
       "      <td>293.2600</td>\n",
       "      <td>122.1300</td>\n",
       "      <td>87.8200</td>\n",
       "      <td>268.7476</td>\n",
       "      <td>108.1101</td>\n",
       "      <td>278.2900</td>\n",
       "      <td>85.0000</td>\n",
       "    </tr>\n",
       "    <tr>\n",
       "      <th>2019-12-31 15:44:00</th>\n",
       "      <td>212.450</td>\n",
       "      <td>105.6100</td>\n",
       "      <td>293.3600</td>\n",
       "      <td>122.1300</td>\n",
       "      <td>87.8550</td>\n",
       "      <td>268.7650</td>\n",
       "      <td>108.1300</td>\n",
       "      <td>278.3600</td>\n",
       "      <td>84.9833</td>\n",
       "    </tr>\n",
       "    <tr>\n",
       "      <th>2019-12-31 15:45:00</th>\n",
       "      <td>212.450</td>\n",
       "      <td>105.5900</td>\n",
       "      <td>293.5099</td>\n",
       "      <td>122.1200</td>\n",
       "      <td>87.8600</td>\n",
       "      <td>268.7300</td>\n",
       "      <td>108.1300</td>\n",
       "      <td>278.5800</td>\n",
       "      <td>84.9900</td>\n",
       "    </tr>\n",
       "    <tr>\n",
       "      <th>2019-12-31 15:46:00</th>\n",
       "      <td>212.490</td>\n",
       "      <td>105.6300</td>\n",
       "      <td>293.4300</td>\n",
       "      <td>122.1500</td>\n",
       "      <td>87.8547</td>\n",
       "      <td>268.8400</td>\n",
       "      <td>108.1300</td>\n",
       "      <td>278.3543</td>\n",
       "      <td>84.9500</td>\n",
       "    </tr>\n",
       "    <tr>\n",
       "      <th>2019-12-31 15:47:00</th>\n",
       "      <td>212.495</td>\n",
       "      <td>105.5500</td>\n",
       "      <td>293.4270</td>\n",
       "      <td>122.1584</td>\n",
       "      <td>87.8550</td>\n",
       "      <td>268.7700</td>\n",
       "      <td>108.1176</td>\n",
       "      <td>278.2500</td>\n",
       "      <td>84.9450</td>\n",
       "    </tr>\n",
       "    <tr>\n",
       "      <th>2019-12-31 15:48:00</th>\n",
       "      <td>212.460</td>\n",
       "      <td>105.5400</td>\n",
       "      <td>293.3350</td>\n",
       "      <td>122.2000</td>\n",
       "      <td>87.8450</td>\n",
       "      <td>268.8000</td>\n",
       "      <td>108.1645</td>\n",
       "      <td>278.4100</td>\n",
       "      <td>84.9600</td>\n",
       "    </tr>\n",
       "    <tr>\n",
       "      <th>2019-12-31 15:49:00</th>\n",
       "      <td>212.430</td>\n",
       "      <td>105.5100</td>\n",
       "      <td>293.2700</td>\n",
       "      <td>122.2100</td>\n",
       "      <td>87.8150</td>\n",
       "      <td>268.7950</td>\n",
       "      <td>108.1300</td>\n",
       "      <td>278.4700</td>\n",
       "      <td>84.9300</td>\n",
       "    </tr>\n",
       "  </tbody>\n",
       "</table>\n",
       "</div>"
      ],
      "text/plain": [
       "                     qqqclose  hasclose  aaplclose  ttwoclose  sbuxclose  \\\n",
       "2019-12-31 15:30:00   212.345  105.7300   293.1700   122.2000    87.6850   \n",
       "2019-12-31 15:31:00   212.330  105.7100   293.1768   122.1600    87.7050   \n",
       "2019-12-31 15:32:00   212.355  105.6972   293.1400   122.1200    87.7130   \n",
       "2019-12-31 15:33:00   212.360  105.6900   293.0200   122.1800    87.7250   \n",
       "2019-12-31 15:34:00   212.365  105.6900   293.0165   122.2200    87.7700   \n",
       "2019-12-31 15:35:00   212.385  105.6800   293.0170   122.1800    87.7650   \n",
       "2019-12-31 15:36:00   212.370  105.6500   292.9450   122.2000    87.7600   \n",
       "2019-12-31 15:37:00   212.350  105.6200   293.0400   122.1700    87.7600   \n",
       "2019-12-31 15:38:00   212.385  105.6200   293.1316   122.1298    87.7600   \n",
       "2019-12-31 15:39:00   212.355  105.6044   293.0800   122.1050    87.7500   \n",
       "2019-12-31 15:40:00   212.365  105.6000   293.0850   122.1000    87.7800   \n",
       "2019-12-31 15:41:00   212.400  105.5905   293.1800   122.1000    87.7700   \n",
       "2019-12-31 15:42:00   212.410  105.5800   293.2000   122.1067    87.7800   \n",
       "2019-12-31 15:43:00   212.415  105.5800   293.2600   122.1300    87.8200   \n",
       "2019-12-31 15:44:00   212.450  105.6100   293.3600   122.1300    87.8550   \n",
       "2019-12-31 15:45:00   212.450  105.5900   293.5099   122.1200    87.8600   \n",
       "2019-12-31 15:46:00   212.490  105.6300   293.4300   122.1500    87.8547   \n",
       "2019-12-31 15:47:00   212.495  105.5500   293.4270   122.1584    87.8550   \n",
       "2019-12-31 15:48:00   212.460  105.5400   293.3350   122.2000    87.8450   \n",
       "2019-12-31 15:49:00   212.430  105.5100   293.2700   122.2100    87.8150   \n",
       "\n",
       "                     ctasclose  alxnclose  algnclose  payxclose  \n",
       "2019-12-31 15:30:00   268.2800   108.0100   277.8000    84.8400  \n",
       "2019-12-31 15:31:00   268.3100   107.9500   277.5900    84.8500  \n",
       "2019-12-31 15:32:00   268.3200   107.9500   277.8300    84.8600  \n",
       "2019-12-31 15:33:00   268.4400   107.9550   277.8800    84.8700  \n",
       "2019-12-31 15:34:00   268.4900   107.9700   277.8200    84.8900  \n",
       "2019-12-31 15:35:00   268.4800   107.9850   278.1000    84.9100  \n",
       "2019-12-31 15:36:00   268.4793   108.0387   278.0950    84.8800  \n",
       "2019-12-31 15:37:00   268.4900   107.9800   277.8700    84.8800  \n",
       "2019-12-31 15:38:00   268.5600   108.0000   278.1000    84.9000  \n",
       "2019-12-31 15:39:00   268.5800   108.0300   278.0050    84.9300  \n",
       "2019-12-31 15:40:00   268.5400   108.0700   278.0500    84.9600  \n",
       "2019-12-31 15:41:00   268.8500   108.1340   278.2650    84.9300  \n",
       "2019-12-31 15:42:00   268.7100   108.0639   278.2900    84.9900  \n",
       "2019-12-31 15:43:00   268.7476   108.1101   278.2900    85.0000  \n",
       "2019-12-31 15:44:00   268.7650   108.1300   278.3600    84.9833  \n",
       "2019-12-31 15:45:00   268.7300   108.1300   278.5800    84.9900  \n",
       "2019-12-31 15:46:00   268.8400   108.1300   278.3543    84.9500  \n",
       "2019-12-31 15:47:00   268.7700   108.1176   278.2500    84.9450  \n",
       "2019-12-31 15:48:00   268.8000   108.1645   278.4100    84.9600  \n",
       "2019-12-31 15:49:00   268.7950   108.1300   278.4700    84.9300  "
      ]
     },
     "execution_count": 8,
     "metadata": {},
     "output_type": "execute_result"
    }
   ],
   "source": [
    "qqq = qqq.set_index('date_time')\n",
    "qqq = qqq.rename(columns={'close': 'qqqclose'})\n",
    "\n",
    "has = has.set_index('date_time')\n",
    "has = has.rename(columns={'close': 'hasclose'})\n",
    "\n",
    "aapl = aapl.set_index('date_time')\n",
    "aapl = aapl.rename(columns={'close': 'aaplclose'})\n",
    "\n",
    "ttwo = ttwo.set_index('date_time')\n",
    "ttwo = ttwo.rename(columns={'close': 'ttwoclose'})\n",
    "\n",
    "sbux = sbux.set_index('date_time')\n",
    "sbux = sbux.rename(columns={'close': 'sbuxclose'})\n",
    "\n",
    "ctas = ctas.set_index('date_time')\n",
    "ctas = ctas.rename(columns={'close': 'ctasclose'})\n",
    "\n",
    "alxn = alxn.set_index('date_time')\n",
    "alxn = alxn.rename(columns={'close': 'alxnclose'})\n",
    "\n",
    "algn = algn.set_index('date_time')\n",
    "algn = algn.rename(columns={'close': 'algnclose'})\n",
    "\n",
    "payx = payx.set_index('date_time')\n",
    "payx = payx.rename(columns={'close': 'payxclose'})\n",
    "\n",
    "data = qqq[['qqqclose']].join([has[['hasclose']], aapl[['aaplclose']], ttwo[['ttwoclose']], sbux[['sbuxclose']], \n",
    "                               ctas[['ctasclose']], alxn[['alxnclose']], algn[['algnclose']], payx[['payxclose']]], \n",
    "                              how='outer')\n",
    "data = data.dropna()\n",
    "data.tail(20)"
   ]
  },
  {
   "cell_type": "code",
   "execution_count": 9,
   "metadata": {},
   "outputs": [],
   "source": [
    "syntheticAssetLogPrice = data[['hasclose', 'aaplclose', 'ttwoclose', 'sbuxclose', \n",
    "                               'ctasclose', 'alxnclose', 'algnclose', 'payxclose']].apply(np.log)\n",
    "qqqLogPrice = np.log(data['qqqclose'].values)"
   ]
  },
  {
   "cell_type": "markdown",
   "metadata": {},
   "source": [
    "### Multivariate Kalman Filter\n",
    "At every timestep, the Kalman Filter outputs estimates for the hedge ratios of each component in our synthetic basket as well as an intercept term.  In other words, it gave us all the tools to calculate an estimate for the price of QQQ based on the price of each component in our basket.  The residuals of this estimate form a mean-reverting and stationary process that we can take advantage of.  "
   ]
  },
  {
   "cell_type": "code",
   "execution_count": 10,
   "metadata": {},
   "outputs": [],
   "source": [
    "kf = fn.multivariateKalmanFilter(syntheticAssetLogPrice, qqqLogPrice)\n",
    "state_means, state_covs = kf.filter(qqqLogPrice)\n",
    "basket_size = len(syntheticAssetLogPrice.columns)\n",
    "slopes = state_means[:, np.arange(0, basket_size, 1)]\n",
    "#print(slopes[0])\n",
    "#intercept = state_means[:, basket_size]"
   ]
  },
  {
   "cell_type": "code",
   "execution_count": 11,
   "metadata": {},
   "outputs": [
    {
     "data": {
      "text/plain": [
       "<matplotlib.lines.Line2D at 0x2a6957848e0>"
      ]
     },
     "execution_count": 11,
     "metadata": {},
     "output_type": "execute_result"
    },
    {
     "data": {
      "image/png": "[encoded data removed]",
      "text/plain": [
       "<Figure size 1080x504 with 1 Axes>"
      ]
     },
     "metadata": {
      "needs_background": "light"
     },
     "output_type": "display_data"
    }
   ],
   "source": [
    "syntheticAssetEstimate = [np.dot(slopes[i], syntheticAssetLogPrice.values[i].T) for i in range(len(slopes))]\n",
    "spread_ts = qqqLogPrice - syntheticAssetEstimate\n",
    "plt.figure(figsize = (15,7))\n",
    "plt.plot(spread_ts)\n",
    "plt.title(\"Spread based on Dynamic Hedge Ratio\")\n",
    "plt.ylabel(\"Log Spread ($)\")\n",
    "plt.xlabel(\"Date\")\n",
    "spread_avg = spread_ts.mean()\n",
    "spread_sd = spread_ts.std()\n",
    "upper_threshold = spread_avg + spread_sd\n",
    "lower_threshold = spread_avg - spread_sd\n",
    "plt.axhline(upper_threshold, linestyle = 'dashed', color = 'g')\n",
    "plt.axhline(spread_avg, linestyle = 'dashed', color = 'y')\n",
    "plt.axhline(lower_threshold, linestyle = 'dashed', color = 'r')"
   ]
  },
  {
   "cell_type": "markdown",
   "metadata": {},
   "source": [
    "# Building our Strategy\n",
    "1. Using minute level data from 2018, optimize our strategy parameters by simulating the strategy performance in 2018 with different parameter combinations.  Pick the parameters that give us the highest return in 2018 and use those parameters for our strategy in 2019.\n",
    "2. Build a Bollinger Band strategy using the lookback and z-score threshold outputted by our parameter tuning module.  When the spread breaks above/below our upper/lower bands, we enter a short/long position on the spread in the minute immediately after."
   ]
  },
  {
   "cell_type": "code",
   "execution_count": 12,
   "metadata": {},
   "outputs": [],
   "source": [
    "# Start from 01-01-2018 and end at 12-31-2018\n",
    "qqq2018 = pd.read_csv(\"../data/qqqMinute2018.csv\")\n",
    "has2018 = pd.read_csv(\"../data/hasMinute2018.csv\")\n",
    "aapl2018 = pd.read_csv(\"../data/aaplMinute2018.csv\")\n",
    "ttwo2018 = pd.read_csv(\"../data/ttwoMinute2018.csv\")\n",
    "sbux2018 = pd.read_csv(\"../data/sbuxMinute2018.csv\")\n",
    "ctas2018 = pd.read_csv(\"../data/ctasMinute2018.csv\")\n",
    "alxn2018 = pd.read_csv(\"../data/alxnMinute2018.csv\")\n",
    "algn2018 = pd.read_csv(\"../data/algnMinute2018.csv\")\n",
    "payx2018 = pd.read_csv(\"../data/payxMinute2018.csv\")"
   ]
  },
  {
   "cell_type": "code",
   "execution_count": 13,
   "metadata": {},
   "outputs": [],
   "source": [
    "qqq2018 = qqq2018.set_index('date_time')\n",
    "qqq2018 = qqq2018.rename(columns={'close': 'qqqclose'})\n",
    "\n",
    "has2018 = has2018.set_index('date_time')\n",
    "has2018 = has2018.rename(columns={'close': 'hasclose'})\n",
    "\n",
    "aapl2018 = aapl2018.set_index('date_time')\n",
    "aapl2018 = aapl2018.rename(columns={'close': 'aaplclose'})\n",
    "\n",
    "ttwo2018 = ttwo2018.set_index('date_time')\n",
    "ttwo2018 = ttwo2018.rename(columns={'close': 'ttwoclose'})\n",
    "\n",
    "sbux2018 = sbux2018.set_index('date_time')\n",
    "sbux2018 = sbux2018.rename(columns={'close': 'sbuxclose'})\n",
    "\n",
    "ctas2018 = ctas2018.set_index('date_time')\n",
    "ctas2018 = ctas2018.rename(columns={'close': 'ctasclose'})\n",
    "\n",
    "alxn2018 = alxn2018.set_index('date_time')\n",
    "alxn2018 = alxn2018.rename(columns={'close': 'alxnclose'})\n",
    "\n",
    "algn2018 = algn2018.set_index('date_time')\n",
    "algn2018 = algn2018.rename(columns={'close': 'algnclose'})\n",
    "\n",
    "payx2018 = payx2018.set_index('date_time')\n",
    "payx2018 = payx2018.rename(columns={'close': 'payxclose'})\n",
    "\n",
    "data2018 = qqq2018[['qqqclose']].join([has2018[['hasclose']], aapl2018[['aaplclose']], ttwo2018[['ttwoclose']], \n",
    "                                       sbux2018[['sbuxclose']], ctas2018[['ctasclose']], alxn2018[['alxnclose']], \n",
    "                                       algn2018[['algnclose']], payx2018[['payxclose']]], \n",
    "                                      how='outer')\n",
    "data2018 = data2018.dropna()"
   ]
  },
  {
   "cell_type": "code",
   "execution_count": 14,
   "metadata": {},
   "outputs": [],
   "source": [
    "syntheticAssetLogPrice2018 = data2018[['hasclose', 'aaplclose', 'ttwoclose', 'sbuxclose', \n",
    "                               'ctasclose', 'alxnclose', 'algnclose', 'payxclose']].apply(np.log)\n",
    "qqqLogPrice2018 = np.log(data2018['qqqclose'].values)"
   ]
  },
  {
   "cell_type": "code",
   "execution_count": 15,
   "metadata": {},
   "outputs": [],
   "source": [
    "kf2018 = fn.multivariateKalmanFilter(syntheticAssetLogPrice2018, qqqLogPrice2018)\n",
    "state_means2018, state_covs2018 = kf2018.filter(qqqLogPrice2018)\n",
    "basket_size2018 = len(syntheticAssetLogPrice2018.columns)\n",
    "slopes2018 = state_means2018[:, np.arange(0, basket_size2018, 1)]\n",
    "#intercept2018 = state_means2018[:, basket_size2018]"
   ]
  },
  {
   "cell_type": "code",
   "execution_count": 16,
   "metadata": {},
   "outputs": [],
   "source": [
    "hedge_ratios2018 = np.asarray([slopes2018.T[i] for i in range(len(slopes2018.T))]).T\n",
    "hedge_ratios2018 = pd.DataFrame(hedge_ratios2018, columns=['hasHR', 'aaplHR', 'ttwoHR', 'sbuxHR', 'ctasHR', \n",
    "                                                          'alxnHR', 'algnHR', 'payxHR'])\n",
    "#hedge_ratios2018['intercept'] = intercept2018"
   ]
  },
  {
   "cell_type": "code",
   "execution_count": 17,
   "metadata": {},
   "outputs": [],
   "source": [
    "#hedge_ratios2018.to_csv(\"../hedge_ratios_2018.csv\")"
   ]
  },
  {
   "cell_type": "code",
   "execution_count": 18,
   "metadata": {},
   "outputs": [],
   "source": [
    "syntheticAssetEstimate2018 = [np.dot(slopes2018[i], syntheticAssetLogPrice2018.values[i].T)\n",
    "                              for i in range(len(slopes2018))]\n",
    "spread_ts2018 = qqqLogPrice2018 - syntheticAssetEstimate2018\n",
    "data2018.reset_index(inplace=True)\n",
    "data2018 = data2018.rename(columns={'index': 'datetime'})\n",
    "data2018['logspread'] = spread_ts2018\n",
    "data2018['spread'] = np.exp(spread_ts2018)\n",
    "backtest_data2018 = data2018[['datetime', 'qqqclose', 'hasclose', 'aaplclose', 'ttwoclose', 'sbuxclose', \n",
    "                      'ctasclose', 'alxnclose', 'algnclose', 'payxclose', 'spread']]\n",
    "diff_thresh = fn.calculateDiffThresh(backtest_data2018, q=0.2)"
   ]
  },
  {
   "cell_type": "code",
   "execution_count": 19,
   "metadata": {},
   "outputs": [
    {
     "name": "stdout",
     "output_type": "stream",
     "text": [
      "0.006773079365496303\n"
     ]
    }
   ],
   "source": [
    "print(diff_thresh)"
   ]
  },
  {
   "cell_type": "code",
   "execution_count": 20,
   "metadata": {},
   "outputs": [
    {
     "data": {
      "text/plain": [
       "<matplotlib.lines.Line2D at 0x2a6afdaef40>"
      ]
     },
     "execution_count": 20,
     "metadata": {},
     "output_type": "execute_result"
    },
    {
     "data": {
      "image/png": "[encoded data removed]",
      "text/plain": [
       "<Figure size 1080x504 with 1 Axes>"
      ]
     },
     "metadata": {
      "needs_background": "light"
     },
     "output_type": "display_data"
    }
   ],
   "source": [
    "plt.figure(figsize = (15,7))\n",
    "plt.plot(backtest_data2018['spread'])\n",
    "plt.title(\"Spread based on Dynamic Hedge Ratio\")\n",
    "plt.ylabel(\"Spread ($)\")\n",
    "plt.xlabel(\"Date\")\n",
    "spread_avg = backtest_data2018['spread'].mean()\n",
    "spread_sd = backtest_data2018['spread'].std()\n",
    "c = 1.25\n",
    "upper_threshold = spread_avg + c * spread_sd\n",
    "lower_threshold = spread_avg - c * spread_sd\n",
    "plt.axhline(upper_threshold, linestyle = 'dashed', color = 'g')\n",
    "plt.axhline(spread_avg, linestyle = 'dashed', color = 'y')\n",
    "plt.axhline(lower_threshold, linestyle = 'dashed', color = 'r')"
   ]
  },
  {
   "cell_type": "code",
   "execution_count": 21,
   "metadata": {},
   "outputs": [
    {
     "name": "stdout",
     "output_type": "stream",
     "text": [
      "0.9986041977577099 1.001403455476237 1.0000038266169735\n"
     ]
    }
   ],
   "source": [
    "print(lower_threshold, upper_threshold, spread_avg)"
   ]
  },
  {
   "cell_type": "code",
   "execution_count": 22,
   "metadata": {},
   "outputs": [],
   "source": [
    "data.reset_index(inplace=True)\n",
    "data['logspread'] = spread_ts\n",
    "data['spread'] = np.exp(spread_ts)\n",
    "data = data.rename(columns={'index': 'datetime'})"
   ]
  },
  {
   "cell_type": "code",
   "execution_count": 23,
   "metadata": {},
   "outputs": [],
   "source": [
    "backtest_data = data[['datetime', 'qqqclose', 'hasclose', 'aaplclose', 'ttwoclose', 'sbuxclose', \n",
    "                      'ctasclose', 'alxnclose', 'algnclose', 'payxclose', 'spread']]"
   ]
  },
  {
   "cell_type": "code",
   "execution_count": 24,
   "metadata": {},
   "outputs": [],
   "source": [
    "backtest_data = fn.createBars(backtest_data, lower_threshold, upper_threshold, spread_avg)"
   ]
  },
  {
   "cell_type": "code",
   "execution_count": 25,
   "metadata": {},
   "outputs": [
    {
     "data": {
      "text/plain": [
       "Text(0.5, 0, 'Date')"
      ]
     },
     "execution_count": 25,
     "metadata": {},
     "output_type": "execute_result"
    },
    {
     "data": {
      "image/png": "[encoded data removed]",
      "text/plain": [
       "<Figure size 1080x504 with 1 Axes>"
      ]
     },
     "metadata": {
      "needs_background": "light"
     },
     "output_type": "display_data"
    }
   ],
   "source": [
    "plt.figure(figsize = (15,7))\n",
    "plt.plot(backtest_data['spread'].iloc[90625:90750])\n",
    "plt.plot(backtest_data['upperband'].iloc[90625:90750], color='g')\n",
    "plt.plot(backtest_data['ema'].iloc[90625:90750], color='y')\n",
    "plt.plot(backtest_data['lowerband'].iloc[90625:90750], color='r')\n",
    "plt.title(\"Spread based on Dynamic Hedge Ratio\")\n",
    "plt.ylabel(\"Spread ($)\")\n",
    "plt.xlabel(\"Date\")"
   ]
  },
  {
   "cell_type": "markdown",
   "metadata": {},
   "source": [
    "## Generating Signals and Positions\n",
    "Description of signals, positions, how we exit at the end of the day, and the shift by 1"
   ]
  },
  {
   "cell_type": "code",
   "execution_count": 26,
   "metadata": {},
   "outputs": [
    {
     "name": "stderr",
     "output_type": "stream",
     "text": [
      "C:\\Users\\liuvi\\anaconda3\\envs\\quant\\lib\\site-packages\\pandas\\core\\indexing.py:671: SettingWithCopyWarning: \n",
      "A value is trying to be set on a copy of a slice from a DataFrame\n",
      "\n",
      "See the caveats in the documentation: https://pandas.pydata.org/pandas-docs/stable/user_guide/indexing.html#returning-a-view-versus-a-copy\n",
      "  self._setitem_with_indexer(indexer, value)\n"
     ]
    }
   ],
   "source": [
    "#backtest_data = fn.createPositions(backtest_data) # no overnight positions, all positions exited by EOD\n",
    "#backtest_data = fn.createDerivativePositions(backtest_data)\n",
    "backtest_data = fn.createOptimalPositions(backtest_data, threshold=diff_thresh)\n",
    "#backtest_data = fn.createSignal(backtest_data)\n",
    "#backtest_data['position'] = backtest_data['signal'].shift(1).fillna(0)"
   ]
  },
  {
   "cell_type": "markdown",
   "metadata": {},
   "source": [
    "## Trade Log\n",
    "The trade log is generated to compile all the individual trades executed in our backtest and some information about them.  This includes the start and end time, the holding period, what position was taken (long or short), position size and value, as well as profit and return information.  The information in this dataset can be used to analyze the strategy and the properties of the trades executed by the strategy."
   ]
  },
  {
   "cell_type": "code",
   "execution_count": 27,
   "metadata": {},
   "outputs": [],
   "source": [
    "prices = backtest_data[['hasclose', 'aaplclose', 'ttwoclose', 'sbuxclose', \n",
    "                       'ctasclose', 'alxnclose', 'algnclose', 'payxclose']].values\n",
    "hedge_ratios = np.asarray([slopes.T[i] for i in range(len(slopes.T))]).T"
   ]
  },
  {
   "cell_type": "code",
   "execution_count": 28,
   "metadata": {
    "scrolled": false
   },
   "outputs": [
    {
     "data": {
      "text/html": [
       "<div>\n",
       "<style scoped>\n",
       "    .dataframe tbody tr th:only-of-type {\n",
       "        vertical-align: middle;\n",
       "    }\n",
       "\n",
       "    .dataframe tbody tr th {\n",
       "        vertical-align: top;\n",
       "    }\n",
       "\n",
       "    .dataframe thead th {\n",
       "        text-align: right;\n",
       "    }\n",
       "</style>\n",
       "<table border=\"1\" class=\"dataframe\">\n",
       "  <thead>\n",
       "    <tr style=\"text-align: right;\">\n",
       "      <th></th>\n",
       "      <th>start</th>\n",
       "      <th>end</th>\n",
       "      <th>holdingPeriod</th>\n",
       "      <th>position</th>\n",
       "      <th>positionSizeY</th>\n",
       "      <th>entryY</th>\n",
       "      <th>exitY</th>\n",
       "      <th>positionSizeX</th>\n",
       "      <th>entryX</th>\n",
       "      <th>exitX</th>\n",
       "      <th>initialPortfolioValue</th>\n",
       "      <th>trade_profit</th>\n",
       "      <th>trade_returns</th>\n",
       "      <th>trade_profit2</th>\n",
       "    </tr>\n",
       "  </thead>\n",
       "  <tbody>\n",
       "    <tr>\n",
       "      <th>311</th>\n",
       "      <td>2019-12-18 09:54:00</td>\n",
       "      <td>2019-12-18 10:18:00</td>\n",
       "      <td>24</td>\n",
       "      <td>long</td>\n",
       "      <td>1000</td>\n",
       "      <td>209.55</td>\n",
       "      <td>209.6100</td>\n",
       "      <td>[76.0, 248.0, 111.0, 67.0, 222.0, 97.0, 136.0,...</td>\n",
       "      <td>[102.7, 279.6399, 121.475, 88.295, 273.4318, 1...</td>\n",
       "      <td>[102.6379, 279.9, 121.63, 87.92, 271.75, 108.0...</td>\n",
       "      <td>420194.0551</td>\n",
       "      <td>374.2063</td>\n",
       "      <td>0.000891</td>\n",
       "      <td>NaN</td>\n",
       "    </tr>\n",
       "    <tr>\n",
       "      <th>312</th>\n",
       "      <td>2019-12-18 11:10:00</td>\n",
       "      <td>2019-12-18 11:23:00</td>\n",
       "      <td>13</td>\n",
       "      <td>short</td>\n",
       "      <td>1000</td>\n",
       "      <td>209.67</td>\n",
       "      <td>209.9799</td>\n",
       "      <td>[76.0, 248.0, 111.0, 67.0, 221.0, 97.0, 136.0,...</td>\n",
       "      <td>[102.245, 279.66, 121.47, 87.89, 270.89, 107.9...</td>\n",
       "      <td>[102.585, 279.8999, 121.69, 88.03, 272.64, 107...</td>\n",
       "      <td>419418.5550</td>\n",
       "      <td>360.6902</td>\n",
       "      <td>0.000860</td>\n",
       "      <td>NaN</td>\n",
       "    </tr>\n",
       "    <tr>\n",
       "      <th>313</th>\n",
       "      <td>2019-12-18 12:32:00</td>\n",
       "      <td>2019-12-18 12:43:00</td>\n",
       "      <td>11</td>\n",
       "      <td>long</td>\n",
       "      <td>1000</td>\n",
       "      <td>209.93</td>\n",
       "      <td>209.9100</td>\n",
       "      <td>[76.0, 248.0, 111.0, 67.0, 221.0, 97.0, 136.0,...</td>\n",
       "      <td>[102.9461, 280.9799, 122.57, 88.13, 273.405, 1...</td>\n",
       "      <td>[102.915, 280.98, 122.56, 88.15, 272.3867, 108...</td>\n",
       "      <td>420799.8514</td>\n",
       "      <td>265.5176</td>\n",
       "      <td>0.000631</td>\n",
       "      <td>NaN</td>\n",
       "    </tr>\n",
       "    <tr>\n",
       "      <th>314</th>\n",
       "      <td>2019-12-23 09:44:00</td>\n",
       "      <td>2019-12-23 10:33:00</td>\n",
       "      <td>48</td>\n",
       "      <td>long</td>\n",
       "      <td>1000</td>\n",
       "      <td>211.92</td>\n",
       "      <td>211.8300</td>\n",
       "      <td>[76.0, 249.0, 111.0, 67.0, 221.0, 97.0, 136.0,...</td>\n",
       "      <td>[104.75, 281.69, 123.29, 88.6101, 270.24, 110....</td>\n",
       "      <td>[104.5828, 282.29, 123.54, 88.44, 270.615, 109...</td>\n",
       "      <td>423026.9467</td>\n",
       "      <td>-462.8291</td>\n",
       "      <td>-0.001094</td>\n",
       "      <td>NaN</td>\n",
       "    </tr>\n",
       "    <tr>\n",
       "      <th>315</th>\n",
       "      <td>2019-12-31 10:07:00</td>\n",
       "      <td>2019-12-31 10:37:00</td>\n",
       "      <td>28</td>\n",
       "      <td>long</td>\n",
       "      <td>1000</td>\n",
       "      <td>211.82</td>\n",
       "      <td>211.9248</td>\n",
       "      <td>[76.0, 249.0, 111.0, 67.0, 220.0, 96.0, 136.0,...</td>\n",
       "      <td>[105.96, 290.8794, 122.36, 87.65, 269.07, 107....</td>\n",
       "      <td>[106.129, 291.5695, 121.94, 87.5953, 269.05, 1...</td>\n",
       "      <td>425082.5806</td>\n",
       "      <td>-208.7940</td>\n",
       "      <td>-0.000491</td>\n",
       "      <td>NaN</td>\n",
       "    </tr>\n",
       "  </tbody>\n",
       "</table>\n",
       "</div>"
      ],
      "text/plain": [
       "                  start                 end  holdingPeriod position  \\\n",
       "311 2019-12-18 09:54:00 2019-12-18 10:18:00             24     long   \n",
       "312 2019-12-18 11:10:00 2019-12-18 11:23:00             13    short   \n",
       "313 2019-12-18 12:32:00 2019-12-18 12:43:00             11     long   \n",
       "314 2019-12-23 09:44:00 2019-12-23 10:33:00             48     long   \n",
       "315 2019-12-31 10:07:00 2019-12-31 10:37:00             28     long   \n",
       "\n",
       "     positionSizeY  entryY     exitY  \\\n",
       "311           1000  209.55  209.6100   \n",
       "312           1000  209.67  209.9799   \n",
       "313           1000  209.93  209.9100   \n",
       "314           1000  211.92  211.8300   \n",
       "315           1000  211.82  211.9248   \n",
       "\n",
       "                                         positionSizeX  \\\n",
       "311  [76.0, 248.0, 111.0, 67.0, 222.0, 97.0, 136.0,...   \n",
       "312  [76.0, 248.0, 111.0, 67.0, 221.0, 97.0, 136.0,...   \n",
       "313  [76.0, 248.0, 111.0, 67.0, 221.0, 97.0, 136.0,...   \n",
       "314  [76.0, 249.0, 111.0, 67.0, 221.0, 97.0, 136.0,...   \n",
       "315  [76.0, 249.0, 111.0, 67.0, 220.0, 96.0, 136.0,...   \n",
       "\n",
       "                                                entryX  \\\n",
       "311  [102.7, 279.6399, 121.475, 88.295, 273.4318, 1...   \n",
       "312  [102.245, 279.66, 121.47, 87.89, 270.89, 107.9...   \n",
       "313  [102.9461, 280.9799, 122.57, 88.13, 273.405, 1...   \n",
       "314  [104.75, 281.69, 123.29, 88.6101, 270.24, 110....   \n",
       "315  [105.96, 290.8794, 122.36, 87.65, 269.07, 107....   \n",
       "\n",
       "                                                 exitX  initialPortfolioValue  \\\n",
       "311  [102.6379, 279.9, 121.63, 87.92, 271.75, 108.0...            420194.0551   \n",
       "312  [102.585, 279.8999, 121.69, 88.03, 272.64, 107...            419418.5550   \n",
       "313  [102.915, 280.98, 122.56, 88.15, 272.3867, 108...            420799.8514   \n",
       "314  [104.5828, 282.29, 123.54, 88.44, 270.615, 109...            423026.9467   \n",
       "315  [106.129, 291.5695, 121.94, 87.5953, 269.05, 1...            425082.5806   \n",
       "\n",
       "     trade_profit  trade_returns  trade_profit2  \n",
       "311      374.2063       0.000891            NaN  \n",
       "312      360.6902       0.000860            NaN  \n",
       "313      265.5176       0.000631            NaN  \n",
       "314     -462.8291      -0.001094            NaN  \n",
       "315     -208.7940      -0.000491            NaN  "
      ]
     },
     "execution_count": 28,
     "metadata": {},
     "output_type": "execute_result"
    }
   ],
   "source": [
    "tradeLog, minuteDf = fn.constructTradeLog(backtest_data['datetime'].values, backtest_data['position'].values,\n",
    "                               backtest_data['qqqclose'].values, prices, \n",
    "                               hedge_ratios.round(3), stoploss = None,\n",
    "                               lot_size = 1000)\n",
    "tradeLog.tail()"
   ]
  },
  {
   "cell_type": "code",
   "execution_count": 29,
   "metadata": {
    "scrolled": false
   },
   "outputs": [
    {
     "name": "stderr",
     "output_type": "stream",
     "text": [
      "<ipython-input-29-4913ea6083e5>:2: SettingWithCopyWarning: \n",
      "A value is trying to be set on a copy of a slice from a DataFrame.\n",
      "Try using .loc[row_indexer,col_indexer] = value instead\n",
      "\n",
      "See the caveats in the documentation: https://pandas.pydata.org/pandas-docs/stable/user_guide/indexing.html#returning-a-view-versus-a-copy\n",
      "  returns_df['cumulative_returns'] = np.cumprod(1 + minuteDf['returns'])\n"
     ]
    },
    {
     "data": {
      "text/plain": [
       "<matplotlib.axes._subplots.AxesSubplot at 0x2a6b137d310>"
      ]
     },
     "execution_count": 29,
     "metadata": {},
     "output_type": "execute_result"
    },
    {
     "data": {
      "image/png": "[encoded data removed]",
      "text/plain": [
       "<Figure size 1080x504 with 1 Axes>"
      ]
     },
     "metadata": {
      "needs_background": "light"
     },
     "output_type": "display_data"
    }
   ],
   "source": [
    "returns_df = minuteDf[['datetime']]\n",
    "returns_df['cumulative_returns'] = np.cumprod(1 + minuteDf['returns'])\n",
    "returns_df = returns_df.set_index('datetime')\n",
    "returns_df.plot(figsize=[15, 7])"
   ]
  },
  {
   "cell_type": "code",
   "execution_count": 30,
   "metadata": {},
   "outputs": [
    {
     "name": "stdout",
     "output_type": "stream",
     "text": [
      "Trade Log cumulative profit was -2577.407\n"
     ]
    }
   ],
   "source": [
    "total_profit = tradeLog['trade_profit'].sum()\n",
    "print('Trade Log cumulative profit was {:.3f}'.format(total_profit))"
   ]
  },
  {
   "cell_type": "code",
   "execution_count": 31,
   "metadata": {},
   "outputs": [
    {
     "name": "stdout",
     "output_type": "stream",
     "text": [
      "Trade Log cumulative return was -0.580%\n"
     ]
    }
   ],
   "source": [
    "cumulative_return = np.cumprod(1 + tradeLog['trade_returns']) - 1\n",
    "print('Trade Log cumulative return was {:.3f}%'.format(cumulative_return.iloc[-1] * 100))"
   ]
  },
  {
   "cell_type": "code",
   "execution_count": 32,
   "metadata": {},
   "outputs": [
    {
     "name": "stdout",
     "output_type": "stream",
     "text": [
      "Annualized Sharpe Ratio:  -0.3193834783831858\n"
     ]
    }
   ],
   "source": [
    "minuteDf['datetime'] = pd.to_datetime(minuteDf['datetime'])\n",
    "dailyReturns = fn.calculateDailyReturns(minuteDf[['datetime', 'returns']])\n",
    "sharpeRatio = fn.calculateAnnualizedSharpeRatio(dailyReturns)\n",
    "print('Annualized Sharpe Ratio: ', sharpeRatio)"
   ]
  },
  {
   "cell_type": "code",
   "execution_count": 33,
   "metadata": {},
   "outputs": [
    {
     "data": {
      "text/plain": [
       "<matplotlib.lines.Line2D at 0x2a6b937bb80>"
      ]
     },
     "execution_count": 33,
     "metadata": {},
     "output_type": "execute_result"
    },
    {
     "data": {
      "image/png": "[encoded data removed]",
      "text/plain": [
       "<Figure size 1080x504 with 1 Axes>"
      ]
     },
     "metadata": {
      "needs_background": "light"
     },
     "output_type": "display_data"
    }
   ],
   "source": [
    "plt.figure(figsize=[15, 7])\n",
    "plt.hist(tradeLog['trade_returns'], bins=75)\n",
    "plt.axvline(tradeLog['trade_returns'].mean(), color='k', linestyle='dashed', linewidth=1)"
   ]
  },
  {
   "cell_type": "code",
   "execution_count": 34,
   "metadata": {},
   "outputs": [
    {
     "data": {
      "text/plain": [
       "<matplotlib.lines.Line2D at 0x2a6b0fc1880>"
      ]
     },
     "execution_count": 34,
     "metadata": {},
     "output_type": "execute_result"
    },
    {
     "data": {
      "image/png": "[encoded data removed]",
      "text/plain": [
       "<Figure size 1080x504 with 1 Axes>"
      ]
     },
     "metadata": {
      "needs_background": "light"
     },
     "output_type": "display_data"
    }
   ],
   "source": [
    "plt.figure(figsize=[15, 7])\n",
    "plt.hist(tradeLog['trade_profit'], bins=75)\n",
    "plt.axvline(tradeLog['trade_profit'].mean(), color='k', linestyle='dashed', linewidth=1)"
   ]
  },
  {
   "cell_type": "code",
   "execution_count": 35,
   "metadata": {},
   "outputs": [
    {
     "data": {
      "text/plain": [
       "<matplotlib.lines.Line2D at 0x2a6b960c7c0>"
      ]
     },
     "execution_count": 35,
     "metadata": {},
     "output_type": "execute_result"
    },
    {
     "data": {
      "image/png": "[encoded data removed]",
      "text/plain": [
       "<Figure size 1080x504 with 1 Axes>"
      ]
     },
     "metadata": {
      "needs_background": "light"
     },
     "output_type": "display_data"
    }
   ],
   "source": [
    "plt.figure(figsize=[15, 7])\n",
    "plt.hist(tradeLog['holdingPeriod'], bins=50)\n",
    "plt.axvline(tradeLog['holdingPeriod'].mean(), color='k', linestyle='dashed', linewidth=1)\n",
    "plt.axvline(tradeLog['holdingPeriod'].median(), color='r', linestyle='dashed', linewidth=1)"
   ]
  },
  {
   "cell_type": "code",
   "execution_count": null,
   "metadata": {},
   "outputs": [],
   "source": []
  }
 ],
 "metadata": {
  "kernelspec": {
   "display_name": "Python 3",
   "language": "python",
   "name": "python3"
  },
  "language_info": {
   "codemirror_mode": {
    "name": "ipython",
    "version": 3
   },
   "file_extension": ".py",
   "mimetype": "text/x-python",
   "name": "python",
   "nbconvert_exporter": "python",
   "pygments_lexer": "ipython3",
   "version": "3.8.5"
  }
 },
 "nbformat": 4,
 "nbformat_minor": 4
}
