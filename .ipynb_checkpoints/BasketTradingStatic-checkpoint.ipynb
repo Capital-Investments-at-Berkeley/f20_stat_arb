{
 "cells": [
  {
   "cell_type": "code",
   "execution_count": null,
   "metadata": {},
   "outputs": [],
   "source": [
    "import pandas as pd\n",
    "import functions as fn\n",
    "import numpy as np\n",
    "import matplotlib.pyplot as plt"
   ]
  },
  {
   "cell_type": "markdown",
   "metadata": {},
   "source": [
    "# Strategy: Static Entries and Exits\n",
    "Using minute level data from our in-sample period (2018), find the mean of the spread and the standard deviation of the spread.  Use a constant multiple of the spread standard deviation as the upper and lower thresholds for our mean reversion strategy.  Signals are generated during our trading period when our spread is above/below our upper/lower threshold.  Note, the actual positions we take need to be lagged by 1 minute from our signals.  Without this shift, our results would be reliant on high-frequency trading technology and latency."
   ]
  },
  {
   "cell_type": "code",
   "execution_count": null,
   "metadata": {},
   "outputs": [],
   "source": [
    "# Start from 01-01-2018 and end at 12-31-2018\n",
    "qqq2018 = pd.read_csv(\"../data/qqqMinute2018.csv\")\n",
    "has2018 = pd.read_csv(\"../data/hasMinute2018.csv\")\n",
    "aapl2018 = pd.read_csv(\"../data/aaplMinute2018.csv\")\n",
    "ttwo2018 = pd.read_csv(\"../data/ttwoMinute2018.csv\")\n",
    "idxx2018 = pd.read_csv(\"../data/idxxMinute2018.csv\")\n",
    "sbux2018 = pd.read_csv(\"../data/sbuxMinute2018.csv\")\n",
    "ctas2018 = pd.read_csv(\"../data/ctasMinute2018.csv\")\n",
    "alxn2018 = pd.read_csv(\"../data/alxnMinute2018.csv\")\n",
    "algn2018 = pd.read_csv(\"../data/algnMinute2018.csv\")\n",
    "payx2018 = pd.read_csv(\"../data/payxMinute2018.csv\")"
   ]
  },
  {
   "cell_type": "code",
   "execution_count": null,
   "metadata": {},
   "outputs": [],
   "source": [
    "qqq2018 = qqq2018.set_index('date_time')\n",
    "qqq2018 = qqq2018.rename(columns={'close': 'qqqclose'})\n",
    "\n",
    "has2018 = has2018.set_index('date_time')\n",
    "has2018 = has2018.rename(columns={'close': 'hasclose'})\n",
    "\n",
    "aapl2018 = aapl2018.set_index('date_time')\n",
    "aapl2018 = aapl2018.rename(columns={'close': 'aaplclose'})\n",
    "\n",
    "ttwo2018 = ttwo2018.set_index('date_time')\n",
    "ttwo2018 = ttwo2018.rename(columns={'close': 'ttwoclose'})\n",
    "\n",
    "idxx2018 = idxx2018.set_index('date_time')\n",
    "idxx2018 = idxx2018.rename(columns={'close': 'idxxclose'})\n",
    "\n",
    "sbux2018 = sbux2018.set_index('date_time')\n",
    "sbux2018 = sbux2018.rename(columns={'close': 'sbuxclose'})\n",
    "\n",
    "ctas2018 = ctas2018.set_index('date_time')\n",
    "ctas2018 = ctas2018.rename(columns={'close': 'ctasclose'})\n",
    "\n",
    "alxn2018 = alxn2018.set_index('date_time')\n",
    "alxn2018 = alxn2018.rename(columns={'close': 'alxnclose'})\n",
    "\n",
    "algn2018 = algn2018.set_index('date_time')\n",
    "algn2018 = algn2018.rename(columns={'close': 'algnclose'})\n",
    "\n",
    "payx2018 = payx2018.set_index('date_time')\n",
    "payx2018 = payx2018.rename(columns={'close': 'payxclose'})"
   ]
  },
  {
   "cell_type": "markdown",
   "metadata": {},
   "source": [
    "## Dataset for Engle-Granger Basket in 2018 (In-Sample Period)"
   ]
  },
  {
   "cell_type": "code",
   "execution_count": null,
   "metadata": {},
   "outputs": [],
   "source": [
    "eg_basket_data2018 = qqq2018[['qqqclose']].join([has2018[['hasclose']], aapl2018[['aaplclose']], ttwo2018[['ttwoclose']], \n",
    "                                                 sbux2018[['sbuxclose']], ctas2018[['ctasclose']], alxn2018[['alxnclose']], \n",
    "                                                 algn2018[['algnclose']], payx2018[['payxclose']]], how='outer')\n",
    "eg_basket_data2018 = eg_basket_data2018.dropna()\n",
    "eg_basket_data2018.tail(10)"
   ]
  },
  {
   "cell_type": "markdown",
   "metadata": {},
   "source": [
    "## Dataset for Johansen Basket in 2018 (In-Sample Period)"
   ]
  },
  {
   "cell_type": "code",
   "execution_count": null,
   "metadata": {},
   "outputs": [],
   "source": [
    "joh_basket_data2018 = qqq2018[['qqqclose']].join([has2018[['hasclose']], ttwo2018[['ttwoclose']], idxx2018[['idxxclose']], \n",
    "                               sbux2018[['sbuxclose']], ctas2018[['ctasclose']], alxn2018[['alxnclose']]], how='outer')\n",
    "joh_basket_data2018 = joh_basket_data2018.dropna()\n",
    "joh_basket_data2018.tail(10)"
   ]
  },
  {
   "cell_type": "code",
   "execution_count": null,
   "metadata": {},
   "outputs": [],
   "source": [
    "syntheticAssetLogPriceEG2018 = eg_basket_data2018[['hasclose', 'aaplclose', 'ttwoclose', 'sbuxclose', \n",
    "                               'ctasclose', 'alxnclose', 'algnclose', 'payxclose']].apply(np.log)\n",
    "qqqLogPriceEG2018 = np.log(eg_basket_data2018['qqqclose'].values)\n",
    "\n",
    "syntheticAssetLogPriceJoh2018 = joh_basket_data2018[['hasclose', 'ttwoclose', 'sbuxclose', \n",
    "                               'idxxclose', 'ctasclose', 'alxnclose']].apply(np.log)\n",
    "qqqLogPriceJoh2018 = np.log(joh_basket_data2018['qqqclose'].values)"
   ]
  },
  {
   "cell_type": "code",
   "execution_count": null,
   "metadata": {},
   "outputs": [],
   "source": [
    "kf_eg2018 = fn.multivariateKalmanFilter(syntheticAssetLogPriceEG2018, qqqLogPriceEG2018)\n",
    "state_means_eg2018, state_covs_eg2018 = kf_eg2018.filter(qqqLogPriceEG2018)\n",
    "basket_size_eg2018 = len(syntheticAssetLogPriceEG2018.columns)\n",
    "slopes_eg2018 = state_means_eg2018[:, np.arange(0, basket_size_eg2018, 1)]\n",
    "#intercept2018 = state_means2018[:, basket_size2018]"
   ]
  },
  {
   "cell_type": "code",
   "execution_count": null,
   "metadata": {},
   "outputs": [],
   "source": [
    "syntheticAssetEstimateEG2018 = [np.dot(slopes_eg2018[i], syntheticAssetLogPriceEG2018.values[i].T)\n",
    "                              for i in range(len(slopes_eg2018))]\n",
    "spread_ts_eg2018 = qqqLogPriceEG2018- syntheticAssetEstimateEG2018\n",
    "eg_basket_data2018.reset_index(inplace=True)\n",
    "eg_basket_data2018 = eg_basket_data2018.rename(columns={'index': 'datetime'})\n",
    "eg_basket_data2018['logspread'] = spread_ts_eg2018\n",
    "eg_basket_data2018['spread'] = np.exp(spread_ts_eg2018)\n",
    "\n",
    "eg_backtest_data2018 = eg_basket_data2018[['datetime', 'qqqclose', 'hasclose', 'aaplclose', 'ttwoclose', 'sbuxclose', \n",
    "                      'ctasclose', 'alxnclose', 'algnclose', 'payxclose', 'spread']]\n",
    "diff_thresh_eg = fn.calculateDiffThresh(eg_backtest_data2018, q=0.2)"
   ]
  },
  {
   "cell_type": "code",
   "execution_count": null,
   "metadata": {},
   "outputs": [],
   "source": [
    "print(diff_thresh_eg)"
   ]
  },
  {
   "cell_type": "code",
   "execution_count": null,
   "metadata": {},
   "outputs": [],
   "source": [
    "plt.figure(figsize = (15,7))\n",
    "plt.plot(eg_backtest_data2018['spread'])\n",
    "plt.title(\"Engle-Granger Basket Spread (In-Sample)\")\n",
    "plt.ylabel(\"Spread ($)\")\n",
    "plt.xlabel(\"Date\")\n",
    "spread_avg_eg = eg_backtest_data2018['spread'].mean()\n",
    "spread_sd_eg = eg_backtest_data2018['spread'].std()\n",
    "c = 1.25\n",
    "upper_threshold_eg = spread_avg_eg + c * spread_sd_eg\n",
    "lower_threshold_eg = spread_avg_eg - c * spread_sd_eg\n",
    "plt.axhline(upper_threshold_eg, linestyle = 'dashed', color = 'g')\n",
    "plt.axhline(spread_avg_eg, linestyle = 'dashed', color = 'y')\n",
    "plt.axhline(lower_threshold_eg, linestyle = 'dashed', color = 'r')"
   ]
  },
  {
   "cell_type": "code",
   "execution_count": null,
   "metadata": {},
   "outputs": [],
   "source": [
    "print(\"Engle-Granger Basket Spread Thresholds \\n\")\n",
    "print(\"Mean: \", spread_avg_eg)\n",
    "print(\"Lower Bar: \", lower_threshold_eg)\n",
    "print(\"Upper Bar: \", upper_threshold_eg)"
   ]
  },
  {
   "cell_type": "code",
   "execution_count": null,
   "metadata": {},
   "outputs": [],
   "source": [
    "kf_Joh2018 = fn.multivariateKalmanFilter(syntheticAssetLogPriceJoh2018, qqqLogPriceJoh2018)\n",
    "state_means_joh2018, state_covs_joh2018 = kf_Joh2018.filter(qqqLogPriceJoh2018)\n",
    "basket_size_joh2018 = len(syntheticAssetLogPriceJoh2018.columns)\n",
    "slopes_joh2018 = state_means_joh2018[:, np.arange(0, basket_size_joh2018, 1)]\n",
    "#intercept = state_means[:, basket_size]"
   ]
  },
  {
   "cell_type": "code",
   "execution_count": null,
   "metadata": {},
   "outputs": [],
   "source": [
    "syntheticAssetEstimateJoh2018 = [np.dot(slopes_joh2018[i], syntheticAssetLogPriceJoh2018.values[i].T)\n",
    "                              for i in range(len(slopes_joh2018))]\n",
    "spread_ts_joh2018 = qqqLogPriceJoh2018- syntheticAssetEstimateJoh2018\n",
    "joh_basket_data2018.reset_index(inplace=True)\n",
    "joh_basket_data2018 = joh_basket_data2018.rename(columns={'index': 'datetime'})\n",
    "joh_basket_data2018['logspread'] = spread_ts_joh2018\n",
    "joh_basket_data2018['spread'] = np.exp(spread_ts_joh2018)\n",
    "\n",
    "joh_backtest_data2018 = joh_basket_data2018[['datetime', 'qqqclose', 'hasclose','ttwoclose', 'sbuxclose', \n",
    "                      'ctasclose', 'alxnclose', 'spread']]\n",
    "diff_thresh_joh = fn.calculateDiffThresh(joh_backtest_data2018, q=0.2)"
   ]
  },
  {
   "cell_type": "code",
   "execution_count": null,
   "metadata": {},
   "outputs": [],
   "source": [
    "print(diff_thresh_joh)"
   ]
  },
  {
   "cell_type": "code",
   "execution_count": null,
   "metadata": {},
   "outputs": [],
   "source": [
    "plt.figure(figsize = (15,7))\n",
    "plt.plot(joh_basket_data2018['spread'])\n",
    "plt.title(\"Johansen Basket Spread (In-Sample)\")\n",
    "plt.ylabel(\"Spread ($)\")\n",
    "plt.xlabel(\"Date\")\n",
    "spread_avg_joh = joh_basket_data2018['spread'].mean()\n",
    "spread_sd_joh = joh_basket_data2018['spread'].std()\n",
    "c = 1.25\n",
    "upper_threshold_joh = spread_avg_joh + c * spread_sd_joh\n",
    "lower_threshold_joh = spread_avg_joh - c * spread_sd_joh\n",
    "plt.axhline(upper_threshold_joh, linestyle = 'dashed', color = 'g')\n",
    "plt.axhline(spread_avg_joh, linestyle = 'dashed', color = 'y')\n",
    "plt.axhline(lower_threshold_joh, linestyle = 'dashed', color = 'r')"
   ]
  },
  {
   "cell_type": "code",
   "execution_count": null,
   "metadata": {},
   "outputs": [],
   "source": [
    "print(\"Johansen Basket Spread Thresholds \\n\")\n",
    "print(\"Mean: \", spread_avg_joh)\n",
    "print(\"Lower Bar: \", lower_threshold_joh)\n",
    "print(\"Upper Bar: \", upper_threshold_joh)"
   ]
  },
  {
   "cell_type": "markdown",
   "metadata": {},
   "source": [
    "# Backtest and Out-of-Sample Period"
   ]
  },
  {
   "cell_type": "code",
   "execution_count": null,
   "metadata": {},
   "outputs": [],
   "source": [
    "eg_data = pd.read_csv(\"../data/eg_basket_data.csv\")\n",
    "joh_data = pd.read_csv(\"../data/joh_basket_data.csv\")"
   ]
  },
  {
   "cell_type": "code",
   "execution_count": null,
   "metadata": {},
   "outputs": [],
   "source": [
    "eg_backtest_data = eg_data[['datetime', 'qqqclose', 'hasclose', 'aaplclose', 'ttwoclose', 'sbuxclose', \n",
    "                      'ctasclose', 'alxnclose', 'algnclose', 'payxclose', 'spread']]\n",
    "eg_backtest_data = fn.createBars(eg_backtest_data, lower_threshold_eg, upper_threshold_eg, spread_avg_eg)"
   ]
  },
  {
   "cell_type": "code",
   "execution_count": null,
   "metadata": {},
   "outputs": [],
   "source": [
    "plt.figure(figsize = (15,7))\n",
    "plt.plot(eg_backtest_data['spread'].iloc[-450:])\n",
    "plt.plot(eg_backtest_data['upperband'].iloc[-450:], color='g')\n",
    "plt.plot(eg_backtest_data['ema'].iloc[-450:], color='y')\n",
    "plt.plot(eg_backtest_data['lowerband'].iloc[-450:], color='r')\n",
    "plt.title(\"Engle-Granger Basket Spread and Static Thresholds (Out-of-Sample)\")\n",
    "plt.ylabel(\"Spread ($)\")\n",
    "plt.xlabel(\"Date\")"
   ]
  },
  {
   "cell_type": "code",
   "execution_count": null,
   "metadata": {},
   "outputs": [],
   "source": [
    "joh_backtest_data = joh_data[['datetime', 'qqqclose', 'hasclose', 'ttwoclose', 'sbuxclose', \n",
    "                               'idxxclose', 'ctasclose', 'alxnclose', 'spread']]\n",
    "joh_backtest_data = fn.createBars(joh_backtest_data, lower_threshold_joh, upper_threshold_joh, spread_avg_joh)"
   ]
  },
  {
   "cell_type": "code",
   "execution_count": null,
   "metadata": {},
   "outputs": [],
   "source": [
    "plt.figure(figsize = (15,7))\n",
    "plt.plot(joh_backtest_data['spread'].iloc[-450:])\n",
    "plt.plot(joh_backtest_data['upperband'].iloc[-450:], color='g')\n",
    "plt.plot(joh_backtest_data['ema'].iloc[-450:], color='y')\n",
    "plt.plot(joh_backtest_data['lowerband'].iloc[-450:], color='r')\n",
    "plt.title(\"Johansen Basket Spread and Static Thresholds (Out-of-Sample)\")\n",
    "plt.ylabel(\"Spread ($)\")\n",
    "plt.xlabel(\"Date\")"
   ]
  },
  {
   "cell_type": "markdown",
   "metadata": {},
   "source": [
    "## Generating Signals and Positions\n",
    "Positions are generated based on the thresholds determined in the in-sample period.  When the spread is below our lower threshold, a long signal is generated and we enter a long spread position in the subsequent minute.  Symmetrically, when the spread is above our upper threshold, a short signal is generated and we enter a short spread position in the subsequent minute.  When the spread reverts back to the mean from our in-sample period, we close our positions.\n",
    "\n",
    "For our optimal positions, we aim to forecast the mean reversion by not only conditioning that the spread is above/below the upper/lower threshold, but also conditioning that the percentage difference in spread magnitude is in the bottom 20% of our in-sample period's percentage difference in spread from minute to minute."
   ]
  },
  {
   "cell_type": "code",
   "execution_count": null,
   "metadata": {},
   "outputs": [],
   "source": [
    "eg_final_data = fn.createPositions(eg_backtest_data.copy()) # no overnight positions, all positions exited by EOD\n",
    "eg_final_data_opt = fn.createOptimalPositions(eg_backtest_data.copy(), threshold=diff_thresh_eg)"
   ]
  },
  {
   "cell_type": "code",
   "execution_count": null,
   "metadata": {},
   "outputs": [],
   "source": [
    "joh_final_data = fn.createPositions(joh_backtest_data.copy()) # no overnight positions, all positions exited by EOD\n",
    "joh_final_data_opt = fn.createOptimalPositions(joh_backtest_data.copy(), threshold=diff_thresh_joh)"
   ]
  },
  {
   "cell_type": "markdown",
   "metadata": {},
   "source": [
    "## Trade Log\n",
    "The trade log is generated to compile all the individual trades executed in our backtest and some information about them.  This includes the start and end time, the holding period, what position was taken (long or short), position size and value, as well as profit and return information.  The information in this dataset can be used to analyze the strategy and the properties of the trades executed by the strategy."
   ]
  },
  {
   "cell_type": "markdown",
   "metadata": {},
   "source": [
    "### Engle-Granger Basket"
   ]
  },
  {
   "cell_type": "code",
   "execution_count": null,
   "metadata": {},
   "outputs": [],
   "source": [
    "slopes_eg = eg_data[['hasSlope', 'aaplSlope', 'ttwoSlope', 'sbuxSlope', 'ctasSlope', 'alxnSlope', 'algnSlope', 'payxSlopes']]\n",
    "prices_eg = eg_final_data[['hasclose', 'aaplclose', 'ttwoclose', 'sbuxclose', \n",
    "                       'ctasclose', 'alxnclose', 'algnclose', 'payxclose']].values"
   ]
  },
  {
   "cell_type": "code",
   "execution_count": null,
   "metadata": {
    "scrolled": false
   },
   "outputs": [],
   "source": [
    "tradeLog_eg, minuteDf_eg = fn.constructTradeLog(eg_final_data['datetime'].values, eg_final_data['position'].values,\n",
    "                               eg_final_data['qqqclose'].values, prices_eg, \n",
    "                               slopes_eg.values.round(3), stoploss = None,\n",
    "                               lot_size = 1000)\n",
    "tradeLog_eg.tail()"
   ]
  },
  {
   "cell_type": "code",
   "execution_count": null,
   "metadata": {},
   "outputs": [],
   "source": [
    "tradeLog_eg_opt, minuteDf_eg_opt = fn.constructTradeLog(eg_final_data_opt['datetime'].values, \n",
    "                                                        eg_final_data_opt['position'].values,\n",
    "                                                        eg_final_data_opt['qqqclose'].values, prices_eg, \n",
    "                                                        slopes_eg.values.round(3), stoploss = None,\n",
    "                                                        lot_size = 1000)\n",
    "tradeLog_eg_opt.tail()"
   ]
  },
  {
   "cell_type": "code",
   "execution_count": null,
   "metadata": {
    "scrolled": false
   },
   "outputs": [],
   "source": [
    "returns_df_eg = minuteDf_eg[['datetime']]\n",
    "returns_df_eg['cumulative_returns'] = np.cumprod(1 + minuteDf_eg['returns'])\n",
    "returns_df_eg['cumulative_returns_opt'] = np.cumprod(1 + minuteDf_eg_opt['returns'])\n",
    "returns_df_eg = returns_df_eg.set_index('datetime')\n",
    "returns_df_eg.plot(figsize=[15, 7], title='Engle-Granger Basket Strategy Returns')"
   ]
  },
  {
   "cell_type": "code",
   "execution_count": null,
   "metadata": {},
   "outputs": [],
   "source": [
    "daily_eg = fn.calculateDailyReturns(minuteDf_eg[['returns', 'datetime']])\n",
    "daily_eg_opt = fn.calculateDailyReturns(minuteDf_eg_opt[['returns', 'datetime']])\n",
    "sharpe_eg = fn.calculateAnnualizedSharpeRatio(daily_eg)\n",
    "sharpe_eg_opt = fn.calculateAnnualizedSharpeRatio(daily_eg_opt)"
   ]
  },
  {
   "cell_type": "code",
   "execution_count": null,
   "metadata": {},
   "outputs": [],
   "source": [
    "print(\"Engle-Granger Basket Backtest Results\")\n",
    "print(\"Returns: \", (returns_df_eg['cumulative_returns'].iloc[-1] - 1) * 100, '%')\n",
    "print(\"Returns (Optimized): \", (returns_df_eg['cumulative_returns_opt'].iloc[-1] - 1) * 100, '%')\n",
    "print(\"Sharpe: \", sharpe_eg)\n",
    "print(\"Sharpe (Optimized)\", sharpe_eg_opt)"
   ]
  },
  {
   "cell_type": "markdown",
   "metadata": {},
   "source": [
    "### Johansen Basket"
   ]
  },
  {
   "cell_type": "code",
   "execution_count": null,
   "metadata": {},
   "outputs": [],
   "source": [
    "slopes_joh = joh_data[['hasSlope', 'ttwoSlope', 'sbuxSlope', 'idxxSlope', 'ctasSlope', 'alxnSlope']]\n",
    "prices_joh = joh_final_data[['hasclose', 'ttwoclose', 'sbuxclose', 'idxxclose', 'ctasclose', 'alxnclose']].values"
   ]
  },
  {
   "cell_type": "code",
   "execution_count": null,
   "metadata": {
    "scrolled": false
   },
   "outputs": [],
   "source": [
    "tradeLog_joh, minuteDf_joh = fn.constructTradeLog(joh_final_data['datetime'].values, joh_final_data['position'].values,\n",
    "                               joh_final_data['qqqclose'].values, prices_joh, \n",
    "                               slopes_joh.values.round(3), stoploss = None,\n",
    "                               lot_size = 1000)\n",
    "tradeLog_joh.tail()"
   ]
  },
  {
   "cell_type": "code",
   "execution_count": null,
   "metadata": {},
   "outputs": [],
   "source": [
    "tradeLog_joh_opt, minuteDf_joh_opt = fn.constructTradeLog(joh_final_data_opt['datetime'].values, \n",
    "                                                          joh_final_data_opt['position'].values,\n",
    "                                                          joh_final_data_opt['qqqclose'].values, prices_joh, \n",
    "                                                        slopes_joh.values.round(3), stoploss = None,\n",
    "                                                        lot_size = 1000)\n",
    "tradeLog_joh_opt.tail()"
   ]
  },
  {
   "cell_type": "code",
   "execution_count": null,
   "metadata": {
    "scrolled": false
   },
   "outputs": [],
   "source": [
    "returns_df_joh = minuteDf_joh[['datetime']]\n",
    "returns_df_joh['cumulative_returns'] = np.cumprod(1 + minuteDf_joh['returns'])\n",
    "returns_df_joh['cumulative_returns_opt'] = np.cumprod(1 + minuteDf_joh_opt['returns'])\n",
    "returns_df_joh = returns_df_joh.set_index('datetime')\n",
    "returns_df_joh.plot(figsize=[15, 7], title='Johansen Basket Strategy Returns')"
   ]
  },
  {
   "cell_type": "code",
   "execution_count": null,
   "metadata": {},
   "outputs": [],
   "source": [
    "daily_joh = fn.calculateDailyReturns(minuteDf_joh[['returns', 'datetime']])\n",
    "daily_joh_opt = fn.calculateDailyReturns(minuteDf_joh_opt[['returns', 'datetime']])\n",
    "sharpe_joh = fn.calculateAnnualizedSharpeRatio(daily_joh)\n",
    "sharpe_joh_opt = fn.calculateAnnualizedSharpeRatio(daily_joh_opt)"
   ]
  },
  {
   "cell_type": "code",
   "execution_count": null,
   "metadata": {},
   "outputs": [],
   "source": [
    "print(\"Johansen Basket Backtest Results\")\n",
    "print(\"Returns: \", (returns_df_joh['cumulative_returns'].iloc[-1] - 1) * 100, '%')\n",
    "print(\"Returns (Optimized): \", (returns_df_joh['cumulative_returns_opt'].iloc[-1] - 1) * 100, '%')\n",
    "print(\"Sharpe: \", sharpe_joh)\n",
    "print(\"Sharpe (Optimized)\", sharpe_joh_opt)"
   ]
  },
  {
   "cell_type": "code",
   "execution_count": null,
   "metadata": {},
   "outputs": [],
   "source": []
  }
 ],
 "metadata": {
  "kernelspec": {
   "display_name": "Python 3",
   "language": "python",
   "name": "python3"
  },
  "language_info": {
   "codemirror_mode": {
    "name": "ipython",
    "version": 3
   },
   "file_extension": ".py",
   "mimetype": "text/x-python",
   "name": "python",
   "nbconvert_exporter": "python",
   "pygments_lexer": "ipython3",
   "version": "3.8.5"
  }
 },
 "nbformat": 4,
 "nbformat_minor": 4
}
