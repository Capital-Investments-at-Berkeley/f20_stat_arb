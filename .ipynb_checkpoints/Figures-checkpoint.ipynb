{
 "cells": [
  {
   "cell_type": "code",
   "execution_count": 1,
   "metadata": {},
   "outputs": [],
   "source": [
    "import pandas as pd\n",
    "import functions as fn\n",
    "import numpy as np\n",
    "import matplotlib.pyplot as plt"
   ]
  },
  {
   "cell_type": "code",
   "execution_count": 2,
   "metadata": {},
   "outputs": [],
   "source": [
    "# Start from 01-01-2019 and end at 12-31-2019\n",
    "qqq = pd.read_csv(\"../data/qqqMinute2019.csv\")\n",
    "has = pd.read_csv(\"../data/hasMinute2019.csv\")\n",
    "aapl = pd.read_csv(\"../data/aaplMinute2019.csv\")\n",
    "ttwo = pd.read_csv(\"../data/ttwoMinute2019.csv\")\n",
    "idxx = pd.read_csv(\"../data/idxxMinute2019.csv\")\n",
    "sbux = pd.read_csv(\"../data/sbuxMinute2019.csv\")\n",
    "ctas = pd.read_csv(\"../data/ctasMinute2019.csv\")\n",
    "alxn = pd.read_csv(\"../data/alxnMinute2019.csv\")\n",
    "algn = pd.read_csv(\"../data/algnMinute2019.csv\")\n",
    "payx = pd.read_csv(\"../data/payxMinute2019.csv\")"
   ]
  },
  {
   "cell_type": "code",
   "execution_count": 3,
   "metadata": {},
   "outputs": [],
   "source": [
    "qqq = qqq.set_index('date_time')\n",
    "qqq = qqq.rename(columns={'close': 'qqqclose'})\n",
    "\n",
    "has = has.set_index('date_time')\n",
    "has = has.rename(columns={'close': 'hasclose'})\n",
    "\n",
    "aapl = aapl.set_index('date_time')\n",
    "aapl = aapl.rename(columns={'close': 'aaplclose'})\n",
    "\n",
    "ttwo = ttwo.set_index('date_time')\n",
    "ttwo = ttwo.rename(columns={'close': 'ttwoclose'})\n",
    "\n",
    "idxx = idxx.set_index('date_time')\n",
    "idxx = idxx.rename(columns={'close': 'idxxclose'})\n",
    "\n",
    "sbux = sbux.set_index('date_time')\n",
    "sbux = sbux.rename(columns={'close': 'sbuxclose'})\n",
    "\n",
    "ctas = ctas.set_index('date_time')\n",
    "ctas = ctas.rename(columns={'close': 'ctasclose'})\n",
    "\n",
    "alxn = alxn.set_index('date_time')\n",
    "alxn = alxn.rename(columns={'close': 'alxnclose'})\n",
    "\n",
    "algn = algn.set_index('date_time')\n",
    "algn = algn.rename(columns={'close': 'algnclose'})\n",
    "\n",
    "payx = payx.set_index('date_time')\n",
    "payx = payx.rename(columns={'close': 'payxclose'})"
   ]
  },
  {
   "cell_type": "markdown",
   "metadata": {},
   "source": [
    "### Dataset for Engle-Granger Basket"
   ]
  },
  {
   "cell_type": "code",
   "execution_count": 4,
   "metadata": {},
   "outputs": [
    {
     "data": {
      "text/html": [
       "<div>\n",
       "<style scoped>\n",
       "    .dataframe tbody tr th:only-of-type {\n",
       "        vertical-align: middle;\n",
       "    }\n",
       "\n",
       "    .dataframe tbody tr th {\n",
       "        vertical-align: top;\n",
       "    }\n",
       "\n",
       "    .dataframe thead th {\n",
       "        text-align: right;\n",
       "    }\n",
       "</style>\n",
       "<table border=\"1\" class=\"dataframe\">\n",
       "  <thead>\n",
       "    <tr style=\"text-align: right;\">\n",
       "      <th></th>\n",
       "      <th>qqqclose</th>\n",
       "      <th>hasclose</th>\n",
       "      <th>aaplclose</th>\n",
       "      <th>ttwoclose</th>\n",
       "      <th>sbuxclose</th>\n",
       "      <th>ctasclose</th>\n",
       "      <th>alxnclose</th>\n",
       "      <th>algnclose</th>\n",
       "      <th>payxclose</th>\n",
       "    </tr>\n",
       "  </thead>\n",
       "  <tbody>\n",
       "    <tr>\n",
       "      <th>2019-12-31 15:40:00</th>\n",
       "      <td>212.365</td>\n",
       "      <td>105.6000</td>\n",
       "      <td>293.0850</td>\n",
       "      <td>122.1000</td>\n",
       "      <td>87.7800</td>\n",
       "      <td>268.5400</td>\n",
       "      <td>108.0700</td>\n",
       "      <td>278.0500</td>\n",
       "      <td>84.9600</td>\n",
       "    </tr>\n",
       "    <tr>\n",
       "      <th>2019-12-31 15:41:00</th>\n",
       "      <td>212.400</td>\n",
       "      <td>105.5905</td>\n",
       "      <td>293.1800</td>\n",
       "      <td>122.1000</td>\n",
       "      <td>87.7700</td>\n",
       "      <td>268.8500</td>\n",
       "      <td>108.1340</td>\n",
       "      <td>278.2650</td>\n",
       "      <td>84.9300</td>\n",
       "    </tr>\n",
       "    <tr>\n",
       "      <th>2019-12-31 15:42:00</th>\n",
       "      <td>212.410</td>\n",
       "      <td>105.5800</td>\n",
       "      <td>293.2000</td>\n",
       "      <td>122.1067</td>\n",
       "      <td>87.7800</td>\n",
       "      <td>268.7100</td>\n",
       "      <td>108.0639</td>\n",
       "      <td>278.2900</td>\n",
       "      <td>84.9900</td>\n",
       "    </tr>\n",
       "    <tr>\n",
       "      <th>2019-12-31 15:43:00</th>\n",
       "      <td>212.415</td>\n",
       "      <td>105.5800</td>\n",
       "      <td>293.2600</td>\n",
       "      <td>122.1300</td>\n",
       "      <td>87.8200</td>\n",
       "      <td>268.7476</td>\n",
       "      <td>108.1101</td>\n",
       "      <td>278.2900</td>\n",
       "      <td>85.0000</td>\n",
       "    </tr>\n",
       "    <tr>\n",
       "      <th>2019-12-31 15:44:00</th>\n",
       "      <td>212.450</td>\n",
       "      <td>105.6100</td>\n",
       "      <td>293.3600</td>\n",
       "      <td>122.1300</td>\n",
       "      <td>87.8550</td>\n",
       "      <td>268.7650</td>\n",
       "      <td>108.1300</td>\n",
       "      <td>278.3600</td>\n",
       "      <td>84.9833</td>\n",
       "    </tr>\n",
       "    <tr>\n",
       "      <th>2019-12-31 15:45:00</th>\n",
       "      <td>212.450</td>\n",
       "      <td>105.5900</td>\n",
       "      <td>293.5099</td>\n",
       "      <td>122.1200</td>\n",
       "      <td>87.8600</td>\n",
       "      <td>268.7300</td>\n",
       "      <td>108.1300</td>\n",
       "      <td>278.5800</td>\n",
       "      <td>84.9900</td>\n",
       "    </tr>\n",
       "    <tr>\n",
       "      <th>2019-12-31 15:46:00</th>\n",
       "      <td>212.490</td>\n",
       "      <td>105.6300</td>\n",
       "      <td>293.4300</td>\n",
       "      <td>122.1500</td>\n",
       "      <td>87.8547</td>\n",
       "      <td>268.8400</td>\n",
       "      <td>108.1300</td>\n",
       "      <td>278.3543</td>\n",
       "      <td>84.9500</td>\n",
       "    </tr>\n",
       "    <tr>\n",
       "      <th>2019-12-31 15:47:00</th>\n",
       "      <td>212.495</td>\n",
       "      <td>105.5500</td>\n",
       "      <td>293.4270</td>\n",
       "      <td>122.1584</td>\n",
       "      <td>87.8550</td>\n",
       "      <td>268.7700</td>\n",
       "      <td>108.1176</td>\n",
       "      <td>278.2500</td>\n",
       "      <td>84.9450</td>\n",
       "    </tr>\n",
       "    <tr>\n",
       "      <th>2019-12-31 15:48:00</th>\n",
       "      <td>212.460</td>\n",
       "      <td>105.5400</td>\n",
       "      <td>293.3350</td>\n",
       "      <td>122.2000</td>\n",
       "      <td>87.8450</td>\n",
       "      <td>268.8000</td>\n",
       "      <td>108.1645</td>\n",
       "      <td>278.4100</td>\n",
       "      <td>84.9600</td>\n",
       "    </tr>\n",
       "    <tr>\n",
       "      <th>2019-12-31 15:49:00</th>\n",
       "      <td>212.430</td>\n",
       "      <td>105.5100</td>\n",
       "      <td>293.2700</td>\n",
       "      <td>122.2100</td>\n",
       "      <td>87.8150</td>\n",
       "      <td>268.7950</td>\n",
       "      <td>108.1300</td>\n",
       "      <td>278.4700</td>\n",
       "      <td>84.9300</td>\n",
       "    </tr>\n",
       "  </tbody>\n",
       "</table>\n",
       "</div>"
      ],
      "text/plain": [
       "                     qqqclose  hasclose  aaplclose  ttwoclose  sbuxclose  \\\n",
       "2019-12-31 15:40:00   212.365  105.6000   293.0850   122.1000    87.7800   \n",
       "2019-12-31 15:41:00   212.400  105.5905   293.1800   122.1000    87.7700   \n",
       "2019-12-31 15:42:00   212.410  105.5800   293.2000   122.1067    87.7800   \n",
       "2019-12-31 15:43:00   212.415  105.5800   293.2600   122.1300    87.8200   \n",
       "2019-12-31 15:44:00   212.450  105.6100   293.3600   122.1300    87.8550   \n",
       "2019-12-31 15:45:00   212.450  105.5900   293.5099   122.1200    87.8600   \n",
       "2019-12-31 15:46:00   212.490  105.6300   293.4300   122.1500    87.8547   \n",
       "2019-12-31 15:47:00   212.495  105.5500   293.4270   122.1584    87.8550   \n",
       "2019-12-31 15:48:00   212.460  105.5400   293.3350   122.2000    87.8450   \n",
       "2019-12-31 15:49:00   212.430  105.5100   293.2700   122.2100    87.8150   \n",
       "\n",
       "                     ctasclose  alxnclose  algnclose  payxclose  \n",
       "2019-12-31 15:40:00   268.5400   108.0700   278.0500    84.9600  \n",
       "2019-12-31 15:41:00   268.8500   108.1340   278.2650    84.9300  \n",
       "2019-12-31 15:42:00   268.7100   108.0639   278.2900    84.9900  \n",
       "2019-12-31 15:43:00   268.7476   108.1101   278.2900    85.0000  \n",
       "2019-12-31 15:44:00   268.7650   108.1300   278.3600    84.9833  \n",
       "2019-12-31 15:45:00   268.7300   108.1300   278.5800    84.9900  \n",
       "2019-12-31 15:46:00   268.8400   108.1300   278.3543    84.9500  \n",
       "2019-12-31 15:47:00   268.7700   108.1176   278.2500    84.9450  \n",
       "2019-12-31 15:48:00   268.8000   108.1645   278.4100    84.9600  \n",
       "2019-12-31 15:49:00   268.7950   108.1300   278.4700    84.9300  "
      ]
     },
     "execution_count": 4,
     "metadata": {},
     "output_type": "execute_result"
    }
   ],
   "source": [
    "eg_basket_data = qqq[['qqqclose']].join([has[['hasclose']], aapl[['aaplclose']], ttwo[['ttwoclose']], sbux[['sbuxclose']], \n",
    "                               ctas[['ctasclose']], alxn[['alxnclose']], algn[['algnclose']], payx[['payxclose']]], \n",
    "                              how='outer')\n",
    "eg_basket_data = eg_basket_data.dropna()\n",
    "eg_basket_data.tail(10)"
   ]
  },
  {
   "cell_type": "markdown",
   "metadata": {},
   "source": [
    "### Dataset for Johansen Basket"
   ]
  },
  {
   "cell_type": "code",
   "execution_count": 5,
   "metadata": {},
   "outputs": [
    {
     "data": {
      "text/html": [
       "<div>\n",
       "<style scoped>\n",
       "    .dataframe tbody tr th:only-of-type {\n",
       "        vertical-align: middle;\n",
       "    }\n",
       "\n",
       "    .dataframe tbody tr th {\n",
       "        vertical-align: top;\n",
       "    }\n",
       "\n",
       "    .dataframe thead th {\n",
       "        text-align: right;\n",
       "    }\n",
       "</style>\n",
       "<table border=\"1\" class=\"dataframe\">\n",
       "  <thead>\n",
       "    <tr style=\"text-align: right;\">\n",
       "      <th></th>\n",
       "      <th>qqqclose</th>\n",
       "      <th>hasclose</th>\n",
       "      <th>ttwoclose</th>\n",
       "      <th>idxxclose</th>\n",
       "      <th>sbuxclose</th>\n",
       "      <th>ctasclose</th>\n",
       "      <th>alxnclose</th>\n",
       "    </tr>\n",
       "  </thead>\n",
       "  <tbody>\n",
       "    <tr>\n",
       "      <th>2019-12-31 15:40:00</th>\n",
       "      <td>212.365</td>\n",
       "      <td>105.6000</td>\n",
       "      <td>122.1000</td>\n",
       "      <td>260.58</td>\n",
       "      <td>87.7800</td>\n",
       "      <td>268.5400</td>\n",
       "      <td>108.0700</td>\n",
       "    </tr>\n",
       "    <tr>\n",
       "      <th>2019-12-31 15:41:00</th>\n",
       "      <td>212.400</td>\n",
       "      <td>105.5905</td>\n",
       "      <td>122.1000</td>\n",
       "      <td>260.72</td>\n",
       "      <td>87.7700</td>\n",
       "      <td>268.8500</td>\n",
       "      <td>108.1340</td>\n",
       "    </tr>\n",
       "    <tr>\n",
       "      <th>2019-12-31 15:42:00</th>\n",
       "      <td>212.410</td>\n",
       "      <td>105.5800</td>\n",
       "      <td>122.1067</td>\n",
       "      <td>260.70</td>\n",
       "      <td>87.7800</td>\n",
       "      <td>268.7100</td>\n",
       "      <td>108.0639</td>\n",
       "    </tr>\n",
       "    <tr>\n",
       "      <th>2019-12-31 15:43:00</th>\n",
       "      <td>212.415</td>\n",
       "      <td>105.5800</td>\n",
       "      <td>122.1300</td>\n",
       "      <td>260.70</td>\n",
       "      <td>87.8200</td>\n",
       "      <td>268.7476</td>\n",
       "      <td>108.1101</td>\n",
       "    </tr>\n",
       "    <tr>\n",
       "      <th>2019-12-31 15:44:00</th>\n",
       "      <td>212.450</td>\n",
       "      <td>105.6100</td>\n",
       "      <td>122.1300</td>\n",
       "      <td>260.70</td>\n",
       "      <td>87.8550</td>\n",
       "      <td>268.7650</td>\n",
       "      <td>108.1300</td>\n",
       "    </tr>\n",
       "    <tr>\n",
       "      <th>2019-12-31 15:45:00</th>\n",
       "      <td>212.450</td>\n",
       "      <td>105.5900</td>\n",
       "      <td>122.1200</td>\n",
       "      <td>260.64</td>\n",
       "      <td>87.8600</td>\n",
       "      <td>268.7300</td>\n",
       "      <td>108.1300</td>\n",
       "    </tr>\n",
       "    <tr>\n",
       "      <th>2019-12-31 15:46:00</th>\n",
       "      <td>212.490</td>\n",
       "      <td>105.6300</td>\n",
       "      <td>122.1500</td>\n",
       "      <td>260.64</td>\n",
       "      <td>87.8547</td>\n",
       "      <td>268.8400</td>\n",
       "      <td>108.1300</td>\n",
       "    </tr>\n",
       "    <tr>\n",
       "      <th>2019-12-31 15:47:00</th>\n",
       "      <td>212.495</td>\n",
       "      <td>105.5500</td>\n",
       "      <td>122.1584</td>\n",
       "      <td>260.54</td>\n",
       "      <td>87.8550</td>\n",
       "      <td>268.7700</td>\n",
       "      <td>108.1176</td>\n",
       "    </tr>\n",
       "    <tr>\n",
       "      <th>2019-12-31 15:48:00</th>\n",
       "      <td>212.460</td>\n",
       "      <td>105.5400</td>\n",
       "      <td>122.2000</td>\n",
       "      <td>260.53</td>\n",
       "      <td>87.8450</td>\n",
       "      <td>268.8000</td>\n",
       "      <td>108.1645</td>\n",
       "    </tr>\n",
       "    <tr>\n",
       "      <th>2019-12-31 15:49:00</th>\n",
       "      <td>212.430</td>\n",
       "      <td>105.5100</td>\n",
       "      <td>122.2100</td>\n",
       "      <td>260.32</td>\n",
       "      <td>87.8150</td>\n",
       "      <td>268.7950</td>\n",
       "      <td>108.1300</td>\n",
       "    </tr>\n",
       "  </tbody>\n",
       "</table>\n",
       "</div>"
      ],
      "text/plain": [
       "                     qqqclose  hasclose  ttwoclose  idxxclose  sbuxclose  \\\n",
       "2019-12-31 15:40:00   212.365  105.6000   122.1000     260.58    87.7800   \n",
       "2019-12-31 15:41:00   212.400  105.5905   122.1000     260.72    87.7700   \n",
       "2019-12-31 15:42:00   212.410  105.5800   122.1067     260.70    87.7800   \n",
       "2019-12-31 15:43:00   212.415  105.5800   122.1300     260.70    87.8200   \n",
       "2019-12-31 15:44:00   212.450  105.6100   122.1300     260.70    87.8550   \n",
       "2019-12-31 15:45:00   212.450  105.5900   122.1200     260.64    87.8600   \n",
       "2019-12-31 15:46:00   212.490  105.6300   122.1500     260.64    87.8547   \n",
       "2019-12-31 15:47:00   212.495  105.5500   122.1584     260.54    87.8550   \n",
       "2019-12-31 15:48:00   212.460  105.5400   122.2000     260.53    87.8450   \n",
       "2019-12-31 15:49:00   212.430  105.5100   122.2100     260.32    87.8150   \n",
       "\n",
       "                     ctasclose  alxnclose  \n",
       "2019-12-31 15:40:00   268.5400   108.0700  \n",
       "2019-12-31 15:41:00   268.8500   108.1340  \n",
       "2019-12-31 15:42:00   268.7100   108.0639  \n",
       "2019-12-31 15:43:00   268.7476   108.1101  \n",
       "2019-12-31 15:44:00   268.7650   108.1300  \n",
       "2019-12-31 15:45:00   268.7300   108.1300  \n",
       "2019-12-31 15:46:00   268.8400   108.1300  \n",
       "2019-12-31 15:47:00   268.7700   108.1176  \n",
       "2019-12-31 15:48:00   268.8000   108.1645  \n",
       "2019-12-31 15:49:00   268.7950   108.1300  "
      ]
     },
     "execution_count": 5,
     "metadata": {},
     "output_type": "execute_result"
    }
   ],
   "source": [
    "joh_basket_data = qqq[['qqqclose']].join([has[['hasclose']], ttwo[['ttwoclose']], idxx[['idxxclose']], \n",
    "                               sbux[['sbuxclose']], ctas[['ctasclose']], alxn[['alxnclose']]], how='outer')\n",
    "joh_basket_data = joh_basket_data.dropna()\n",
    "joh_basket_data.tail(10)"
   ]
  },
  {
   "cell_type": "markdown",
   "metadata": {},
   "source": [
    "### Multivariate Kalman Filter\n",
    "At every timestep, the Kalman Filter outputs estimates for the hedge ratios of each component in our synthetic basket as well as an intercept term.  In other words, it gave us all the tools to calculate an estimate for the price of QQQ based on the price of each component in our basket.  The residuals of this estimate form a mean-reverting and stationary process that we can take advantage of.  \n",
    "\n",
    "We model QQQ price with the following formula:\n",
    "$$ \\widehat{log(price_{QQQ})} = \\sum_{n=1}^{N} \\beta_{n} * log(price_{n}) $$\n",
    "\n",
    "Using the Kalman Filter, we are able to calculate what the values for $ \\beta_{n} $ are for each time-period.\n",
    "\n",
    "We expect the residuals of this model to be mean-reverting and stationary.\n",
    "\n",
    "$$ residuals = log(price_{QQQ}) - \\widehat{log(price_{QQQ})} $$"
   ]
  },
  {
   "cell_type": "code",
   "execution_count": 6,
   "metadata": {},
   "outputs": [],
   "source": [
    "syntheticAssetLogPriceEG = eg_basket_data[['hasclose', 'aaplclose', 'ttwoclose', 'sbuxclose', \n",
    "                               'ctasclose', 'alxnclose', 'algnclose', 'payxclose']].apply(np.log)\n",
    "qqqLogPriceEG = np.log(eg_basket_data['qqqclose'].values)\n",
    "\n",
    "syntheticAssetLogPriceJoh = joh_basket_data[['hasclose', 'ttwoclose', 'sbuxclose', \n",
    "                               'idxxclose', 'ctasclose', 'alxnclose']].apply(np.log)\n",
    "qqqLogPriceJoh = np.log(joh_basket_data['qqqclose'].values)\n",
    "\n",
    "syntheticAssetLogPriceHas = eg_basket_data['hasclose'].apply(np.log)\n",
    "qqqLogPriceHas = np.log(eg_basket_data['qqqclose'].values)"
   ]
  },
  {
   "cell_type": "code",
   "execution_count": 7,
   "metadata": {},
   "outputs": [],
   "source": [
    "kf_EG = fn.multivariateKalmanFilter(syntheticAssetLogPriceEG, qqqLogPriceEG)\n",
    "state_means_eg, state_covs_eg = kf_EG.filter(qqqLogPriceEG)\n",
    "basket_size_eg = len(syntheticAssetLogPriceEG.columns)\n",
    "slopes_eg = state_means_eg[:, np.arange(0, basket_size_eg, 1)]\n",
    "#intercept = state_means[:, basket_size]"
   ]
  },
  {
   "cell_type": "code",
   "execution_count": 8,
   "metadata": {},
   "outputs": [
    {
     "data": {
      "text/plain": [
       "Text(0.5, 0, 'Date')"
      ]
     },
     "execution_count": 8,
     "metadata": {},
     "output_type": "execute_result"
    },
    {
     "data": {
      "image/png": "[encoded data removed]",
      "text/plain": [
       "<Figure size 1080x504 with 1 Axes>"
      ]
     },
     "metadata": {
      "needs_background": "light"
     },
     "output_type": "display_data"
    }
   ],
   "source": [
    "syntheticAssetEstimateEG = [np.dot(slopes_eg[i], syntheticAssetLogPriceEG.values[i].T) for i in range(len(slopes_eg))]\n",
    "spread_ts_eg = qqqLogPriceEG - syntheticAssetEstimateEG\n",
    "plt.figure(figsize = (15,7))\n",
    "plt.plot(spread_ts_eg)\n",
    "plt.title(\"Spread Between QQQ and Engle-Granger Basket\")\n",
    "plt.ylabel(\"Log Spread ($)\")\n",
    "plt.xlabel(\"Date\")"
   ]
  },
  {
   "cell_type": "code",
   "execution_count": 9,
   "metadata": {},
   "outputs": [],
   "source": [
    "kf_Joh = fn.multivariateKalmanFilter(syntheticAssetLogPriceJoh, qqqLogPriceJoh)\n",
    "state_means_joh, state_covs_joh = kf_Joh.filter(qqqLogPriceJoh)\n",
    "basket_size_joh = len(syntheticAssetLogPriceJoh.columns)\n",
    "slopes_joh = state_means_joh[:, np.arange(0, basket_size_joh, 1)]\n",
    "#intercept = state_means[:, basket_size]"
   ]
  },
  {
   "cell_type": "code",
   "execution_count": 10,
   "metadata": {},
   "outputs": [
    {
     "data": {
      "text/plain": [
       "Text(0.5, 0, 'Date')"
      ]
     },
     "execution_count": 10,
     "metadata": {},
     "output_type": "execute_result"
    },
    {
     "data": {
      "image/png": "[encoded data removed]",
      "text/plain": [
       "<Figure size 1080x504 with 1 Axes>"
      ]
     },
     "metadata": {
      "needs_background": "light"
     },
     "output_type": "display_data"
    }
   ],
   "source": [
    "syntheticAssetEstimateJoh = [np.dot(slopes_joh[i], syntheticAssetLogPriceJoh.values[i].T) for i in range(len(slopes_joh))]\n",
    "spread_ts_joh = qqqLogPriceJoh - syntheticAssetEstimateJoh\n",
    "plt.figure(figsize = (15,7))\n",
    "plt.plot(spread_ts_joh)\n",
    "plt.title(\"Spread Between QQQ and Johansen Basket\")\n",
    "plt.ylabel(\"Log Spread ($)\")\n",
    "plt.xlabel(\"Date\")"
   ]
  },
  {
   "cell_type": "code",
   "execution_count": 11,
   "metadata": {},
   "outputs": [
    {
     "ename": "ValueError",
     "evalue": "The shape of all parameters is not consistent.  Please re-check their values.",
     "output_type": "error",
     "traceback": [
      "\u001b[1;31m---------------------------------------------------------------------------\u001b[0m",
      "\u001b[1;31mValueError\u001b[0m                                Traceback (most recent call last)",
      "\u001b[1;32m<ipython-input-11-5dc79c2d570e>\u001b[0m in \u001b[0;36m<module>\u001b[1;34m\u001b[0m\n\u001b[1;32m----> 1\u001b[1;33m \u001b[0mkf_Has\u001b[0m \u001b[1;33m=\u001b[0m \u001b[0mfn\u001b[0m\u001b[1;33m.\u001b[0m\u001b[0munivariateKalmanFilter\u001b[0m\u001b[1;33m(\u001b[0m\u001b[0msyntheticAssetLogPriceHas\u001b[0m\u001b[1;33m,\u001b[0m \u001b[0mqqqLogPriceHas\u001b[0m\u001b[1;33m)\u001b[0m\u001b[1;33m\u001b[0m\u001b[1;33m\u001b[0m\u001b[0m\n\u001b[0m\u001b[0;32m      2\u001b[0m \u001b[0mstate_means_has\u001b[0m\u001b[1;33m,\u001b[0m \u001b[0mstate_covs_has\u001b[0m \u001b[1;33m=\u001b[0m \u001b[0mkf_Has\u001b[0m\u001b[1;33m.\u001b[0m\u001b[0mfilter\u001b[0m\u001b[1;33m(\u001b[0m\u001b[0mqqqLogPriceHas\u001b[0m\u001b[1;33m)\u001b[0m\u001b[1;33m\u001b[0m\u001b[1;33m\u001b[0m\u001b[0m\n\u001b[0;32m      3\u001b[0m \u001b[0mslopes_has\u001b[0m \u001b[1;33m=\u001b[0m \u001b[0mstate_means_has\u001b[0m\u001b[1;33m[\u001b[0m\u001b[1;33m:\u001b[0m\u001b[1;33m,\u001b[0m \u001b[1;36m0\u001b[0m\u001b[1;33m]\u001b[0m\u001b[1;33m\u001b[0m\u001b[1;33m\u001b[0m\u001b[0m\n\u001b[0;32m      4\u001b[0m \u001b[1;31m#intercept_has = state_means_has[:, 1]\u001b[0m\u001b[1;33m\u001b[0m\u001b[1;33m\u001b[0m\u001b[1;33m\u001b[0m\u001b[0m\n",
      "\u001b[1;32m~\\Documents\\fall2020\\f20_stat_arb\\functions.py\u001b[0m in \u001b[0;36munivariateKalmanFilter\u001b[1;34m(priceX, priceY)\u001b[0m\n\u001b[0;32m    102\u001b[0m     \u001b[0mfirstY\u001b[0m \u001b[1;33m=\u001b[0m \u001b[0mnp\u001b[0m\u001b[1;33m.\u001b[0m\u001b[0mlog\u001b[0m\u001b[1;33m(\u001b[0m\u001b[0mpriceY\u001b[0m\u001b[1;33m[\u001b[0m\u001b[1;36m0\u001b[0m\u001b[1;33m]\u001b[0m\u001b[1;33m)\u001b[0m\u001b[1;33m\u001b[0m\u001b[1;33m\u001b[0m\u001b[0m\n\u001b[0;32m    103\u001b[0m     \u001b[0mfirstX\u001b[0m \u001b[1;33m=\u001b[0m \u001b[0mnp\u001b[0m\u001b[1;33m.\u001b[0m\u001b[0mlog\u001b[0m\u001b[1;33m(\u001b[0m\u001b[0mpriceX\u001b[0m\u001b[1;33m[\u001b[0m\u001b[1;36m0\u001b[0m\u001b[1;33m]\u001b[0m\u001b[1;33m)\u001b[0m\u001b[1;33m\u001b[0m\u001b[1;33m\u001b[0m\u001b[0m\n\u001b[1;32m--> 104\u001b[1;33m     kf = KalmanFilter(n_dim_obs = 1, n_dim_state = 1,\n\u001b[0m\u001b[0;32m    105\u001b[0m                     \u001b[0minitial_state_mean\u001b[0m \u001b[1;33m=\u001b[0m \u001b[1;33m[\u001b[0m\u001b[0mfirstY\u001b[0m \u001b[1;33m/\u001b[0m \u001b[0mfirstX\u001b[0m\u001b[1;33m]\u001b[0m\u001b[1;33m,\u001b[0m\u001b[1;33m\u001b[0m\u001b[1;33m\u001b[0m\u001b[0m\n\u001b[0;32m    106\u001b[0m                     \u001b[0minitial_state_covariance\u001b[0m \u001b[1;33m=\u001b[0m \u001b[1;33m[\u001b[0m\u001b[1;36m1\u001b[0m\u001b[1;33m]\u001b[0m\u001b[1;33m,\u001b[0m\u001b[1;33m\u001b[0m\u001b[1;33m\u001b[0m\u001b[0m\n",
      "\u001b[1;32m~\\anaconda3\\envs\\quant\\lib\\site-packages\\pykalman\\standard.py\u001b[0m in \u001b[0;36m__init__\u001b[1;34m(self, transition_matrices, observation_matrices, transition_covariance, observation_covariance, transition_offsets, observation_offsets, initial_state_mean, initial_state_covariance, random_state, em_vars, n_dim_state, n_dim_obs)\u001b[0m\n\u001b[0;32m   1018\u001b[0m \u001b[1;33m\u001b[0m\u001b[0m\n\u001b[0;32m   1019\u001b[0m         \u001b[1;31m# determine size of state space\u001b[0m\u001b[1;33m\u001b[0m\u001b[1;33m\u001b[0m\u001b[1;33m\u001b[0m\u001b[0m\n\u001b[1;32m-> 1020\u001b[1;33m         n_dim_state = _determine_dimensionality(\n\u001b[0m\u001b[0;32m   1021\u001b[0m             [(transition_matrices, array2d, -2),\n\u001b[0;32m   1022\u001b[0m              \u001b[1;33m(\u001b[0m\u001b[0mtransition_offsets\u001b[0m\u001b[1;33m,\u001b[0m \u001b[0marray1d\u001b[0m\u001b[1;33m,\u001b[0m \u001b[1;33m-\u001b[0m\u001b[1;36m1\u001b[0m\u001b[1;33m)\u001b[0m\u001b[1;33m,\u001b[0m\u001b[1;33m\u001b[0m\u001b[1;33m\u001b[0m\u001b[0m\n",
      "\u001b[1;32m~\\anaconda3\\envs\\quant\\lib\\site-packages\\pykalman\\standard.py\u001b[0m in \u001b[0;36m_determine_dimensionality\u001b[1;34m(variables, default)\u001b[0m\n\u001b[0;32m     73\u001b[0m     \u001b[1;32melse\u001b[0m\u001b[1;33m:\u001b[0m\u001b[1;33m\u001b[0m\u001b[1;33m\u001b[0m\u001b[0m\n\u001b[0;32m     74\u001b[0m         \u001b[1;32mif\u001b[0m \u001b[1;32mnot\u001b[0m \u001b[0mnp\u001b[0m\u001b[1;33m.\u001b[0m\u001b[0mall\u001b[0m\u001b[1;33m(\u001b[0m\u001b[0mnp\u001b[0m\u001b[1;33m.\u001b[0m\u001b[0marray\u001b[0m\u001b[1;33m(\u001b[0m\u001b[0mcandidates\u001b[0m\u001b[1;33m)\u001b[0m \u001b[1;33m==\u001b[0m \u001b[0mcandidates\u001b[0m\u001b[1;33m[\u001b[0m\u001b[1;36m0\u001b[0m\u001b[1;33m]\u001b[0m\u001b[1;33m)\u001b[0m\u001b[1;33m:\u001b[0m\u001b[1;33m\u001b[0m\u001b[1;33m\u001b[0m\u001b[0m\n\u001b[1;32m---> 75\u001b[1;33m             raise ValueError(\n\u001b[0m\u001b[0;32m     76\u001b[0m                 \u001b[1;34m\"The shape of all \"\u001b[0m \u001b[1;33m+\u001b[0m\u001b[1;33m\u001b[0m\u001b[1;33m\u001b[0m\u001b[0m\n\u001b[0;32m     77\u001b[0m                 \u001b[1;34m\"parameters is not consistent.  \"\u001b[0m \u001b[1;33m+\u001b[0m\u001b[1;33m\u001b[0m\u001b[1;33m\u001b[0m\u001b[0m\n",
      "\u001b[1;31mValueError\u001b[0m: The shape of all parameters is not consistent.  Please re-check their values."
     ]
    }
   ],
   "source": [
    "kf_Has = fn.univariateKalmanFilter(syntheticAssetLogPriceHas, qqqLogPriceHas)\n",
    "state_means_has, state_covs_has = kf_Has.filter(qqqLogPriceHas)\n",
    "slopes_has = state_means_has[:, 0]\n",
    "intercept_has = state_means_has[:, 1]"
   ]
  },
  {
   "cell_type": "code",
   "execution_count": null,
   "metadata": {},
   "outputs": [],
   "source": [
    "slopes_has"
   ]
  },
  {
   "cell_type": "code",
   "execution_count": null,
   "metadata": {},
   "outputs": [],
   "source": [
    "syntheticAssetEstimateHas = [slopes_has[i] * syntheticAssetLogPriceHas.values[i] + intercept_has[i] for i in range(len(slopes_has))]\n",
    "spread_ts_has = qqqLogPriceHas - syntheticAssetEstimateHas\n",
    "plt.figure(figsize = (15,7))\n",
    "plt.plot(spread_ts_has)\n",
    "plt.title(\"Spread Between QQQ and HAS\")\n",
    "plt.ylabel(\"Log Spread ($)\")\n",
    "plt.xlabel(\"Date\")"
   ]
  },
  {
   "cell_type": "code",
   "execution_count": null,
   "metadata": {},
   "outputs": [],
   "source": [
    "len(syntheticAssetEstimateHas)"
   ]
  },
  {
   "cell_type": "code",
   "execution_count": null,
   "metadata": {},
   "outputs": [],
   "source": [
    "len(has_data['qqqclose'].values)"
   ]
  },
  {
   "cell_type": "code",
   "execution_count": null,
   "metadata": {},
   "outputs": [],
   "source": [
    "len(spread_ts_has)"
   ]
  },
  {
   "cell_type": "code",
   "execution_count": null,
   "metadata": {},
   "outputs": [],
   "source": [
    "spread_ts_has"
   ]
  },
  {
   "cell_type": "code",
   "execution_count": null,
   "metadata": {},
   "outputs": [],
   "source": []
  }
 ],
 "metadata": {
  "kernelspec": {
   "display_name": "Python 3",
   "language": "python",
   "name": "python3"
  },
  "language_info": {
   "codemirror_mode": {
    "name": "ipython",
    "version": 3
   },
   "file_extension": ".py",
   "mimetype": "text/x-python",
   "name": "python",
   "nbconvert_exporter": "python",
   "pygments_lexer": "ipython3",
   "version": "3.8.5"
  }
 },
 "nbformat": 4,
 "nbformat_minor": 4
}
