{
 "cells": [
  {
   "cell_type": "code",
   "execution_count": 1,
   "metadata": {},
   "outputs": [],
   "source": [
    "import pandas as pd\n",
    "import functions as fn\n",
    "import numpy as np\n",
    "import matplotlib.pyplot as plt"
   ]
  },
  {
   "cell_type": "markdown",
   "metadata": {},
   "source": [
    "# Constructing Synthetic Basket\n",
    "\n",
    "1. Calculates the cointegration score of each NASDAQ100 component present in 2018 and 2019 against the QQQ ETF for the year 2018\n",
    "2. Selects subset of NASDAQ100 components that have a cointegration p-value below 0.2\n",
    "3. Create a powerset of the cointegrated subset and calculate the cointegration score of the subset against the QQQ ETF\n",
    "4. Select most cointegrated subset as our synthetic basket which is, by design, cointegrated with QQQ in 2018"
   ]
  },
  {
   "cell_type": "code",
   "execution_count": 2,
   "metadata": {},
   "outputs": [],
   "source": [
    "tickers = pd.read_csv(\"../data/nasdaq_comps_2016-2020.csv\")"
   ]
  },
  {
   "cell_type": "markdown",
   "metadata": {},
   "source": [
    "### Engle-Granger Two-Step Method\n",
    "We use the Engle-Granger Two-Step method in our initial step to calculate the cointegration between each NASDAQ100 component and the QQQ ETF.  NASDAQ100 components are chosen if they are a component during both our basket formation period (2018) and our trading period (2019)."
   ]
  },
  {
   "cell_type": "code",
   "execution_count": 3,
   "metadata": {},
   "outputs": [
    {
     "name": "stdout",
     "output_type": "stream",
     "text": [
      "[*********************100%***********************]  1 of 1 completed\n",
      "[*********************100%***********************]  1 of 1 completed\n",
      "JD\n",
      "[*********************100%***********************]  1 of 1 completed\n",
      "AAPL\n",
      "[*********************100%***********************]  1 of 1 completed\n",
      "SIRI\n",
      "[*********************100%***********************]  1 of 1 completed\n",
      "CSCO\n",
      "[*********************100%***********************]  1 of 1 completed\n",
      "MXIM\n",
      "[*********************100%***********************]  1 of 1 completed\n",
      "CTSH\n",
      "[*********************100%***********************]  1 of 1 completed\n",
      "ADI\n",
      "[*********************100%***********************]  1 of 1 completed\n",
      "MDLZ\n",
      "[*********************100%***********************]  1 of 1 completed\n",
      "KHC\n",
      "[*********************100%***********************]  1 of 1 completed\n",
      "MNST\n",
      "[*********************100%***********************]  1 of 1 completed\n",
      "INCY\n",
      "[*********************100%***********************]  1 of 1 completed\n",
      "WDC\n",
      "[*********************100%***********************]  1 of 1 completed\n",
      "FISV\n",
      "[*********************100%***********************]  1 of 1 completed\n",
      "ADP\n",
      "[*********************100%***********************]  1 of 1 completed\n",
      "BIIB\n",
      "[*********************100%***********************]  1 of 1 completed\n",
      "ADSK\n",
      "[*********************100%***********************]  1 of 1 completed\n",
      "SNPS\n",
      "[*********************100%***********************]  1 of 1 completed\n",
      "\n",
      "1 Failed download:\n",
      "- CTRP: No data found, symbol may be delisted\n",
      "err\n",
      "[*********************100%***********************]  1 of 1 completed\n",
      "ASML\n",
      "[*********************100%***********************]  1 of 1 completed\n",
      "DLTR\n",
      "[*********************100%***********************]  1 of 1 completed\n",
      "CHKP\n",
      "[*********************100%***********************]  1 of 1 completed\n",
      "REGN\n",
      "[*********************100%***********************]  1 of 1 completed\n",
      "COST\n",
      "[*********************100%***********************]  1 of 1 completed\n",
      "EA\n",
      "[*********************100%***********************]  1 of 1 completed\n",
      "AAL\n",
      "[*********************100%***********************]  1 of 1 completed\n",
      "SBUX\n",
      "[*********************100%***********************]  1 of 1 completed\n",
      "ISRG\n",
      "[*********************100%***********************]  1 of 1 completed\n",
      "PAYX\n",
      "[*********************100%***********************]  1 of 1 completed\n",
      "ROST\n",
      "[*********************100%***********************]  1 of 1 completed\n",
      "AMGN\n",
      "[*********************100%***********************]  1 of 1 completed\n",
      "AMAT\n",
      "[*********************100%***********************]  1 of 1 completed\n",
      "CDNS\n",
      "[*********************100%***********************]  1 of 1 completed\n",
      "FB\n",
      "[*********************100%***********************]  1 of 1 completed\n",
      "GOOG\n",
      "[*********************100%***********************]  1 of 1 completed\n",
      "CERN\n",
      "[*********************100%***********************]  1 of 1 completed\n",
      "XLNX\n",
      "[*********************100%***********************]  1 of 1 completed\n",
      "WDAY\n",
      "[*********************100%***********************]  1 of 1 completed\n",
      "LBTYA\n",
      "[*********************100%***********************]  1 of 1 completed\n",
      "NFLX\n",
      "[*********************100%***********************]  1 of 1 completed\n",
      "CHTR\n",
      "[*********************100%***********************]  1 of 1 completed\n",
      "err\n",
      "[*********************100%***********************]  1 of 1 completed\n",
      "INTC\n",
      "[*********************100%***********************]  1 of 1 completed\n",
      "MYL\n",
      "[*********************100%***********************]  1 of 1 completed\n",
      "KLAC\n",
      "[*********************100%***********************]  1 of 1 completed\n",
      "MCHP\n",
      "[*********************100%***********************]  1 of 1 completed\n",
      "TTWO\n",
      "[*********************100%***********************]  1 of 1 completed\n",
      "EBAY\n",
      "[*********************100%***********************]  1 of 1 completed\n",
      "SWKS\n",
      "[*********************100%***********************]  1 of 1 completed\n",
      "MSFT\n",
      "[*********************100%***********************]  1 of 1 completed\n",
      "HSIC\n",
      "[*********************100%***********************]  1 of 1 completed\n",
      "ALGN\n",
      "[*********************100%***********************]  1 of 1 completed\n",
      "TSLA\n",
      "[*********************100%***********************]  1 of 1 completed\n",
      "\n",
      "1 Failed download:\n",
      "- FOXA: Data doesn't exist for startDate = 1514793600, endDate = 1546243200\n",
      "err\n",
      "[*********************100%***********************]  1 of 1 completed\n",
      "CSX\n",
      "[*********************100%***********************]  1 of 1 completed\n",
      "AMZN\n",
      "[*********************100%***********************]  1 of 1 completed\n",
      "MAR\n",
      "[*********************100%***********************]  1 of 1 completed\n",
      "VRTX\n",
      "[*********************100%***********************]  1 of 1 completed\n",
      "PYPL\n",
      "[*********************100%***********************]  1 of 1 completed\n",
      "ORLY\n",
      "[*********************100%***********************]  1 of 1 completed\n",
      "HAS\n",
      "[*********************100%***********************]  1 of 1 completed\n",
      "PCAR\n",
      "[*********************100%***********************]  1 of 1 completed\n",
      "VRSK\n",
      "[*********************100%***********************]  1 of 1 completed\n",
      "IDXX\n",
      "[*********************100%***********************]  1 of 1 completed\n",
      "BIDU\n",
      "[*********************100%***********************]  1 of 1 completed\n",
      "TMUS\n",
      "[*********************100%***********************]  1 of 1 completed\n",
      "JBHT\n",
      "[*********************100%***********************]  1 of 1 completed\n",
      "MU\n",
      "[*********************100%***********************]  1 of 1 completed\n",
      "TXN\n",
      "[*********************100%***********************]  1 of 1 completed\n",
      "NVDA\n",
      "[*********************100%***********************]  1 of 1 completed\n",
      "BKNG\n",
      "[*********************100%***********************]  1 of 1 completed\n",
      "ATVI\n",
      "[*********************100%***********************]  1 of 1 completed\n",
      "EXPE\n",
      "[*********************100%***********************]  1 of 1 completed\n",
      "WBA\n",
      "[*********************100%***********************]  1 of 1 completed\n",
      "MELI\n",
      "[*********************100%***********************]  1 of 1 completed\n",
      "LBTYK\n",
      "[*********************100%***********************]  1 of 1 completed\n",
      "WYNN\n",
      "[*********************100%***********************]  1 of 1 completed\n",
      "FAST\n",
      "[*********************100%***********************]  1 of 1 completed\n",
      "CTAS\n",
      "[*********************100%***********************]  1 of 1 completed\n",
      "CTXS\n",
      "[*********************100%***********************]  1 of 1 completed\n",
      "ADBE\n",
      "[*********************100%***********************]  1 of 1 completed\n",
      "\n",
      "1 Failed download:\n",
      "- CELG: No data found, symbol may be delisted\n",
      "err\n",
      "[*********************100%***********************]  1 of 1 completed\n",
      "INTU\n",
      "[*********************100%***********************]  1 of 1 completed\n",
      "AVGO\n",
      "[*********************100%***********************]  1 of 1 completed\n",
      "ALXN\n",
      "[*********************100%***********************]  1 of 1 completed\n",
      "ILMN\n",
      "[*********************100%***********************]  1 of 1 completed\n",
      "BMRN\n",
      "[*********************100%***********************]  1 of 1 completed\n",
      "NTES\n",
      "[*********************100%***********************]  1 of 1 completed\n",
      "\n",
      "1 Failed download:\n",
      "- FOX: Data doesn't exist for startDate = 1514793600, endDate = 1546243200\n",
      "err\n",
      "[*********************100%***********************]  1 of 1 completed\n",
      "QCOM\n",
      "[*********************100%***********************]  1 of 1 completed\n",
      "\n",
      "1 Failed download:\n",
      "- SYMC: No data found, symbol may be delisted\n",
      "err\n",
      "[*********************100%***********************]  1 of 1 completed\n",
      "GILD\n",
      "[*********************100%***********************]  1 of 1 completed\n",
      "LRCX\n",
      "[*********************100%***********************]  1 of 1 completed\n",
      "ULTA\n"
     ]
    }
   ],
   "source": [
    "tickers = list(set(tickers['2019']).intersection(set(tickers['2018'])))\n",
    "etf = 'QQQ'\n",
    "start = '2018-01-01'\n",
    "end = '2018-12-31'\n",
    "cointegrationResultsIndividual = fn.runCointTestIndividual(etf, tickers, start, end)"
   ]
  },
  {
   "cell_type": "code",
   "execution_count": 4,
   "metadata": {},
   "outputs": [
    {
     "data": {
      "text/html": [
       "<div>\n",
       "<style scoped>\n",
       "    .dataframe tbody tr th:only-of-type {\n",
       "        vertical-align: middle;\n",
       "    }\n",
       "\n",
       "    .dataframe tbody tr th {\n",
       "        vertical-align: top;\n",
       "    }\n",
       "\n",
       "    .dataframe thead th {\n",
       "        text-align: right;\n",
       "    }\n",
       "</style>\n",
       "<table border=\"1\" class=\"dataframe\">\n",
       "  <thead>\n",
       "    <tr style=\"text-align: right;\">\n",
       "      <th></th>\n",
       "      <th>ticker</th>\n",
       "      <th>t-stat</th>\n",
       "      <th>pval</th>\n",
       "    </tr>\n",
       "  </thead>\n",
       "  <tbody>\n",
       "    <tr>\n",
       "      <th>59</th>\n",
       "      <td>HAS</td>\n",
       "      <td>-3.476138</td>\n",
       "      <td>0.034570</td>\n",
       "    </tr>\n",
       "    <tr>\n",
       "      <th>1</th>\n",
       "      <td>AAPL</td>\n",
       "      <td>-3.268703</td>\n",
       "      <td>0.059170</td>\n",
       "    </tr>\n",
       "    <tr>\n",
       "      <th>45</th>\n",
       "      <td>TTWO</td>\n",
       "      <td>-3.186715</td>\n",
       "      <td>0.072178</td>\n",
       "    </tr>\n",
       "    <tr>\n",
       "      <th>62</th>\n",
       "      <td>IDXX</td>\n",
       "      <td>-3.156778</td>\n",
       "      <td>0.077458</td>\n",
       "    </tr>\n",
       "    <tr>\n",
       "      <th>25</th>\n",
       "      <td>SBUX</td>\n",
       "      <td>-3.125705</td>\n",
       "      <td>0.083256</td>\n",
       "    </tr>\n",
       "  </tbody>\n",
       "</table>\n",
       "</div>"
      ],
      "text/plain": [
       "   ticker    t-stat      pval\n",
       "59    HAS -3.476138  0.034570\n",
       "1    AAPL -3.268703  0.059170\n",
       "45   TTWO -3.186715  0.072178\n",
       "62   IDXX -3.156778  0.077458\n",
       "25   SBUX -3.125705  0.083256"
      ]
     },
     "execution_count": 4,
     "metadata": {},
     "output_type": "execute_result"
    }
   ],
   "source": [
    "cointegrationResultsIndividual.head()"
   ]
  },
  {
   "cell_type": "markdown",
   "metadata": {},
   "source": [
    "### Synthetic Basket Construction\n",
    "Based on the Johansen cointegration test performed, we select the subset of the NASDAQ100 components that have a cointegration test p-value of less than 0.2 to be candidates for our synthetic basket.  We create every possible basket that can be constructed by any combination of the components in our subset and run another Engle-Granger cointegration test.  This time we run the cointegration test of the ETF against the sum of the components in our basket.  The most cointegrated synthetic basket is selected to be traded in the trading period (2019)."
   ]
  },
  {
   "cell_type": "code",
   "execution_count": 5,
   "metadata": {},
   "outputs": [
    {
     "name": "stdout",
     "output_type": "stream",
     "text": [
      "[*********************100%***********************]  1 of 1 completed\n",
      "[*********************100%***********************]  10 of 10 completed\n",
      "0 done, out of a total of  1013\n",
      "500 done, out of a total of  1013\n",
      "1000 done, out of a total of  1013\n"
     ]
    }
   ],
   "source": [
    "subset = cointegrationResultsIndividual.loc[cointegrationResultsIndividual['pval'] <= 0.2]\n",
    "tickers = subset['ticker'].tolist()\n",
    "etf = 'QQQ'\n",
    "start = '2018-01-01'\n",
    "end = '2018-12-31'\n",
    "synthetic_asset_rank = fn.runCointTestBasketsJoh(etf, tickers, start, end)"
   ]
  },
  {
   "cell_type": "code",
   "execution_count": 6,
   "metadata": {
    "scrolled": true
   },
   "outputs": [
    {
     "data": {
      "text/html": [
       "<div>\n",
       "<style scoped>\n",
       "    .dataframe tbody tr th:only-of-type {\n",
       "        vertical-align: middle;\n",
       "    }\n",
       "\n",
       "    .dataframe tbody tr th {\n",
       "        vertical-align: top;\n",
       "    }\n",
       "\n",
       "    .dataframe thead th {\n",
       "        text-align: right;\n",
       "    }\n",
       "</style>\n",
       "<table border=\"1\" class=\"dataframe\">\n",
       "  <thead>\n",
       "    <tr style=\"text-align: right;\">\n",
       "      <th></th>\n",
       "      <th>ticker</th>\n",
       "      <th>critical-values</th>\n",
       "      <th>trace-stat</th>\n",
       "    </tr>\n",
       "  </thead>\n",
       "  <tbody>\n",
       "    <tr>\n",
       "      <th>697</th>\n",
       "      <td>[HAS, TTWO, IDXX, SBUX, CTAS, ALXN]</td>\n",
       "      <td>[2.7055, 3.8415, 6.6349]</td>\n",
       "      <td>0.045069</td>\n",
       "    </tr>\n",
       "    <tr>\n",
       "      <th>446</th>\n",
       "      <td>[HAS, TTWO, SBUX, CTAS, ALXN]</td>\n",
       "      <td>[2.7055, 3.8415, 6.6349]</td>\n",
       "      <td>0.049130</td>\n",
       "    </tr>\n",
       "    <tr>\n",
       "      <th>895</th>\n",
       "      <td>[HAS, TTWO, IDXX, SBUX, CTAS, ALXN, PAYX]</td>\n",
       "      <td>[2.7055, 3.8415, 6.6349]</td>\n",
       "      <td>0.072650</td>\n",
       "    </tr>\n",
       "    <tr>\n",
       "      <th>719</th>\n",
       "      <td>[HAS, TTWO, SBUX, CTAS, ALXN, PAYX]</td>\n",
       "      <td>[2.7055, 3.8415, 6.6349]</td>\n",
       "      <td>0.078982</td>\n",
       "    </tr>\n",
       "    <tr>\n",
       "      <th>432</th>\n",
       "      <td>[HAS, TTWO, IDXX, SBUX, ALXN]</td>\n",
       "      <td>[2.7055, 3.8415, 6.6349]</td>\n",
       "      <td>0.087837</td>\n",
       "    </tr>\n",
       "  </tbody>\n",
       "</table>\n",
       "</div>"
      ],
      "text/plain": [
       "                                        ticker           critical-values  \\\n",
       "697        [HAS, TTWO, IDXX, SBUX, CTAS, ALXN]  [2.7055, 3.8415, 6.6349]   \n",
       "446              [HAS, TTWO, SBUX, CTAS, ALXN]  [2.7055, 3.8415, 6.6349]   \n",
       "895  [HAS, TTWO, IDXX, SBUX, CTAS, ALXN, PAYX]  [2.7055, 3.8415, 6.6349]   \n",
       "719        [HAS, TTWO, SBUX, CTAS, ALXN, PAYX]  [2.7055, 3.8415, 6.6349]   \n",
       "432              [HAS, TTWO, IDXX, SBUX, ALXN]  [2.7055, 3.8415, 6.6349]   \n",
       "\n",
       "     trace-stat  \n",
       "697    0.045069  \n",
       "446    0.049130  \n",
       "895    0.072650  \n",
       "719    0.078982  \n",
       "432    0.087837  "
      ]
     },
     "execution_count": 6,
     "metadata": {},
     "output_type": "execute_result"
    }
   ],
   "source": [
    "synthetic_asset_rank.head()"
   ]
  },
  {
   "cell_type": "markdown",
   "metadata": {},
   "source": [
    "# Constructing Multivariate Kalman Filter\n",
    "1. Construct a multivariate Kalman Filter with each stock in our synthetic basket collectively filtered against QQQ for the year 2019\n",
    "2. Using the outputted state means, calculate the value of our synthetic basket\n",
    "3. Generate the spread between our synthetic basket and the QQQ ETF.  We expect this spread to be mean-reverting"
   ]
  },
  {
   "cell_type": "code",
   "execution_count": 7,
   "metadata": {},
   "outputs": [],
   "source": [
    "# Start from 01-01-2019 and end at 12-31-2019\n",
    "qqq = pd.read_csv(\"../data/qqqMinute2019.csv\")\n",
    "has = pd.read_csv(\"../data/hasMinute2019.csv\")\n",
    "ttwo = pd.read_csv(\"../data/ttwoMinute2019.csv\")\n",
    "idxx = pd.read_csv(\"../data/idxxMinute2019.csv\")\n",
    "sbux = pd.read_csv(\"../data/sbuxMinute2019.csv\")\n",
    "ctas = pd.read_csv(\"../data/ctasMinute2019.csv\")\n",
    "alxn = pd.read_csv(\"../data/alxnMinute2019.csv\")"
   ]
  },
  {
   "cell_type": "code",
   "execution_count": 8,
   "metadata": {},
   "outputs": [
    {
     "data": {
      "text/html": [
       "<div>\n",
       "<style scoped>\n",
       "    .dataframe tbody tr th:only-of-type {\n",
       "        vertical-align: middle;\n",
       "    }\n",
       "\n",
       "    .dataframe tbody tr th {\n",
       "        vertical-align: top;\n",
       "    }\n",
       "\n",
       "    .dataframe thead th {\n",
       "        text-align: right;\n",
       "    }\n",
       "</style>\n",
       "<table border=\"1\" class=\"dataframe\">\n",
       "  <thead>\n",
       "    <tr style=\"text-align: right;\">\n",
       "      <th></th>\n",
       "      <th>qqqclose</th>\n",
       "      <th>hasclose</th>\n",
       "      <th>ttwoclose</th>\n",
       "      <th>idxxclose</th>\n",
       "      <th>sbuxclose</th>\n",
       "      <th>ctasclose</th>\n",
       "      <th>alxnclose</th>\n",
       "    </tr>\n",
       "  </thead>\n",
       "  <tbody>\n",
       "    <tr>\n",
       "      <th>2019-12-31 15:30:00</th>\n",
       "      <td>212.345</td>\n",
       "      <td>105.7300</td>\n",
       "      <td>122.2000</td>\n",
       "      <td>260.78</td>\n",
       "      <td>87.6850</td>\n",
       "      <td>268.2800</td>\n",
       "      <td>108.0100</td>\n",
       "    </tr>\n",
       "    <tr>\n",
       "      <th>2019-12-31 15:31:00</th>\n",
       "      <td>212.330</td>\n",
       "      <td>105.7100</td>\n",
       "      <td>122.1600</td>\n",
       "      <td>260.86</td>\n",
       "      <td>87.7050</td>\n",
       "      <td>268.3100</td>\n",
       "      <td>107.9500</td>\n",
       "    </tr>\n",
       "    <tr>\n",
       "      <th>2019-12-31 15:32:00</th>\n",
       "      <td>212.355</td>\n",
       "      <td>105.6972</td>\n",
       "      <td>122.1200</td>\n",
       "      <td>260.94</td>\n",
       "      <td>87.7130</td>\n",
       "      <td>268.3200</td>\n",
       "      <td>107.9500</td>\n",
       "    </tr>\n",
       "    <tr>\n",
       "      <th>2019-12-31 15:33:00</th>\n",
       "      <td>212.360</td>\n",
       "      <td>105.6900</td>\n",
       "      <td>122.1800</td>\n",
       "      <td>260.85</td>\n",
       "      <td>87.7250</td>\n",
       "      <td>268.4400</td>\n",
       "      <td>107.9550</td>\n",
       "    </tr>\n",
       "    <tr>\n",
       "      <th>2019-12-31 15:34:00</th>\n",
       "      <td>212.365</td>\n",
       "      <td>105.6900</td>\n",
       "      <td>122.2200</td>\n",
       "      <td>260.91</td>\n",
       "      <td>87.7700</td>\n",
       "      <td>268.4900</td>\n",
       "      <td>107.9700</td>\n",
       "    </tr>\n",
       "    <tr>\n",
       "      <th>2019-12-31 15:35:00</th>\n",
       "      <td>212.385</td>\n",
       "      <td>105.6800</td>\n",
       "      <td>122.1800</td>\n",
       "      <td>260.89</td>\n",
       "      <td>87.7650</td>\n",
       "      <td>268.4800</td>\n",
       "      <td>107.9850</td>\n",
       "    </tr>\n",
       "    <tr>\n",
       "      <th>2019-12-31 15:36:00</th>\n",
       "      <td>212.370</td>\n",
       "      <td>105.6500</td>\n",
       "      <td>122.2000</td>\n",
       "      <td>260.92</td>\n",
       "      <td>87.7600</td>\n",
       "      <td>268.4793</td>\n",
       "      <td>108.0387</td>\n",
       "    </tr>\n",
       "    <tr>\n",
       "      <th>2019-12-31 15:37:00</th>\n",
       "      <td>212.350</td>\n",
       "      <td>105.6200</td>\n",
       "      <td>122.1700</td>\n",
       "      <td>260.73</td>\n",
       "      <td>87.7600</td>\n",
       "      <td>268.4900</td>\n",
       "      <td>107.9800</td>\n",
       "    </tr>\n",
       "    <tr>\n",
       "      <th>2019-12-31 15:38:00</th>\n",
       "      <td>212.385</td>\n",
       "      <td>105.6200</td>\n",
       "      <td>122.1298</td>\n",
       "      <td>260.51</td>\n",
       "      <td>87.7600</td>\n",
       "      <td>268.5600</td>\n",
       "      <td>108.0000</td>\n",
       "    </tr>\n",
       "    <tr>\n",
       "      <th>2019-12-31 15:39:00</th>\n",
       "      <td>212.355</td>\n",
       "      <td>105.6044</td>\n",
       "      <td>122.1050</td>\n",
       "      <td>260.52</td>\n",
       "      <td>87.7500</td>\n",
       "      <td>268.5800</td>\n",
       "      <td>108.0300</td>\n",
       "    </tr>\n",
       "    <tr>\n",
       "      <th>2019-12-31 15:40:00</th>\n",
       "      <td>212.365</td>\n",
       "      <td>105.6000</td>\n",
       "      <td>122.1000</td>\n",
       "      <td>260.58</td>\n",
       "      <td>87.7800</td>\n",
       "      <td>268.5400</td>\n",
       "      <td>108.0700</td>\n",
       "    </tr>\n",
       "    <tr>\n",
       "      <th>2019-12-31 15:41:00</th>\n",
       "      <td>212.400</td>\n",
       "      <td>105.5905</td>\n",
       "      <td>122.1000</td>\n",
       "      <td>260.72</td>\n",
       "      <td>87.7700</td>\n",
       "      <td>268.8500</td>\n",
       "      <td>108.1340</td>\n",
       "    </tr>\n",
       "    <tr>\n",
       "      <th>2019-12-31 15:42:00</th>\n",
       "      <td>212.410</td>\n",
       "      <td>105.5800</td>\n",
       "      <td>122.1067</td>\n",
       "      <td>260.70</td>\n",
       "      <td>87.7800</td>\n",
       "      <td>268.7100</td>\n",
       "      <td>108.0639</td>\n",
       "    </tr>\n",
       "    <tr>\n",
       "      <th>2019-12-31 15:43:00</th>\n",
       "      <td>212.415</td>\n",
       "      <td>105.5800</td>\n",
       "      <td>122.1300</td>\n",
       "      <td>260.70</td>\n",
       "      <td>87.8200</td>\n",
       "      <td>268.7476</td>\n",
       "      <td>108.1101</td>\n",
       "    </tr>\n",
       "    <tr>\n",
       "      <th>2019-12-31 15:44:00</th>\n",
       "      <td>212.450</td>\n",
       "      <td>105.6100</td>\n",
       "      <td>122.1300</td>\n",
       "      <td>260.70</td>\n",
       "      <td>87.8550</td>\n",
       "      <td>268.7650</td>\n",
       "      <td>108.1300</td>\n",
       "    </tr>\n",
       "    <tr>\n",
       "      <th>2019-12-31 15:45:00</th>\n",
       "      <td>212.450</td>\n",
       "      <td>105.5900</td>\n",
       "      <td>122.1200</td>\n",
       "      <td>260.64</td>\n",
       "      <td>87.8600</td>\n",
       "      <td>268.7300</td>\n",
       "      <td>108.1300</td>\n",
       "    </tr>\n",
       "    <tr>\n",
       "      <th>2019-12-31 15:46:00</th>\n",
       "      <td>212.490</td>\n",
       "      <td>105.6300</td>\n",
       "      <td>122.1500</td>\n",
       "      <td>260.64</td>\n",
       "      <td>87.8547</td>\n",
       "      <td>268.8400</td>\n",
       "      <td>108.1300</td>\n",
       "    </tr>\n",
       "    <tr>\n",
       "      <th>2019-12-31 15:47:00</th>\n",
       "      <td>212.495</td>\n",
       "      <td>105.5500</td>\n",
       "      <td>122.1584</td>\n",
       "      <td>260.54</td>\n",
       "      <td>87.8550</td>\n",
       "      <td>268.7700</td>\n",
       "      <td>108.1176</td>\n",
       "    </tr>\n",
       "    <tr>\n",
       "      <th>2019-12-31 15:48:00</th>\n",
       "      <td>212.460</td>\n",
       "      <td>105.5400</td>\n",
       "      <td>122.2000</td>\n",
       "      <td>260.53</td>\n",
       "      <td>87.8450</td>\n",
       "      <td>268.8000</td>\n",
       "      <td>108.1645</td>\n",
       "    </tr>\n",
       "    <tr>\n",
       "      <th>2019-12-31 15:49:00</th>\n",
       "      <td>212.430</td>\n",
       "      <td>105.5100</td>\n",
       "      <td>122.2100</td>\n",
       "      <td>260.32</td>\n",
       "      <td>87.8150</td>\n",
       "      <td>268.7950</td>\n",
       "      <td>108.1300</td>\n",
       "    </tr>\n",
       "  </tbody>\n",
       "</table>\n",
       "</div>"
      ],
      "text/plain": [
       "                     qqqclose  hasclose  ttwoclose  idxxclose  sbuxclose  \\\n",
       "2019-12-31 15:30:00   212.345  105.7300   122.2000     260.78    87.6850   \n",
       "2019-12-31 15:31:00   212.330  105.7100   122.1600     260.86    87.7050   \n",
       "2019-12-31 15:32:00   212.355  105.6972   122.1200     260.94    87.7130   \n",
       "2019-12-31 15:33:00   212.360  105.6900   122.1800     260.85    87.7250   \n",
       "2019-12-31 15:34:00   212.365  105.6900   122.2200     260.91    87.7700   \n",
       "2019-12-31 15:35:00   212.385  105.6800   122.1800     260.89    87.7650   \n",
       "2019-12-31 15:36:00   212.370  105.6500   122.2000     260.92    87.7600   \n",
       "2019-12-31 15:37:00   212.350  105.6200   122.1700     260.73    87.7600   \n",
       "2019-12-31 15:38:00   212.385  105.6200   122.1298     260.51    87.7600   \n",
       "2019-12-31 15:39:00   212.355  105.6044   122.1050     260.52    87.7500   \n",
       "2019-12-31 15:40:00   212.365  105.6000   122.1000     260.58    87.7800   \n",
       "2019-12-31 15:41:00   212.400  105.5905   122.1000     260.72    87.7700   \n",
       "2019-12-31 15:42:00   212.410  105.5800   122.1067     260.70    87.7800   \n",
       "2019-12-31 15:43:00   212.415  105.5800   122.1300     260.70    87.8200   \n",
       "2019-12-31 15:44:00   212.450  105.6100   122.1300     260.70    87.8550   \n",
       "2019-12-31 15:45:00   212.450  105.5900   122.1200     260.64    87.8600   \n",
       "2019-12-31 15:46:00   212.490  105.6300   122.1500     260.64    87.8547   \n",
       "2019-12-31 15:47:00   212.495  105.5500   122.1584     260.54    87.8550   \n",
       "2019-12-31 15:48:00   212.460  105.5400   122.2000     260.53    87.8450   \n",
       "2019-12-31 15:49:00   212.430  105.5100   122.2100     260.32    87.8150   \n",
       "\n",
       "                     ctasclose  alxnclose  \n",
       "2019-12-31 15:30:00   268.2800   108.0100  \n",
       "2019-12-31 15:31:00   268.3100   107.9500  \n",
       "2019-12-31 15:32:00   268.3200   107.9500  \n",
       "2019-12-31 15:33:00   268.4400   107.9550  \n",
       "2019-12-31 15:34:00   268.4900   107.9700  \n",
       "2019-12-31 15:35:00   268.4800   107.9850  \n",
       "2019-12-31 15:36:00   268.4793   108.0387  \n",
       "2019-12-31 15:37:00   268.4900   107.9800  \n",
       "2019-12-31 15:38:00   268.5600   108.0000  \n",
       "2019-12-31 15:39:00   268.5800   108.0300  \n",
       "2019-12-31 15:40:00   268.5400   108.0700  \n",
       "2019-12-31 15:41:00   268.8500   108.1340  \n",
       "2019-12-31 15:42:00   268.7100   108.0639  \n",
       "2019-12-31 15:43:00   268.7476   108.1101  \n",
       "2019-12-31 15:44:00   268.7650   108.1300  \n",
       "2019-12-31 15:45:00   268.7300   108.1300  \n",
       "2019-12-31 15:46:00   268.8400   108.1300  \n",
       "2019-12-31 15:47:00   268.7700   108.1176  \n",
       "2019-12-31 15:48:00   268.8000   108.1645  \n",
       "2019-12-31 15:49:00   268.7950   108.1300  "
      ]
     },
     "execution_count": 8,
     "metadata": {},
     "output_type": "execute_result"
    }
   ],
   "source": [
    "qqq = qqq.set_index('date_time')\n",
    "qqq = qqq.rename(columns={'close': 'qqqclose'})\n",
    "\n",
    "has = has.set_index('date_time')\n",
    "has = has.rename(columns={'close': 'hasclose'})\n",
    "\n",
    "ttwo = ttwo.set_index('date_time')\n",
    "ttwo = ttwo.rename(columns={'close': 'ttwoclose'})\n",
    "\n",
    "idxx = idxx.set_index('date_time')\n",
    "idxx = idxx.rename(columns={'close': 'idxxclose'})\n",
    "\n",
    "sbux = sbux.set_index('date_time')\n",
    "sbux = sbux.rename(columns={'close': 'sbuxclose'})\n",
    "\n",
    "ctas = ctas.set_index('date_time')\n",
    "ctas = ctas.rename(columns={'close': 'ctasclose'})\n",
    "\n",
    "alxn = alxn.set_index('date_time')\n",
    "alxn = alxn.rename(columns={'close': 'alxnclose'})\n",
    "\n",
    "data = qqq[['qqqclose']].join([has[['hasclose']], ttwo[['ttwoclose']], idxx[['idxxclose']], \n",
    "                               sbux[['sbuxclose']], ctas[['ctasclose']], alxn[['alxnclose']]], how='outer')\n",
    "data = data.dropna()\n",
    "data.tail(20)"
   ]
  },
  {
   "cell_type": "code",
   "execution_count": 9,
   "metadata": {},
   "outputs": [],
   "source": [
    "syntheticAssetLogPrice = data[['hasclose', 'ttwoclose', 'idxxclose', 'sbuxclose', 'ctasclose', 'alxnclose']].apply(np.log)\n",
    "qqqLogPrice = np.log(data['qqqclose'].values)"
   ]
  },
  {
   "cell_type": "markdown",
   "metadata": {},
   "source": [
    "### Multivariate Kalman Filter\n",
    "At every timestep, the Kalman Filter outputs estimates for the hedge ratios of each component in our synthetic basket as well as an intercept term.  In other words, it gave us all the tools to calculate an estimate for the price of QQQ based on the price of each component in our basket.  The residuals of this estimate form a mean-reverting and stationary process that we can take advantage of.  \n",
    "\n",
    "We model QQQ price with the following formula:\n",
    "$$ \\widehat{price_{QQQ}} = \\sum_{n=1}^{N} \\beta_{n} * price_{n} $$\n",
    "\n",
    "Using the Kalman Filter, we are able to calculate what the values for $ \\beta_{n} $ are for each time-period.\n",
    "\n",
    "We expect the residuals of this model to be mean-reverting and stationary.\n",
    "\n",
    "$$ residuals = price_{QQQ} - \\widehat{price_{QQQ}} $$"
   ]
  },
  {
   "cell_type": "code",
   "execution_count": 10,
   "metadata": {},
   "outputs": [],
   "source": [
    "kf = fn.multivariateKalmanFilter(syntheticAssetLogPrice, qqqLogPrice)\n",
    "state_means, state_covs = kf.filter(qqqLogPrice)\n",
    "basket_size = len(syntheticAssetLogPrice.columns)\n",
    "slopes = state_means[:, np.arange(0, basket_size, 1)]\n",
    "#intercept = state_means[:, basket_size]"
   ]
  },
  {
   "cell_type": "code",
   "execution_count": 11,
   "metadata": {
    "scrolled": false
   },
   "outputs": [
    {
     "data": {
      "text/plain": [
       "<matplotlib.lines.Line2D at 0x2c8783a5d90>"
      ]
     },
     "execution_count": 11,
     "metadata": {},
     "output_type": "execute_result"
    },
    {
     "data": {
      "image/png": "[encoded data removed]",
      "text/plain": [
       "<Figure size 1080x504 with 1 Axes>"
      ]
     },
     "metadata": {
      "needs_background": "light"
     },
     "output_type": "display_data"
    }
   ],
   "source": [
    "syntheticAssetEstimate = [np.dot(slopes[i], syntheticAssetLogPrice.values[i].T) for i in range(len(slopes))]\n",
    "spread_ts = qqqLogPrice - syntheticAssetEstimate\n",
    "plt.figure(figsize = (15,7))\n",
    "plt.plot(spread_ts)\n",
    "plt.title(\"Spread based on Dynamic Hedge Ratio\")\n",
    "plt.ylabel(\"Log Spread ($)\")\n",
    "plt.xlabel(\"Date\")\n",
    "spread_avg = spread_ts.mean()\n",
    "spread_sd = spread_ts.std()\n",
    "upper_threshold = spread_avg + spread_sd\n",
    "lower_threshold = spread_avg - spread_sd\n",
    "plt.axhline(upper_threshold, linestyle = 'dashed', color = 'g')\n",
    "plt.axhline(spread_avg, linestyle = 'dashed', color = 'y')\n",
    "plt.axhline(lower_threshold, linestyle = 'dashed', color = 'r')"
   ]
  },
  {
   "cell_type": "markdown",
   "metadata": {},
   "source": [
    "# Building our Strategy\n",
    "1. Using minute level data from 2018, optimize our strategy parameters by simulating the strategy performance in 2018 with different parameter combinations.  Pick the parameters that give us the highest return in 2018 and use those parameters for our strategy in 2019.\n",
    "2. Build a Bollinger Band strategy using the lookback and z-score threshold outputted by our parameter tuning module.  When the spread breaks above/below our upper/lower bands, we enter a short/long position on the spread in the minute immediately after."
   ]
  },
  {
   "cell_type": "markdown",
   "metadata": {},
   "source": [
    "## Parameter Tuning for Bollinger Bands\n",
    "On the formation period, simulate trading according to different lookback periods and z-score thresholds for the Bollinger Bands.  The most promising set of parameters (according to profit or Sharpe Ratio) are then used for our trading period.  Also construct the Kalman Filter and calculate the threshold for the bottom 20% of the spread difference between two minutes.  This threshold will be used to optimize our entries and exits."
   ]
  },
  {
   "cell_type": "code",
   "execution_count": 12,
   "metadata": {},
   "outputs": [],
   "source": [
    "# Start from 01-01-2018 and end at 12-31-2018\n",
    "qqq2018 = pd.read_csv(\"../data/qqqMinute2018.csv\")\n",
    "has2018 = pd.read_csv(\"../data/hasMinute2018.csv\")\n",
    "ttwo2018 = pd.read_csv(\"../data/ttwoMinute2018.csv\")\n",
    "idxx2018 = pd.read_csv(\"../data/idxxMinute2018.csv\")\n",
    "sbux2018 = pd.read_csv(\"../data/sbuxMinute2018.csv\")\n",
    "ctas2018 = pd.read_csv(\"../data/ctasMinute2018.csv\")\n",
    "alxn2018 = pd.read_csv(\"../data/alxnMinute2018.csv\")"
   ]
  },
  {
   "cell_type": "code",
   "execution_count": 13,
   "metadata": {},
   "outputs": [],
   "source": [
    "qqq2018 = qqq2018.set_index('date_time')\n",
    "qqq2018 = qqq2018.rename(columns={'close': 'qqqclose'})\n",
    "\n",
    "has2018 = has2018.set_index('date_time')\n",
    "has2018 = has2018.rename(columns={'close': 'hasclose'})\n",
    "\n",
    "ttwo2018 = ttwo2018.set_index('date_time')\n",
    "ttwo2018 = ttwo2018.rename(columns={'close': 'ttwoclose'})\n",
    "\n",
    "idxx2018 = idxx2018.set_index('date_time')\n",
    "idxx2018 = idxx2018.rename(columns={'close': 'idxxclose'})\n",
    "\n",
    "sbux2018 = sbux2018.set_index('date_time')\n",
    "sbux2018 = sbux2018.rename(columns={'close': 'sbuxclose'})\n",
    "\n",
    "ctas2018 = ctas2018.set_index('date_time')\n",
    "ctas2018 = ctas2018.rename(columns={'close': 'ctasclose'})\n",
    "\n",
    "alxn2018 = alxn2018.set_index('date_time')\n",
    "alxn2018 = alxn2018.rename(columns={'close': 'alxnclose'})\n",
    "\n",
    "data2018 = qqq2018[['qqqclose']].join([has2018[['hasclose']], ttwo2018[['ttwoclose']], idxx2018[['idxxclose']], \n",
    "                                       sbux2018[['sbuxclose']], ctas2018[['ctasclose']], alxn2018[['alxnclose']]], \n",
    "                                      how='outer')\n",
    "data2018 = data2018.dropna()"
   ]
  },
  {
   "cell_type": "code",
   "execution_count": 14,
   "metadata": {},
   "outputs": [],
   "source": [
    "#lookback_list = np.arange(30, 301, 15)\n",
    "#z_thresh_list = np.arange(1, 2.6, .25)\n",
    "#results_map = fn.tuneBBParameters(data2018, lookback_list, z_thresh_list, \n",
    "#                                  ['hasclose', 'ttwoclose', 'idxxclose', 'sbuxclose', 'ctasclose', 'alxnclose'], \n",
    "#                                 stoploss = None)"
   ]
  },
  {
   "cell_type": "code",
   "execution_count": 15,
   "metadata": {},
   "outputs": [],
   "source": [
    "#list(results_map.items())[:10]"
   ]
  },
  {
   "cell_type": "code",
   "execution_count": 16,
   "metadata": {},
   "outputs": [],
   "source": [
    "#params = list(results_map.keys())[0]\n",
    "#print(params)"
   ]
  },
  {
   "cell_type": "code",
   "execution_count": 17,
   "metadata": {},
   "outputs": [],
   "source": [
    "syntheticAssetLogPrice2018 = data2018[['hasclose', 'ttwoclose', 'idxxclose', 'sbuxclose', \n",
    "                               'ctasclose', 'alxnclose']].apply(np.log)\n",
    "qqqLogPrice2018 = np.log(data2018['qqqclose'].values)"
   ]
  },
  {
   "cell_type": "code",
   "execution_count": 18,
   "metadata": {},
   "outputs": [],
   "source": [
    "kf2018 = fn.multivariateKalmanFilter(syntheticAssetLogPrice2018, qqqLogPrice2018)\n",
    "state_means2018, state_covs2018 = kf2018.filter(qqqLogPrice2018)\n",
    "basket_size2018 = len(syntheticAssetLogPrice2018.columns)\n",
    "slopes2018 = state_means2018[:, np.arange(0, basket_size2018, 1)]\n",
    "#intercept2018 = state_means2018[:, basket_size2018]"
   ]
  },
  {
   "cell_type": "code",
   "execution_count": 19,
   "metadata": {},
   "outputs": [],
   "source": [
    "hedge_ratios2018 = np.asarray([slopes2018.T[i] for i in range(len(slopes2018.T))]).T\n",
    "hedge_ratios2018 = pd.DataFrame(hedge_ratios2018, columns=['hasHR', 'ttwoHR', 'idxxHR', 'sbuxHR', 'ctasHR', 'alxnHR'])"
   ]
  },
  {
   "cell_type": "code",
   "execution_count": 20,
   "metadata": {},
   "outputs": [],
   "source": [
    "syntheticAssetEstimate2018 = [np.dot(slopes2018[i], syntheticAssetLogPrice2018.values[i].T) for i in range(len(slopes2018))]\n",
    "spread_ts2018 = qqqLogPrice2018 - syntheticAssetEstimate2018\n",
    "data2018.reset_index(inplace=True)\n",
    "data2018 = data2018.rename(columns={'index': 'datetime'})\n",
    "data2018['spread'] = np.exp(spread_ts2018)\n",
    "backtest_data2018 = data2018[['datetime', 'qqqclose', 'hasclose', 'ttwoclose', 'sbuxclose', 'idxxclose',\n",
    "                      'ctasclose', 'alxnclose', 'spread']]"
   ]
  },
  {
   "cell_type": "code",
   "execution_count": 21,
   "metadata": {},
   "outputs": [
    {
     "name": "stdout",
     "output_type": "stream",
     "text": [
      "0.008292679980645591\n"
     ]
    },
    {
     "name": "stderr",
     "output_type": "stream",
     "text": [
      "C:\\Users\\liuvi\\Documents\\fall2020\\f20_stat_arb\\functions.py:178: SettingWithCopyWarning: \n",
      "A value is trying to be set on a copy of a slice from a DataFrame.\n",
      "Try using .loc[row_indexer,col_indexer] = value instead\n",
      "\n",
      "See the caveats in the documentation: https://pandas.pydata.org/pandas-docs/stable/user_guide/indexing.html#returning-a-view-versus-a-copy\n",
      "  data['spread_diff'] = 100 * (abs(spread_diff) / abs(data['spread'].shift(-1)))\n"
     ]
    }
   ],
   "source": [
    "diff_thresh = fn.calculateDiffThresh(backtest_data2018, q=0.2)\n",
    "print(diff_thresh)"
   ]
  },
  {
   "cell_type": "markdown",
   "metadata": {},
   "source": [
    "## Bollinger Band Strategy\n",
    "The Bollinger Band strategy considers volatility when constructing entries and exits.  A lookback period is chosen and an exponential moving average is computed for that lookback period.  A constant is also chosen that represents how many standard deviations the bands should encompass.  When the spread exceeds the upper band, a short signal is generated.  When the spread is below the lower band, a long signal is generated.  The signal ends when the spread crosses the exponential moving average again.  Note, the actual positions we take need to be lagged by 1 minute from our signals.  Without this shift, our results would be reliant on high-frequency trading technology and latency.  Positions are also closed by the end of the day and no overnight positions are ever taken."
   ]
  },
  {
   "cell_type": "code",
   "execution_count": 22,
   "metadata": {},
   "outputs": [],
   "source": [
    "data.reset_index(inplace=True)\n",
    "data['logspread'] = spread_ts\n",
    "data['spread'] = np.exp(spread_ts)\n",
    "data = data.rename(columns={'index': 'datetime'})"
   ]
  },
  {
   "cell_type": "code",
   "execution_count": 23,
   "metadata": {},
   "outputs": [],
   "source": [
    "backtest_data = data[['datetime', 'qqqclose', 'hasclose', 'ttwoclose', 'idxxclose', \n",
    "                      'sbuxclose', 'ctasclose', 'alxnclose', 'spread']]\n",
    "lookback = 300 #params[0]\n",
    "z_thresh = 1.5 #params[1].round(2)"
   ]
  },
  {
   "cell_type": "code",
   "execution_count": 24,
   "metadata": {},
   "outputs": [],
   "source": [
    "backtest_data = fn.createBands(backtest_data, lookback, z_thresh)"
   ]
  },
  {
   "cell_type": "code",
   "execution_count": 25,
   "metadata": {},
   "outputs": [
    {
     "data": {
      "text/plain": [
       "Text(0.5, 0, 'Date')"
      ]
     },
     "execution_count": 25,
     "metadata": {},
     "output_type": "execute_result"
    },
    {
     "data": {
      "image/png": "[encoded data removed]",
      "text/plain": [
       "<Figure size 1080x504 with 1 Axes>"
      ]
     },
     "metadata": {
      "needs_background": "light"
     },
     "output_type": "display_data"
    }
   ],
   "source": [
    "plt.figure(figsize = (15,7))\n",
    "plt.plot(backtest_data['spread'].iloc[-1200:])\n",
    "plt.plot(backtest_data['upperband'].iloc[-1200:], color='g')\n",
    "plt.plot(backtest_data['ema'].iloc[-1200:], color='y')\n",
    "plt.plot(backtest_data['lowerband'].iloc[-1200:], color='r')\n",
    "plt.title(\"Spread based on Dynamic Hedge Ratio\")\n",
    "plt.ylabel(\"Log Spread ($)\")\n",
    "plt.xlabel(\"Date\")"
   ]
  },
  {
   "cell_type": "code",
   "execution_count": 26,
   "metadata": {},
   "outputs": [
    {
     "name": "stderr",
     "output_type": "stream",
     "text": [
      "C:\\Users\\liuvi\\anaconda3\\envs\\quant\\lib\\site-packages\\pandas\\core\\indexing.py:671: SettingWithCopyWarning: \n",
      "A value is trying to be set on a copy of a slice from a DataFrame\n",
      "\n",
      "See the caveats in the documentation: https://pandas.pydata.org/pandas-docs/stable/user_guide/indexing.html#returning-a-view-versus-a-copy\n",
      "  self._setitem_with_indexer(indexer, value)\n"
     ]
    }
   ],
   "source": [
    "backtest_data = fn.createOptimalPositions(backtest_data, threshold=diff_thresh)"
   ]
  },
  {
   "cell_type": "code",
   "execution_count": 27,
   "metadata": {},
   "outputs": [],
   "source": [
    "prices = backtest_data[['hasclose', 'ttwoclose', 'idxxclose', 'sbuxclose', 'ctasclose', 'alxnclose']].values\n",
    "hedge_ratios = np.asarray([slopes.T[i][lookback - 1:] for i in range(len(slopes.T))]).T"
   ]
  },
  {
   "cell_type": "code",
   "execution_count": 28,
   "metadata": {},
   "outputs": [],
   "source": [
    "backtest_data['hedgeRatioHAS'] = slopes[:, 0][lookback - 1:]\n",
    "backtest_data['hedgeRatioTTWO'] = slopes[:, 1][lookback - 1:]\n",
    "backtest_data['hedgeRatioIDXX'] = slopes[:, 2][lookback - 1:]\n",
    "backtest_data['hedgeRatioSBUX'] = slopes[:, 3][lookback -1 :]\n",
    "backtest_data['hedgeRatioCTAS'] = slopes[:, 4][lookback - 1:]"
   ]
  },
  {
   "cell_type": "markdown",
   "metadata": {},
   "source": [
    "## Trade Log\n",
    "The trade log is generated to compile all the individual trades executed in our backtest and some information about them.  This includes the start and end time, the holding period, what position was taken (long or short), position size and value, as well as profit and return information.  The information in this dataset can be used to analyze the strategy and the properties of the trades executed by the strategy."
   ]
  },
  {
   "cell_type": "code",
   "execution_count": 29,
   "metadata": {},
   "outputs": [
    {
     "data": {
      "text/html": [
       "<div>\n",
       "<style scoped>\n",
       "    .dataframe tbody tr th:only-of-type {\n",
       "        vertical-align: middle;\n",
       "    }\n",
       "\n",
       "    .dataframe tbody tr th {\n",
       "        vertical-align: top;\n",
       "    }\n",
       "\n",
       "    .dataframe thead th {\n",
       "        text-align: right;\n",
       "    }\n",
       "</style>\n",
       "<table border=\"1\" class=\"dataframe\">\n",
       "  <thead>\n",
       "    <tr style=\"text-align: right;\">\n",
       "      <th></th>\n",
       "      <th>start</th>\n",
       "      <th>end</th>\n",
       "      <th>holdingPeriod</th>\n",
       "      <th>position</th>\n",
       "      <th>positionSizeY</th>\n",
       "      <th>entryY</th>\n",
       "      <th>exitY</th>\n",
       "      <th>positionSizeX</th>\n",
       "      <th>entryX</th>\n",
       "      <th>exitX</th>\n",
       "      <th>initialPortfolioValue</th>\n",
       "      <th>trade_profit</th>\n",
       "      <th>trade_returns</th>\n",
       "      <th>trade_profit2</th>\n",
       "    </tr>\n",
       "  </thead>\n",
       "  <tbody>\n",
       "    <tr>\n",
       "      <th>558</th>\n",
       "      <td>2019-12-27 12:10:00</td>\n",
       "      <td>2019-12-27 13:29:00</td>\n",
       "      <td>72</td>\n",
       "      <td>long</td>\n",
       "      <td>1000</td>\n",
       "      <td>213.8701</td>\n",
       "      <td>213.5400</td>\n",
       "      <td>[115.0, 151.0, 264.0, 111.0, 265.0, 140.0]</td>\n",
       "      <td>[105.59, 123.963, 263.0079, 88.12, 268.4905, 1...</td>\n",
       "      <td>[105.49, 124.36, 263.22, 88.28, 268.97, 108.58]</td>\n",
       "      <td>410328.7511</td>\n",
       "      <td>-548.5689</td>\n",
       "      <td>-0.001337</td>\n",
       "      <td>NaN</td>\n",
       "    </tr>\n",
       "    <tr>\n",
       "      <th>559</th>\n",
       "      <td>2019-12-30 09:52:00</td>\n",
       "      <td>2019-12-30 10:12:00</td>\n",
       "      <td>20</td>\n",
       "      <td>long</td>\n",
       "      <td>1000</td>\n",
       "      <td>211.8050</td>\n",
       "      <td>211.7550</td>\n",
       "      <td>[115.0, 151.0, 263.0, 110.0, 265.0, 140.0]</td>\n",
       "      <td>[105.2305, 123.27, 262.48, 87.7005, 267.32, 10...</td>\n",
       "      <td>[105.38, 123.26, 262.27, 87.445, 267.39, 108.31]</td>\n",
       "      <td>407170.5725</td>\n",
       "      <td>-33.0975</td>\n",
       "      <td>-0.000081</td>\n",
       "      <td>NaN</td>\n",
       "    </tr>\n",
       "    <tr>\n",
       "      <th>560</th>\n",
       "      <td>2019-12-30 10:21:00</td>\n",
       "      <td>2019-12-30 10:36:00</td>\n",
       "      <td>15</td>\n",
       "      <td>short</td>\n",
       "      <td>1000</td>\n",
       "      <td>211.5900</td>\n",
       "      <td>211.5698</td>\n",
       "      <td>[115.0, 151.0, 263.0, 111.0, 265.0, 140.0]</td>\n",
       "      <td>[104.6012, 122.9, 260.88, 87.285, 267.02, 107.7]</td>\n",
       "      <td>[105.01, 123.14, 261.39, 87.11, 267.6, 107.71]</td>\n",
       "      <td>406315.4130</td>\n",
       "      <td>373.2570</td>\n",
       "      <td>0.000919</td>\n",
       "      <td>NaN</td>\n",
       "    </tr>\n",
       "    <tr>\n",
       "      <th>561</th>\n",
       "      <td>2019-12-31 11:01:00</td>\n",
       "      <td>2019-12-31 11:28:00</td>\n",
       "      <td>23</td>\n",
       "      <td>short</td>\n",
       "      <td>1000</td>\n",
       "      <td>211.7530</td>\n",
       "      <td>211.6900</td>\n",
       "      <td>[114.0, 151.0, 263.0, 111.0, 265.0, 140.0]</td>\n",
       "      <td>[105.895, 121.83, 261.1074, 87.56, 268.0, 106.88]</td>\n",
       "      <td>[105.95, 121.75, 260.93, 87.61, 267.95, 107.235]</td>\n",
       "      <td>406594.9662</td>\n",
       "      <td>52.5338</td>\n",
       "      <td>0.000129</td>\n",
       "      <td>NaN</td>\n",
       "    </tr>\n",
       "    <tr>\n",
       "      <th>562</th>\n",
       "      <td>2019-12-31 12:06:00</td>\n",
       "      <td>2019-12-31 12:16:00</td>\n",
       "      <td>10</td>\n",
       "      <td>short</td>\n",
       "      <td>1000</td>\n",
       "      <td>211.9150</td>\n",
       "      <td>211.8200</td>\n",
       "      <td>[115.0, 151.0, 263.0, 111.0, 265.0, 140.0]</td>\n",
       "      <td>[105.86, 121.94, 260.75, 87.535, 267.265, 107....</td>\n",
       "      <td>[105.79, 121.97, 260.7, 87.4583, 267.3, 107.35]</td>\n",
       "      <td>406644.8000</td>\n",
       "      <td>83.9913</td>\n",
       "      <td>0.000207</td>\n",
       "      <td>NaN</td>\n",
       "    </tr>\n",
       "  </tbody>\n",
       "</table>\n",
       "</div>"
      ],
      "text/plain": [
       "                  start                 end  holdingPeriod position  \\\n",
       "558 2019-12-27 12:10:00 2019-12-27 13:29:00             72     long   \n",
       "559 2019-12-30 09:52:00 2019-12-30 10:12:00             20     long   \n",
       "560 2019-12-30 10:21:00 2019-12-30 10:36:00             15    short   \n",
       "561 2019-12-31 11:01:00 2019-12-31 11:28:00             23    short   \n",
       "562 2019-12-31 12:06:00 2019-12-31 12:16:00             10    short   \n",
       "\n",
       "     positionSizeY    entryY     exitY  \\\n",
       "558           1000  213.8701  213.5400   \n",
       "559           1000  211.8050  211.7550   \n",
       "560           1000  211.5900  211.5698   \n",
       "561           1000  211.7530  211.6900   \n",
       "562           1000  211.9150  211.8200   \n",
       "\n",
       "                                  positionSizeX  \\\n",
       "558  [115.0, 151.0, 264.0, 111.0, 265.0, 140.0]   \n",
       "559  [115.0, 151.0, 263.0, 110.0, 265.0, 140.0]   \n",
       "560  [115.0, 151.0, 263.0, 111.0, 265.0, 140.0]   \n",
       "561  [114.0, 151.0, 263.0, 111.0, 265.0, 140.0]   \n",
       "562  [115.0, 151.0, 263.0, 111.0, 265.0, 140.0]   \n",
       "\n",
       "                                                entryX  \\\n",
       "558  [105.59, 123.963, 263.0079, 88.12, 268.4905, 1...   \n",
       "559  [105.2305, 123.27, 262.48, 87.7005, 267.32, 10...   \n",
       "560   [104.6012, 122.9, 260.88, 87.285, 267.02, 107.7]   \n",
       "561  [105.895, 121.83, 261.1074, 87.56, 268.0, 106.88]   \n",
       "562  [105.86, 121.94, 260.75, 87.535, 267.265, 107....   \n",
       "\n",
       "                                                exitX  initialPortfolioValue  \\\n",
       "558   [105.49, 124.36, 263.22, 88.28, 268.97, 108.58]            410328.7511   \n",
       "559  [105.38, 123.26, 262.27, 87.445, 267.39, 108.31]            407170.5725   \n",
       "560    [105.01, 123.14, 261.39, 87.11, 267.6, 107.71]            406315.4130   \n",
       "561  [105.95, 121.75, 260.93, 87.61, 267.95, 107.235]            406594.9662   \n",
       "562   [105.79, 121.97, 260.7, 87.4583, 267.3, 107.35]            406644.8000   \n",
       "\n",
       "     trade_profit  trade_returns  trade_profit2  \n",
       "558     -548.5689      -0.001337            NaN  \n",
       "559      -33.0975      -0.000081            NaN  \n",
       "560      373.2570       0.000919            NaN  \n",
       "561       52.5338       0.000129            NaN  \n",
       "562       83.9913       0.000207            NaN  "
      ]
     },
     "execution_count": 29,
     "metadata": {},
     "output_type": "execute_result"
    }
   ],
   "source": [
    "tradeLog, minuteDf = fn.constructTradeLog(backtest_data['datetime'].values, backtest_data['position'].values, \n",
    "                                backtest_data['qqqclose'].values, prices, hedge_ratios.round(3), lot_size = 1000, \n",
    "                               stoploss = None)\n",
    "tradeLog.tail()"
   ]
  },
  {
   "cell_type": "code",
   "execution_count": 30,
   "metadata": {},
   "outputs": [
    {
     "name": "stderr",
     "output_type": "stream",
     "text": [
      "<ipython-input-30-4913ea6083e5>:2: SettingWithCopyWarning: \n",
      "A value is trying to be set on a copy of a slice from a DataFrame.\n",
      "Try using .loc[row_indexer,col_indexer] = value instead\n",
      "\n",
      "See the caveats in the documentation: https://pandas.pydata.org/pandas-docs/stable/user_guide/indexing.html#returning-a-view-versus-a-copy\n",
      "  returns_df['cumulative_returns'] = np.cumprod(1 + minuteDf['returns'])\n"
     ]
    },
    {
     "data": {
      "text/plain": [
       "<matplotlib.axes._subplots.AxesSubplot at 0x2c8085cedc0>"
      ]
     },
     "execution_count": 30,
     "metadata": {},
     "output_type": "execute_result"
    },
    {
     "data": {
      "image/png": "[encoded data removed]",
      "text/plain": [
       "<Figure size 1080x504 with 1 Axes>"
      ]
     },
     "metadata": {
      "needs_background": "light"
     },
     "output_type": "display_data"
    }
   ],
   "source": [
    "returns_df = minuteDf[['datetime']]\n",
    "returns_df['cumulative_returns'] = np.cumprod(1 + minuteDf['returns'])\n",
    "returns_df = returns_df.set_index('datetime')\n",
    "returns_df.plot(figsize=[15, 7])"
   ]
  },
  {
   "cell_type": "code",
   "execution_count": 31,
   "metadata": {},
   "outputs": [
    {
     "name": "stdout",
     "output_type": "stream",
     "text": [
      "Trade Log cumulative profit was -8366.199\n"
     ]
    }
   ],
   "source": [
    "total_profit = np.cumsum(tradeLog['trade_profit'])\n",
    "print('Trade Log cumulative profit was {:.3f}'.format(total_profit.iloc[-1]))"
   ]
  },
  {
   "cell_type": "code",
   "execution_count": 32,
   "metadata": {},
   "outputs": [
    {
     "name": "stdout",
     "output_type": "stream",
     "text": [
      "Trade Log cumulative return was -2.401%\n"
     ]
    }
   ],
   "source": [
    "cumulative_return = np.cumprod(1 + tradeLog['trade_returns']) - 1\n",
    "print('Trade Log cumulative return was {:.3f}%'.format(cumulative_return.iloc[-1] * 100))"
   ]
  },
  {
   "cell_type": "code",
   "execution_count": 33,
   "metadata": {},
   "outputs": [
    {
     "name": "stdout",
     "output_type": "stream",
     "text": [
      "Annualized Sharpe Ratio:  -1.0321472055289511\n"
     ]
    }
   ],
   "source": [
    "minuteDf['datetime'] = pd.to_datetime(minuteDf['datetime'])\n",
    "dailyReturns = fn.calculateDailyReturns(minuteDf[['datetime', 'returns']])\n",
    "sharpeRatio = fn.calculateAnnualizedSharpeRatio(dailyReturns)\n",
    "print('Annualized Sharpe Ratio: ', sharpeRatio)"
   ]
  },
  {
   "cell_type": "code",
   "execution_count": 34,
   "metadata": {},
   "outputs": [
    {
     "data": {
      "text/plain": [
       "<matplotlib.lines.Line2D at 0x2c80f062eb0>"
      ]
     },
     "execution_count": 34,
     "metadata": {},
     "output_type": "execute_result"
    },
    {
     "data": {
      "image/png": "[encoded data removed]",
      "text/plain": [
       "<Figure size 1080x504 with 1 Axes>"
      ]
     },
     "metadata": {
      "needs_background": "light"
     },
     "output_type": "display_data"
    }
   ],
   "source": [
    "plt.figure(figsize=[15, 7])\n",
    "plt.hist(tradeLog['trade_returns'], bins=75)\n",
    "plt.axvline(tradeLog['trade_returns'].mean(), color='k', linestyle='dashed', linewidth=1)"
   ]
  },
  {
   "cell_type": "code",
   "execution_count": 35,
   "metadata": {},
   "outputs": [
    {
     "data": {
      "text/plain": [
       "-0.0011075091276814201"
      ]
     },
     "execution_count": 35,
     "metadata": {},
     "output_type": "execute_result"
    }
   ],
   "source": [
    "tradeLog['trade_returns'].quantile(0.1)"
   ]
  },
  {
   "cell_type": "code",
   "execution_count": 36,
   "metadata": {},
   "outputs": [
    {
     "data": {
      "text/plain": [
       "<matplotlib.lines.Line2D at 0x2c8042bc550>"
      ]
     },
     "execution_count": 36,
     "metadata": {},
     "output_type": "execute_result"
    },
    {
     "data": {
      "image/png": "[encoded data removed]",
      "text/plain": [
       "<Figure size 1080x504 with 1 Axes>"
      ]
     },
     "metadata": {
      "needs_background": "light"
     },
     "output_type": "display_data"
    }
   ],
   "source": [
    "plt.figure(figsize=[15, 7])\n",
    "plt.hist(tradeLog['trade_profit'], bins=75)\n",
    "plt.axvline(tradeLog['trade_profit'].mean(), color='k', linestyle='dashed', linewidth=1)"
   ]
  },
  {
   "cell_type": "code",
   "execution_count": 37,
   "metadata": {},
   "outputs": [
    {
     "data": {
      "text/plain": [
       "<matplotlib.lines.Line2D at 0x2c80f171a00>"
      ]
     },
     "execution_count": 37,
     "metadata": {},
     "output_type": "execute_result"
    },
    {
     "data": {
      "image/png": "[encoded data removed]",
      "text/plain": [
       "<Figure size 1080x504 with 1 Axes>"
      ]
     },
     "metadata": {
      "needs_background": "light"
     },
     "output_type": "display_data"
    }
   ],
   "source": [
    "plt.figure(figsize=[15, 7])\n",
    "plt.hist(tradeLog['holdingPeriod'], bins=50)\n",
    "plt.axvline(tradeLog['holdingPeriod'].mean(), color='k', linestyle='dashed', linewidth=1)\n",
    "plt.axvline(tradeLog['holdingPeriod'].median(), color='r', linestyle='dashed', linewidth=1)"
   ]
  },
  {
   "cell_type": "code",
   "execution_count": null,
   "metadata": {},
   "outputs": [],
   "source": []
  }
 ],
 "metadata": {
  "kernelspec": {
   "display_name": "Python 3",
   "language": "python",
   "name": "python3"
  },
  "language_info": {
   "codemirror_mode": {
    "name": "ipython",
    "version": 3
   },
   "file_extension": ".py",
   "mimetype": "text/x-python",
   "name": "python",
   "nbconvert_exporter": "python",
   "pygments_lexer": "ipython3",
   "version": "3.8.5"
  }
 },
 "nbformat": 4,
 "nbformat_minor": 4
}
