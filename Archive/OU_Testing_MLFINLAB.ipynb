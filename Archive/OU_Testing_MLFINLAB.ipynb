{
 "cells": [
  {
   "cell_type": "code",
   "execution_count": 1,
   "metadata": {},
   "outputs": [],
   "source": [
    "import pandas as pd\n",
    "from mlfinlab.optimal_mean_reversion import OrnsteinUhlenbeck\n",
    "from datetime import date\n",
    "import numpy as np\n",
    "import pandas as pd\n",
    "import yfinance as yf"
   ]
  },
  {
   "cell_type": "code",
   "execution_count": 2,
   "metadata": {},
   "outputs": [
    {
     "name": "stdout",
     "output_type": "stream",
     "text": [
      "(251, 13) (251, 12)\n"
     ]
    }
   ],
   "source": [
    "backtest_data = pd.read_csv(\"../backtest_data_entries_exits_2018.csv\")\n",
    "#Final price of each day\n",
    "backtest_data[\"datetime\"] = pd.to_datetime(backtest_data[\"datetime\"])\n",
    "backtest_data[\"dayPeriod\"] = backtest_data[\"datetime\"].dt.to_period(\"D\")\n",
    "backtest_daily = backtest_data.groupby(backtest_data[\"dayPeriod\"]).apply(lambda x: x.iloc[[-1]])\n",
    "\n",
    "\n",
    "slopes = pd.read_csv(\"../hedge_ratios_2018.csv\")\n",
    "slopes[\"datetime\"] = backtest_data[\"datetime\"]\n",
    "slopes[\"dayPeriod\"] = slopes[\"datetime\"].dt.to_period(\"D\")\n",
    "slopes_daily = slopes.groupby(slopes[\"dayPeriod\"]).apply(lambda x: x.iloc[[-1]])\n",
    "\n",
    "print(backtest_daily.shape, slopes_daily.shape)"
   ]
  },
  {
   "cell_type": "code",
   "execution_count": 3,
   "metadata": {},
   "outputs": [
    {
     "name": "stdout",
     "output_type": "stream",
     "text": [
      "Index(['Unnamed: 0', 'hasHR', 'aaplHR', 'ttwoHR', 'sbuxHR', 'ctasHR', 'alxnHR',\n",
      "       'algnHR', 'payxHR', 'intercept', 'datetime', 'dayPeriod'],\n",
      "      dtype='object')\n",
      "Index(['Unnamed: 0', 'hasclose', 'aaplclose', 'ttwoclose', 'sbuxclose',\n",
      "       'ctasclose', 'alxnclose', 'algnclose', 'payxclose', 'intercept',\n",
      "       'datetime', 'dayPeriod'],\n",
      "      dtype='object')\n"
     ]
    }
   ],
   "source": [
    "print(slopes_daily.columns)\n",
    "slopes_daily.rename(columns={\"hasHR\":\"hasclose\", \"ttwoHR\":\"ttwoclose\", \"ctasHR\":\"ctasclose\", \n",
    "                             \"aaplHR\": \"aaplclose\", \"algnHR\":\"algnclose\", \"sbuxHR\":\"sbuxclose\", \"payxHR\":\"payxclose\", \n",
    "                             \"alxnHR\":\"alxnclose\"}, inplace=True)\n",
    "print(slopes_daily.columns)"
   ]
  },
  {
   "cell_type": "code",
   "execution_count": 4,
   "metadata": {},
   "outputs": [],
   "source": [
    "qqq = backtest_daily[\"qqqclose\"].apply(np.log)\n",
    "tickers = [\"hasclose\", \"aaplclose\", \"ttwoclose\", \"sbuxclose\", \"ctasclose\", \"alxnclose\", \"algnclose\", \"payxclose\"]\n",
    "synth = backtest_daily[tickers]\n",
    "start = date(2018, 1, 2)\n",
    "end = date(2018, 12, 31)\n",
    "dt = 1.0 / (end-start).days\n",
    "\n",
    "# get historical market data\n",
    "#gld_price = gld.history(period=\"100d\")\n",
    "#slv_price = slv.history(period=\"100d\")\n",
    "#ts_gld = gld_price[\"Close\"]\n",
    "#ts_slv = slv_price[\"Close\"]"
   ]
  },
  {
   "cell_type": "code",
   "execution_count": 5,
   "metadata": {},
   "outputs": [],
   "source": [
    "def construct_synth_asset(synth_comps, weights, assets):\n",
    "    weighted_prices = weights[assets].multiply(np.log(synth_comps[assets]))\n",
    "    weighted_prices['intercept'] = weights['intercept']\n",
    "    synth_asset = weighted_prices.sum(1)\n",
    "    return synth_asset\n"
   ]
  },
  {
   "cell_type": "code",
   "execution_count": 6,
   "metadata": {},
   "outputs": [],
   "source": [
    "synth_asset = construct_synth_asset(synth, slopes_daily, tickers)\n",
    "synth_asset.rename(\"synth_close\", inplace = True)\n",
    "train_df = pd.concat([qqq, synth_asset], axis = 1)"
   ]
  },
  {
   "cell_type": "code",
   "execution_count": 7,
   "metadata": {},
   "outputs": [
    {
     "data": {
      "text/html": [
       "<div>\n",
       "<style scoped>\n",
       "    .dataframe tbody tr th:only-of-type {\n",
       "        vertical-align: middle;\n",
       "    }\n",
       "\n",
       "    .dataframe tbody tr th {\n",
       "        vertical-align: top;\n",
       "    }\n",
       "\n",
       "    .dataframe thead th {\n",
       "        text-align: right;\n",
       "    }\n",
       "</style>\n",
       "<table border=\"1\" class=\"dataframe\">\n",
       "  <thead>\n",
       "    <tr style=\"text-align: right;\">\n",
       "      <th></th>\n",
       "      <th></th>\n",
       "      <th>qqqclose</th>\n",
       "      <th>synth_close</th>\n",
       "    </tr>\n",
       "    <tr>\n",
       "      <th>dayPeriod</th>\n",
       "      <th></th>\n",
       "      <th></th>\n",
       "      <th></th>\n",
       "    </tr>\n",
       "  </thead>\n",
       "  <tbody>\n",
       "    <tr>\n",
       "      <th>2018-01-02</th>\n",
       "      <th>353</th>\n",
       "      <td>5.065439</td>\n",
       "      <td>5.065067</td>\n",
       "    </tr>\n",
       "    <tr>\n",
       "      <th>2018-01-03</th>\n",
       "      <th>713</th>\n",
       "      <td>5.075424</td>\n",
       "      <td>5.075265</td>\n",
       "    </tr>\n",
       "    <tr>\n",
       "      <th>2018-01-04</th>\n",
       "      <th>1073</th>\n",
       "      <td>5.077421</td>\n",
       "      <td>5.078937</td>\n",
       "    </tr>\n",
       "    <tr>\n",
       "      <th>2018-01-05</th>\n",
       "      <th>1431</th>\n",
       "      <td>5.086732</td>\n",
       "      <td>5.087051</td>\n",
       "    </tr>\n",
       "    <tr>\n",
       "      <th>2018-01-08</th>\n",
       "      <th>1788</th>\n",
       "      <td>5.090924</td>\n",
       "      <td>5.091512</td>\n",
       "    </tr>\n",
       "    <tr>\n",
       "      <th>...</th>\n",
       "      <th>...</th>\n",
       "      <td>...</td>\n",
       "      <td>...</td>\n",
       "    </tr>\n",
       "    <tr>\n",
       "      <th>2018-12-24</th>\n",
       "      <th>86861</th>\n",
       "      <td>4.964731</td>\n",
       "      <td>4.965863</td>\n",
       "    </tr>\n",
       "    <tr>\n",
       "      <th>2018-12-26</th>\n",
       "      <th>87230</th>\n",
       "      <td>5.018537</td>\n",
       "      <td>5.018316</td>\n",
       "    </tr>\n",
       "    <tr>\n",
       "      <th>2018-12-27</th>\n",
       "      <th>87598</th>\n",
       "      <td>5.026410</td>\n",
       "      <td>5.027863</td>\n",
       "    </tr>\n",
       "    <tr>\n",
       "      <th>2018-12-28</th>\n",
       "      <th>87964</th>\n",
       "      <td>5.029850</td>\n",
       "      <td>5.030210</td>\n",
       "    </tr>\n",
       "    <tr>\n",
       "      <th>2018-12-31</th>\n",
       "      <th>88326</th>\n",
       "      <td>5.033244</td>\n",
       "      <td>5.033105</td>\n",
       "    </tr>\n",
       "  </tbody>\n",
       "</table>\n",
       "<p>251 rows × 2 columns</p>\n",
       "</div>"
      ],
      "text/plain": [
       "                  qqqclose  synth_close\n",
       "dayPeriod                              \n",
       "2018-01-02 353    5.065439     5.065067\n",
       "2018-01-03 713    5.075424     5.075265\n",
       "2018-01-04 1073   5.077421     5.078937\n",
       "2018-01-05 1431   5.086732     5.087051\n",
       "2018-01-08 1788   5.090924     5.091512\n",
       "...                    ...          ...\n",
       "2018-12-24 86861  4.964731     4.965863\n",
       "2018-12-26 87230  5.018537     5.018316\n",
       "2018-12-27 87598  5.026410     5.027863\n",
       "2018-12-28 87964  5.029850     5.030210\n",
       "2018-12-31 88326  5.033244     5.033105\n",
       "\n",
       "[251 rows x 2 columns]"
      ]
     },
     "execution_count": 7,
     "metadata": {},
     "output_type": "execute_result"
    }
   ],
   "source": [
    "train_df"
   ]
  },
  {
   "cell_type": "code",
   "execution_count": 8,
   "metadata": {},
   "outputs": [
    {
     "name": "stdout",
     "output_type": "stream",
     "text": [
      "              Theta          Mu     Sigma  Max log-likelihood\n",
      "empirical -0.000075  133.610633  0.003304            7.299982\n",
      "simulated -0.000052  133.076957  0.003968            7.064522\n",
      "Model description:\n",
      " training period              [(2018-01-02, 353), (2018-12-31, 88326)]\n",
      "long-term mean                                           -7.52178e-05\n",
      "speed of reversion                                            133.611\n",
      "volatility                                                 0.00330424\n",
      "fitting error                                                0.245278\n",
      "discount rates                                           [0.05, 0.05]\n",
      "transaction costs                                              [0, 0]\n",
      "stop-loss level                                                  None\n",
      "beta                                                                1\n",
      "optimal entry level                                                 0\n",
      "optimal liquidation level                                           0\n",
      "dtype: object\n"
     ]
    },
    {
     "name": "stderr",
     "output_type": "stream",
     "text": [
      "C:\\Users\\liuvi\\anaconda3\\envs\\quant\\lib\\site-packages\\mlfinlab\\optimal_mean_reversion\\ou_model.py:572: RuntimeWarning: overflow encountered in exp\n",
      "  * np.exp(np.sqrt(2 * self.mu / self.sigma_square)\n",
      "C:\\Users\\liuvi\\anaconda3\\envs\\quant\\lib\\site-packages\\mlfinlab\\optimal_mean_reversion\\ou_model.py:541: IntegrationWarning: The integral is probably divergent, or slowly convergent.\n",
      "  calculated_f = quad(f_func, 0, np.inf)[0]\n",
      "C:\\Users\\liuvi\\anaconda3\\envs\\quant\\lib\\site-packages\\mlfinlab\\optimal_mean_reversion\\ou_model.py:541: IntegrationWarning: The integral is probably divergent, or slowly convergent.\n",
      "  calculated_f = quad(f_func, 0, np.inf)[0]\n",
      "C:\\Users\\liuvi\\anaconda3\\envs\\quant\\lib\\site-packages\\mlfinlab\\optimal_mean_reversion\\ou_model.py:541: IntegrationWarning: The integral is probably divergent, or slowly convergent.\n",
      "  calculated_f = quad(f_func, 0, np.inf)[0]\n",
      "C:\\Users\\liuvi\\anaconda3\\envs\\quant\\lib\\site-packages\\mlfinlab\\optimal_mean_reversion\\ou_model.py:535: RuntimeWarning: overflow encountered in exp\n",
      "  * np.exp(np.sqrt(2 * self.mu / self.sigma_square)\n",
      "C:\\Users\\liuvi\\anaconda3\\envs\\quant\\lib\\site-packages\\mlfinlab\\optimal_mean_reversion\\ou_model.py:535: RuntimeWarning: overflow encountered in exp\n",
      "  * np.exp(np.sqrt(2 * self.mu / self.sigma_square)\n",
      "C:\\Users\\liuvi\\anaconda3\\envs\\quant\\lib\\site-packages\\mlfinlab\\optimal_mean_reversion\\ou_model.py:535: RuntimeWarning: overflow encountered in exp\n",
      "  * np.exp(np.sqrt(2 * self.mu / self.sigma_square)\n",
      "C:\\Users\\liuvi\\anaconda3\\envs\\quant\\lib\\site-packages\\mlfinlab\\optimal_mean_reversion\\ou_model.py:535: RuntimeWarning: overflow encountered in exp\n",
      "  * np.exp(np.sqrt(2 * self.mu / self.sigma_square)\n",
      "C:\\Users\\liuvi\\anaconda3\\envs\\quant\\lib\\site-packages\\mlfinlab\\optimal_mean_reversion\\ou_model.py:535: RuntimeWarning: overflow encountered in exp\n",
      "  * np.exp(np.sqrt(2 * self.mu / self.sigma_square)\n",
      "C:\\Users\\liuvi\\anaconda3\\envs\\quant\\lib\\site-packages\\mlfinlab\\optimal_mean_reversion\\ou_model.py:535: RuntimeWarning: overflow encountered in exp\n",
      "  * np.exp(np.sqrt(2 * self.mu / self.sigma_square)\n",
      "C:\\Users\\liuvi\\anaconda3\\envs\\quant\\lib\\site-packages\\mlfinlab\\optimal_mean_reversion\\ou_model.py:541: IntegrationWarning: The integral is probably divergent, or slowly convergent.\n",
      "  calculated_f = quad(f_func, 0, np.inf)[0]\n",
      "C:\\Users\\liuvi\\anaconda3\\envs\\quant\\lib\\site-packages\\mlfinlab\\optimal_mean_reversion\\ou_model.py:541: IntegrationWarning: The integral is probably divergent, or slowly convergent.\n",
      "  calculated_f = quad(f_func, 0, np.inf)[0]\n",
      "C:\\Users\\liuvi\\anaconda3\\envs\\quant\\lib\\site-packages\\mlfinlab\\optimal_mean_reversion\\ou_model.py:541: IntegrationWarning: The integral is probably divergent, or slowly convergent.\n",
      "  calculated_f = quad(f_func, 0, np.inf)[0]\n",
      "C:\\Users\\liuvi\\anaconda3\\envs\\quant\\lib\\site-packages\\mlfinlab\\optimal_mean_reversion\\ou_model.py:541: IntegrationWarning: The integral is probably divergent, or slowly convergent.\n",
      "  calculated_f = quad(f_func, 0, np.inf)[0]\n",
      "C:\\Users\\liuvi\\anaconda3\\envs\\quant\\lib\\site-packages\\mlfinlab\\optimal_mean_reversion\\ou_model.py:572: RuntimeWarning: overflow encountered in exp\n",
      "  * np.exp(np.sqrt(2 * self.mu / self.sigma_square)\n",
      "C:\\Users\\liuvi\\anaconda3\\envs\\quant\\lib\\site-packages\\mlfinlab\\optimal_mean_reversion\\ou_model.py:572: RuntimeWarning: overflow encountered in exp\n",
      "  * np.exp(np.sqrt(2 * self.mu / self.sigma_square)\n",
      "C:\\Users\\liuvi\\anaconda3\\envs\\quant\\lib\\site-packages\\mlfinlab\\optimal_mean_reversion\\ou_model.py:541: IntegrationWarning: The integral is probably divergent, or slowly convergent.\n",
      "  calculated_f = quad(f_func, 0, np.inf)[0]\n",
      "C:\\Users\\liuvi\\anaconda3\\envs\\quant\\lib\\site-packages\\mlfinlab\\optimal_mean_reversion\\ou_model.py:541: IntegrationWarning: The integral is probably divergent, or slowly convergent.\n",
      "  calculated_f = quad(f_func, 0, np.inf)[0]\n",
      "C:\\Users\\liuvi\\anaconda3\\envs\\quant\\lib\\site-packages\\mlfinlab\\optimal_mean_reversion\\ou_model.py:578: IntegrationWarning: The integral is probably divergent, or slowly convergent.\n",
      "  calculated_g = quad(g_func, 0, np.inf)[0]\n",
      "C:\\Users\\liuvi\\anaconda3\\envs\\quant\\lib\\site-packages\\mlfinlab\\optimal_mean_reversion\\ou_model.py:578: IntegrationWarning: The integral is probably divergent, or slowly convergent.\n",
      "  calculated_g = quad(g_func, 0, np.inf)[0]\n",
      "C:\\Users\\liuvi\\anaconda3\\envs\\quant\\lib\\site-packages\\mlfinlab\\optimal_mean_reversion\\ou_model.py:578: IntegrationWarning: The integral is probably divergent, or slowly convergent.\n",
      "  calculated_g = quad(g_func, 0, np.inf)[0]\n"
     ]
    }
   ],
   "source": [
    "ou_model = OrnsteinUhlenbeck()\n",
    "ou_model.fit(train_df, data_frequency = \"D\", discount_rate = [0.05, 0.05], \n",
    "             transaction_cost = [0, 0])\n",
    "print(ou_model.check_fit())\n",
    "print(\"Model description:\\n\",ou_model.description())"
   ]
  },
  {
   "cell_type": "code",
   "execution_count": null,
   "metadata": {},
   "outputs": [],
   "source": []
  }
 ],
 "metadata": {
  "kernelspec": {
   "display_name": "Python 3",
   "language": "python",
   "name": "python3"
  },
  "language_info": {
   "codemirror_mode": {
    "name": "ipython",
    "version": 3
   },
   "file_extension": ".py",
   "mimetype": "text/x-python",
   "name": "python",
   "nbconvert_exporter": "python",
   "pygments_lexer": "ipython3",
   "version": "3.8.5"
  }
 },
 "nbformat": 4,
 "nbformat_minor": 2
}
