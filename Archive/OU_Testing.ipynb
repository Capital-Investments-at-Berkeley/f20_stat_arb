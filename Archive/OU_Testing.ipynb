{
 "cells": [
  {
   "cell_type": "code",
   "execution_count": 1,
   "metadata": {},
   "outputs": [],
   "source": [
    "import math\n",
    "from math import sqrt, exp, log  # exp(n) == e^n, log(n) == ln(n)\n",
    "import scipy.optimize as so\n",
    "import numpy as np\n",
    "import yfinance as yf\n",
    "import pandas as pd\n",
    "import functions as fn\n",
    "from datetime import date"
   ]
  },
  {
   "cell_type": "code",
   "execution_count": 2,
   "metadata": {},
   "outputs": [],
   "source": [
    "def compute_log_likelihood(params, *args):\n",
    "    '''\n",
    "    Compute the average Log Likelihood, this function will by minimized by scipy.\n",
    "    Find in (2.2) in linked paper\n",
    "\n",
    "    returns: the average log likelihood from given parameters\n",
    "    '''\n",
    "    # functions passed into scipy's minimize() needs accept one parameter, a tuple of\n",
    "    #   of values that we adjust to minimize the value we return.\n",
    "    #   optionally, *args can be passed, which are values we don't change, but still want\n",
    "    #   to use in our function (e.g. the measured heights in our sample or the value Pi)\n",
    "\n",
    "    theta, mu, sigma = params\n",
    "    X, dt = args\n",
    "    n = len(X)\n",
    "\n",
    "    sigma_tilde_squared = sigma ** 2 * (1 - exp(-2 * mu * dt)) / (2 * mu)\n",
    "    summation_term = 0\n",
    "\n",
    "    for i in range(1, len(X)):\n",
    "        summation_term += (X[i] - X[i - 1] * exp(-mu * dt) - theta * (1 - exp(-mu * dt))) ** 2\n",
    "\n",
    "    summation_term = -summation_term / (2 * n * sigma_tilde_squared)\n",
    "\n",
    "    log_likelihood = (-log(2 * math.pi) / 2) + (-log(sqrt(sigma_tilde_squared))) + summation_term\n",
    "\n",
    "    return -log_likelihood\n",
    "    # since we want to maximize this total log likelihood, we need to minimize the\n",
    "    #   negation of the this value (scipy doesn't support maximize)\n",
    "\n",
    "\n",
    "def estimate_coefficients_MLE(X, dt, tol=1e-10):\n",
    "    '''\n",
    "    Estimates Ornstein-Uhlenbeck coefficients (θ, µ, σ) of the given array\n",
    "    using the Maximum Likelihood Estimation method\n",
    "\n",
    "    input: X - array-like time series data to be fit as an OU process\n",
    "           dt - time increment (1 / days(start date - end date))\n",
    "           tol - tolerance for determination (smaller tolerance means higher precision)\n",
    "    returns: θ, µ, σ, Average Log Likelihood\n",
    "    '''\n",
    "\n",
    "    bounds = ((None, None), (1e-5, None), (1e-5, None))  # theta ∈ ℝ, mu > 0, sigma > 0\n",
    "                                                           # we need 1e-10 b/c scipy bounds are inclusive of 0, \n",
    "                                                           # and sigma = 0 causes division by 0 error\n",
    "    theta_init = np.mean(X)\n",
    "    initial_guess = (theta_init, 100, 100)  # initial guesses for theta, mu, sigma\n",
    "    result = so.minimize(compute_log_likelihood, initial_guess, args=(X, dt), bounds=bounds, tol=tol)\n",
    "    theta, mu, sigma = result.x \n",
    "    max_log_likelihood = -result.fun  # undo negation from __compute_log_likelihood\n",
    "    # .x gets the optimized parameters, .fun gets the optimized value\n",
    "    return theta, mu, sigma, max_log_likelihood"
   ]
  },
  {
   "cell_type": "code",
   "execution_count": 3,
   "metadata": {},
   "outputs": [],
   "source": [
    "def compute_portfolio_values(ts_A, nameA, ts_B, namesB, slopes, beta):\n",
    "    '''\n",
    "    Compute the portfolio values over time when holding $1 of stock A \n",
    "    and -$alloc_B of stock B\n",
    "    \n",
    "    input: ts_A - time-series of price data of stock A,\n",
    "           ts_B - time-series of price data of stock B\n",
    "    outputs: Portfolio values of holding $1 of stock A and -$alloc_B of stock B\n",
    "    '''\n",
    "    \n",
    "    ts_A = ts_A.copy()  # defensive programming\n",
    "    ts_B = ts_B.copy()\n",
    "    ts_A[nameA] = ts_A[nameA] / ts_A[nameA].iloc[0]\n",
    "    prices = slopes[namesB].multiply(ts_B[namesB])\n",
    "    asset_price = prices.sum(1)\n",
    "    base = slopes[namesB].iloc[0].multiply(ts_B[namesB].iloc[0])\n",
    "    ts_B[\"syntheticAsset\"] = asset_price / base.sum()\n",
    "    return ts_A[nameA] - beta * ts_B[\"syntheticAsset\"]"
   ]
  },
  {
   "cell_type": "code",
   "execution_count": 4,
   "metadata": {},
   "outputs": [],
   "source": [
    "def arg_max_B_alloc(ts_A, nameA, ts_B, namesB, slopes, dt):\n",
    "    '''\n",
    "    Finds the $ allocation ratio to stock B to maximize the log likelihood\n",
    "    from the fit of portfolio values to an OU process\n",
    "\n",
    "    input: ts_A - time-series of price data of stock A,\n",
    "           ts_B - time-series of price data of stock B\n",
    "           dt - time increment (1 / days(start date - end date))\n",
    "    returns: θ*, µ*, σ*, B*\n",
    "    '''\n",
    "    \n",
    "    theta = mu = sigma = alloc_B = 0\n",
    "    max_log_likelihood = 0\n",
    "\n",
    "    def compute_coefficients(beta):\n",
    "        portfolio_values = compute_portfolio_values(ts_A, nameA, ts_B, namesB, slopes, beta)\n",
    "        print(\"SINGLE TS:\", portfolio_values)\n",
    "        coeffs = estimate_coefficients_MLE(portfolio_values, dt)\n",
    "        print(coeffs)\n",
    "        return coeffs\n",
    "    vectorized = np.vectorize(compute_coefficients)\n",
    "    linspace = [1]#np.linspace(.01, 1, 100)\n",
    "    res = vectorized(linspace)\n",
    "    print(res)\n",
    "    index = res[3].argmax()\n",
    "    \n",
    "    return res[0][index], res[1][index], res[2][index], linspace[index]"
   ]
  },
  {
   "cell_type": "code",
   "execution_count": 5,
   "metadata": {},
   "outputs": [
    {
     "name": "stdout",
     "output_type": "stream",
     "text": [
      "(88327, 12) (88327, 10)\n"
     ]
    }
   ],
   "source": [
    "backtest_data = pd.read_csv(\"../backtest_data_entries_exits_2018.csv\")\n",
    "#Final price of each day\n",
    "#backtest_data[\"datetime\"] = pd.to_datetime(backtest_data[\"datetime\"])\n",
    "#backtest_data[\"dayPeriod\"] = backtest_data[\"datetime\"].dt.to_period(\"D\")\n",
    "backtest_daily = backtest_data#.groupby(backtest_data[\"dayPeriod\"]).apply(lambda x: x.iloc[[-1]])\n",
    "\n",
    "\n",
    "slopes = pd.read_csv(\"../hedge_ratios_2018.csv\")\n",
    "slopes[\"datetime\"] = backtest_data[\"datetime\"]\n",
    "#slopes[\"dayPeriod\"] = slopes[\"datetime\"].dt.to_period(\"D\")\n",
    "slopes_daily = slopes#.groupby(slopes[\"dayPeriod\"]).apply(lambda x: x.iloc[[-1]])\n",
    "\n",
    "print(backtest_daily.shape, slopes_daily.shape)"
   ]
  },
  {
   "cell_type": "code",
   "execution_count": 6,
   "metadata": {},
   "outputs": [
    {
     "name": "stdout",
     "output_type": "stream",
     "text": [
      "Index(['Unnamed: 0', 'hasHR', 'aaplHR', 'ttwoHR', 'sbuxHR', 'ctasHR', 'alxnHR',\n",
      "       'algnHR', 'payxHR', 'datetime'],\n",
      "      dtype='object')\n",
      "Index(['Unnamed: 0', 'hasclose', 'aaplHR', 'ttwoclose', 'sbuxclose',\n",
      "       'ctasclose', 'alxnclose', 'algnHR', 'payxHR', 'datetime'],\n",
      "      dtype='object')\n"
     ]
    }
   ],
   "source": [
    "print(slopes_daily.columns)\n",
    "slopes_daily.rename(columns={\"hasHR\":\"hasclose\", \"ttwoHR\":\"ttwoclose\", \"ctasHR\":\"ctasclose\", \"sbuxHR\":\"sbuxclose\", \"alxnHR\":\"alxnclose\"}, inplace=True)\n",
    "print(slopes_daily.columns)"
   ]
  },
  {
   "cell_type": "code",
   "execution_count": 7,
   "metadata": {},
   "outputs": [],
   "source": [
    "qqq = backtest_daily[[\"datetime\", \"qqqclose\"]]\n",
    "synth = backtest_daily[[\"datetime\", \"hasclose\", \"ttwoclose\", \"sbuxclose\", \"ctasclose\", \"alxnclose\"]]\n",
    "start = date(2018, 1, 2)\n",
    "end = date(2018, 12, 31)\n",
    "dt = 1.0 / len(qqq)#(end-start).days\n",
    "\n",
    "# get historical market data\n",
    "#gld_price = gld.history(period=\"100d\")\n",
    "#slv_price = slv.history(period=\"100d\")\n",
    "#ts_gld = gld_price[\"Close\"]\n",
    "#ts_slv = slv_price[\"Close\"]"
   ]
  },
  {
   "cell_type": "code",
   "execution_count": 8,
   "metadata": {
    "scrolled": true
   },
   "outputs": [
    {
     "name": "stdout",
     "output_type": "stream",
     "text": [
      "SINGLE TS: 0        0.000000\n",
      "1        0.000969\n",
      "2        0.000750\n",
      "3        0.002219\n",
      "4        0.002232\n",
      "           ...   \n",
      "88322   -0.083542\n",
      "88323   -0.083064\n",
      "88324   -0.082804\n",
      "88325   -0.082737\n",
      "88326   -0.082721\n",
      "Length: 88327, dtype: float64\n",
      "(-0.005107691029573813, 100.05213176208693, 0.24136160447824573, 5.697484233383085)\n",
      "SINGLE TS: 0        0.000000\n",
      "1        0.000969\n",
      "2        0.000750\n",
      "3        0.002219\n",
      "4        0.002232\n",
      "           ...   \n",
      "88322   -0.083542\n",
      "88323   -0.083064\n",
      "88324   -0.082804\n",
      "88325   -0.082737\n",
      "88326   -0.082721\n",
      "Length: 88327, dtype: float64\n",
      "(-0.005107691029573813, 100.05213176208693, 0.24136160447824573, 5.697484233383085)\n",
      "(array([-0.00510769]), array([100.05213176]), array([0.2413616]), array([5.69748423]))\n"
     ]
    }
   ],
   "source": [
    "theta, mu, sigma, b_alloc = arg_max_B_alloc(qqq, \"qqqclose\", synth, [\"hasclose\", \"ttwoclose\", \"sbuxclose\", \"ctasclose\", \"alxnclose\"], slopes_daily, dt) "
   ]
  },
  {
   "cell_type": "code",
   "execution_count": 9,
   "metadata": {},
   "outputs": [
    {
     "name": "stdout",
     "output_type": "stream",
     "text": [
      "-0.005107691029573813 100.05213176208693 0.24136160447824573 1\n"
     ]
    }
   ],
   "source": [
    "print(theta, mu, sigma, b_alloc)"
   ]
  },
  {
   "cell_type": "code",
   "execution_count": 10,
   "metadata": {},
   "outputs": [],
   "source": [
    "from math import sqrt, exp\n",
    "import scipy.integrate as si\n",
    "import scipy.optimize as so\n",
    "import numpy as np\n",
    "\n",
    "def Prime(f, x, theta, mu, sigma, r, h=1e-5):\n",
    "    # given f, estimates f'(x) using the difference quotient formula \n",
    "    # WARNING: LOWER h VALUES CAN LEAD TO WEIRD RESULTS\n",
    "    return (f(x+h, theta, mu, sigma, r) - f(x, theta, mu, sigma, r)) / h \n",
    "\n",
    "def Prime2(f, x, theta, mu, sigma, r, c, h=1e-5):\n",
    "    # given f, estimates f'(x) using the difference quotient formula \n",
    "    # WARNING: LOWER h VALUES CAN LEAD TO WEIRD RESULTS\n",
    "    return (f(x+h, theta, mu, sigma, r, c) - f(x, theta, mu, sigma, r, c)) / h \n",
    "\n",
    "def F(x, theta, mu, sigma, r):\n",
    "    # equation 3.3\n",
    "    def integrand(u):\n",
    "        return u**(r/mu - 1) * exp(sqrt(2*mu / sigma**2) * (x-theta)*u - u**2/2)\n",
    "    return si.quad(integrand, 0, np.inf)[0]\n",
    "\n",
    "def G(x, theta, mu, sigma, r):\n",
    "    # equation 3.4\n",
    "    def integrand(u):\n",
    "        return u**(r/mu - 1) * exp(sqrt(2*mu / sigma**2) * (theta-x)*u - u**2/2)\n",
    "    return si.quad(integrand, 0, np.inf)[0]\n",
    "\n",
    "def b_star(theta, mu, sigma, r, c):\n",
    "    # estimates b* using equation 4.3\n",
    "    # def opt_func(b):\n",
    "    #     # equation 4.3 in the paper with terms moved to one side\n",
    "    #     return abs(F(b, theta, mu, sigma, r) - (b-c)*Prime(F, b, theta, mu, sigma, r))\n",
    "    # bounds = ((.01, .99),)\n",
    "    # result = so.minimize(opt_func, .5, bounds=bounds)\n",
    "\n",
    "    b_space = np.linspace(0.1,0.9, 801)\n",
    "    def func(b):\n",
    "        return F(b, theta, mu, sigma, r) - (b-c)*Prime(F, b, theta, mu, sigma, r)\n",
    "    \n",
    "    return so.brentq(func, 0, 1)\n",
    "\n",
    "def V(x, theta, mu, sigma, r, c):\n",
    "    # OUR SELL SIGNAL\n",
    "    # equation 4.2, solution of equation posed by 2.3\n",
    "    \n",
    "    b_star_val = b_star(theta, mu, sigma, r, c)\n",
    "    \n",
    "    if x < b_star_val:\n",
    "        return (b_star_val - c) * F(x, theta, mu, sigma, r) / F(b_star_val, theta, mu, sigma, r)\n",
    "    else:\n",
    "        return x - c\n",
    "\n",
    "def d_star(theta, mu, sigma, r, c):\n",
    "    # estimates d* using equation 4.11\n",
    "  \n",
    "    def func(d):\n",
    "        return (G(d, theta, mu, sigma, r) * (Prime2(V, d, theta, mu, sigma, r, c) - 1)) - (Prime(G, d, theta, mu, sigma, r) * (V(d, theta, mu, sigma, r, c) - d - c))\n",
    "\n",
    "    # finds the root between the interval [0, 1]\n",
    "    return so.brentq(func, 0, 1)"
   ]
  },
  {
   "cell_type": "code",
   "execution_count": 11,
   "metadata": {},
   "outputs": [
    {
     "name": "stderr",
     "output_type": "stream",
     "text": [
      "<ipython-input-10-6f78aa557b4a>:20: IntegrationWarning: The algorithm does not converge.  Roundoff error is detected\n",
      "  in the extrapolation table.  It is assumed that the requested tolerance\n",
      "  cannot be achieved, and that the returned result (if full_output = 1) is \n",
      "  the best which can be obtained.\n",
      "  return si.quad(integrand, 0, np.inf)[0]\n"
     ]
    },
    {
     "ename": "OverflowError",
     "evalue": "math range error",
     "output_type": "error",
     "traceback": [
      "\u001b[1;31m---------------------------------------------------------------------------\u001b[0m",
      "\u001b[1;31mOverflowError\u001b[0m                             Traceback (most recent call last)",
      "\u001b[1;32m<ipython-input-11-eb9a05489726>\u001b[0m in \u001b[0;36m<module>\u001b[1;34m\u001b[0m\n\u001b[0;32m      1\u001b[0m \u001b[0mr\u001b[0m \u001b[1;33m=\u001b[0m \u001b[0mc\u001b[0m \u001b[1;33m=\u001b[0m \u001b[1;36m.05\u001b[0m\u001b[1;33m\u001b[0m\u001b[1;33m\u001b[0m\u001b[0m\n\u001b[1;32m----> 2\u001b[1;33m \u001b[0mb\u001b[0m \u001b[1;33m=\u001b[0m \u001b[0mb_star\u001b[0m\u001b[1;33m(\u001b[0m\u001b[0mtheta\u001b[0m\u001b[1;33m,\u001b[0m \u001b[0mmu\u001b[0m\u001b[1;33m,\u001b[0m \u001b[0msigma\u001b[0m\u001b[1;33m,\u001b[0m \u001b[0mr\u001b[0m\u001b[1;33m,\u001b[0m \u001b[0mc\u001b[0m\u001b[1;33m)\u001b[0m\u001b[1;33m\u001b[0m\u001b[1;33m\u001b[0m\u001b[0m\n\u001b[0m\u001b[0;32m      3\u001b[0m \u001b[0md\u001b[0m \u001b[1;33m=\u001b[0m \u001b[0md_star\u001b[0m\u001b[1;33m(\u001b[0m\u001b[0mtheta\u001b[0m\u001b[1;33m,\u001b[0m \u001b[0mmu\u001b[0m\u001b[1;33m,\u001b[0m \u001b[0msigma\u001b[0m\u001b[1;33m,\u001b[0m \u001b[0mr\u001b[0m\u001b[1;33m,\u001b[0m \u001b[0mc\u001b[0m\u001b[1;33m)\u001b[0m\u001b[1;33m\u001b[0m\u001b[1;33m\u001b[0m\u001b[0m\n\u001b[0;32m      4\u001b[0m \u001b[0mb\u001b[0m\u001b[1;33m,\u001b[0m \u001b[0md\u001b[0m  \u001b[1;31m# our optima\u001b[0m\u001b[1;33m\u001b[0m\u001b[1;33m\u001b[0m\u001b[0m\n",
      "\u001b[1;32m<ipython-input-10-6f78aa557b4a>\u001b[0m in \u001b[0;36mb_star\u001b[1;34m(theta, mu, sigma, r, c)\u001b[0m\n\u001b[0;32m     38\u001b[0m         \u001b[1;32mreturn\u001b[0m \u001b[0mF\u001b[0m\u001b[1;33m(\u001b[0m\u001b[0mb\u001b[0m\u001b[1;33m,\u001b[0m \u001b[0mtheta\u001b[0m\u001b[1;33m,\u001b[0m \u001b[0mmu\u001b[0m\u001b[1;33m,\u001b[0m \u001b[0msigma\u001b[0m\u001b[1;33m,\u001b[0m \u001b[0mr\u001b[0m\u001b[1;33m)\u001b[0m \u001b[1;33m-\u001b[0m \u001b[1;33m(\u001b[0m\u001b[0mb\u001b[0m\u001b[1;33m-\u001b[0m\u001b[0mc\u001b[0m\u001b[1;33m)\u001b[0m\u001b[1;33m*\u001b[0m\u001b[0mPrime\u001b[0m\u001b[1;33m(\u001b[0m\u001b[0mF\u001b[0m\u001b[1;33m,\u001b[0m \u001b[0mb\u001b[0m\u001b[1;33m,\u001b[0m \u001b[0mtheta\u001b[0m\u001b[1;33m,\u001b[0m \u001b[0mmu\u001b[0m\u001b[1;33m,\u001b[0m \u001b[0msigma\u001b[0m\u001b[1;33m,\u001b[0m \u001b[0mr\u001b[0m\u001b[1;33m)\u001b[0m\u001b[1;33m\u001b[0m\u001b[1;33m\u001b[0m\u001b[0m\n\u001b[0;32m     39\u001b[0m \u001b[1;33m\u001b[0m\u001b[0m\n\u001b[1;32m---> 40\u001b[1;33m     \u001b[1;32mreturn\u001b[0m \u001b[0mso\u001b[0m\u001b[1;33m.\u001b[0m\u001b[0mbrentq\u001b[0m\u001b[1;33m(\u001b[0m\u001b[0mfunc\u001b[0m\u001b[1;33m,\u001b[0m \u001b[1;36m0\u001b[0m\u001b[1;33m,\u001b[0m \u001b[1;36m1\u001b[0m\u001b[1;33m)\u001b[0m\u001b[1;33m\u001b[0m\u001b[1;33m\u001b[0m\u001b[0m\n\u001b[0m\u001b[0;32m     41\u001b[0m \u001b[1;33m\u001b[0m\u001b[0m\n\u001b[0;32m     42\u001b[0m \u001b[1;32mdef\u001b[0m \u001b[0mV\u001b[0m\u001b[1;33m(\u001b[0m\u001b[0mx\u001b[0m\u001b[1;33m,\u001b[0m \u001b[0mtheta\u001b[0m\u001b[1;33m,\u001b[0m \u001b[0mmu\u001b[0m\u001b[1;33m,\u001b[0m \u001b[0msigma\u001b[0m\u001b[1;33m,\u001b[0m \u001b[0mr\u001b[0m\u001b[1;33m,\u001b[0m \u001b[0mc\u001b[0m\u001b[1;33m)\u001b[0m\u001b[1;33m:\u001b[0m\u001b[1;33m\u001b[0m\u001b[1;33m\u001b[0m\u001b[0m\n",
      "\u001b[1;32m~\\anaconda3\\envs\\quant\\lib\\site-packages\\scipy\\optimize\\zeros.py\u001b[0m in \u001b[0;36mbrentq\u001b[1;34m(f, a, b, args, xtol, rtol, maxiter, full_output, disp)\u001b[0m\n\u001b[0;32m    778\u001b[0m     \u001b[1;32mif\u001b[0m \u001b[0mrtol\u001b[0m \u001b[1;33m<\u001b[0m \u001b[0m_rtol\u001b[0m\u001b[1;33m:\u001b[0m\u001b[1;33m\u001b[0m\u001b[1;33m\u001b[0m\u001b[0m\n\u001b[0;32m    779\u001b[0m         \u001b[1;32mraise\u001b[0m \u001b[0mValueError\u001b[0m\u001b[1;33m(\u001b[0m\u001b[1;34m\"rtol too small (%g < %g)\"\u001b[0m \u001b[1;33m%\u001b[0m \u001b[1;33m(\u001b[0m\u001b[0mrtol\u001b[0m\u001b[1;33m,\u001b[0m \u001b[0m_rtol\u001b[0m\u001b[1;33m)\u001b[0m\u001b[1;33m)\u001b[0m\u001b[1;33m\u001b[0m\u001b[1;33m\u001b[0m\u001b[0m\n\u001b[1;32m--> 780\u001b[1;33m     \u001b[0mr\u001b[0m \u001b[1;33m=\u001b[0m \u001b[0m_zeros\u001b[0m\u001b[1;33m.\u001b[0m\u001b[0m_brentq\u001b[0m\u001b[1;33m(\u001b[0m\u001b[0mf\u001b[0m\u001b[1;33m,\u001b[0m \u001b[0ma\u001b[0m\u001b[1;33m,\u001b[0m \u001b[0mb\u001b[0m\u001b[1;33m,\u001b[0m \u001b[0mxtol\u001b[0m\u001b[1;33m,\u001b[0m \u001b[0mrtol\u001b[0m\u001b[1;33m,\u001b[0m \u001b[0mmaxiter\u001b[0m\u001b[1;33m,\u001b[0m \u001b[0margs\u001b[0m\u001b[1;33m,\u001b[0m \u001b[0mfull_output\u001b[0m\u001b[1;33m,\u001b[0m \u001b[0mdisp\u001b[0m\u001b[1;33m)\u001b[0m\u001b[1;33m\u001b[0m\u001b[1;33m\u001b[0m\u001b[0m\n\u001b[0m\u001b[0;32m    781\u001b[0m     \u001b[1;32mreturn\u001b[0m \u001b[0mresults_c\u001b[0m\u001b[1;33m(\u001b[0m\u001b[0mfull_output\u001b[0m\u001b[1;33m,\u001b[0m \u001b[0mr\u001b[0m\u001b[1;33m)\u001b[0m\u001b[1;33m\u001b[0m\u001b[1;33m\u001b[0m\u001b[0m\n\u001b[0;32m    782\u001b[0m \u001b[1;33m\u001b[0m\u001b[0m\n",
      "\u001b[1;32m<ipython-input-10-6f78aa557b4a>\u001b[0m in \u001b[0;36mfunc\u001b[1;34m(b)\u001b[0m\n\u001b[0;32m     36\u001b[0m     \u001b[0mb_space\u001b[0m \u001b[1;33m=\u001b[0m \u001b[0mnp\u001b[0m\u001b[1;33m.\u001b[0m\u001b[0mlinspace\u001b[0m\u001b[1;33m(\u001b[0m\u001b[1;36m0.1\u001b[0m\u001b[1;33m,\u001b[0m\u001b[1;36m0.9\u001b[0m\u001b[1;33m,\u001b[0m \u001b[1;36m801\u001b[0m\u001b[1;33m)\u001b[0m\u001b[1;33m\u001b[0m\u001b[1;33m\u001b[0m\u001b[0m\n\u001b[0;32m     37\u001b[0m     \u001b[1;32mdef\u001b[0m \u001b[0mfunc\u001b[0m\u001b[1;33m(\u001b[0m\u001b[0mb\u001b[0m\u001b[1;33m)\u001b[0m\u001b[1;33m:\u001b[0m\u001b[1;33m\u001b[0m\u001b[1;33m\u001b[0m\u001b[0m\n\u001b[1;32m---> 38\u001b[1;33m         \u001b[1;32mreturn\u001b[0m \u001b[0mF\u001b[0m\u001b[1;33m(\u001b[0m\u001b[0mb\u001b[0m\u001b[1;33m,\u001b[0m \u001b[0mtheta\u001b[0m\u001b[1;33m,\u001b[0m \u001b[0mmu\u001b[0m\u001b[1;33m,\u001b[0m \u001b[0msigma\u001b[0m\u001b[1;33m,\u001b[0m \u001b[0mr\u001b[0m\u001b[1;33m)\u001b[0m \u001b[1;33m-\u001b[0m \u001b[1;33m(\u001b[0m\u001b[0mb\u001b[0m\u001b[1;33m-\u001b[0m\u001b[0mc\u001b[0m\u001b[1;33m)\u001b[0m\u001b[1;33m*\u001b[0m\u001b[0mPrime\u001b[0m\u001b[1;33m(\u001b[0m\u001b[0mF\u001b[0m\u001b[1;33m,\u001b[0m \u001b[0mb\u001b[0m\u001b[1;33m,\u001b[0m \u001b[0mtheta\u001b[0m\u001b[1;33m,\u001b[0m \u001b[0mmu\u001b[0m\u001b[1;33m,\u001b[0m \u001b[0msigma\u001b[0m\u001b[1;33m,\u001b[0m \u001b[0mr\u001b[0m\u001b[1;33m)\u001b[0m\u001b[1;33m\u001b[0m\u001b[1;33m\u001b[0m\u001b[0m\n\u001b[0m\u001b[0;32m     39\u001b[0m \u001b[1;33m\u001b[0m\u001b[0m\n\u001b[0;32m     40\u001b[0m     \u001b[1;32mreturn\u001b[0m \u001b[0mso\u001b[0m\u001b[1;33m.\u001b[0m\u001b[0mbrentq\u001b[0m\u001b[1;33m(\u001b[0m\u001b[0mfunc\u001b[0m\u001b[1;33m,\u001b[0m \u001b[1;36m0\u001b[0m\u001b[1;33m,\u001b[0m \u001b[1;36m1\u001b[0m\u001b[1;33m)\u001b[0m\u001b[1;33m\u001b[0m\u001b[1;33m\u001b[0m\u001b[0m\n",
      "\u001b[1;32m<ipython-input-10-6f78aa557b4a>\u001b[0m in \u001b[0;36mF\u001b[1;34m(x, theta, mu, sigma, r)\u001b[0m\n\u001b[0;32m     18\u001b[0m     \u001b[1;32mdef\u001b[0m \u001b[0mintegrand\u001b[0m\u001b[1;33m(\u001b[0m\u001b[0mu\u001b[0m\u001b[1;33m)\u001b[0m\u001b[1;33m:\u001b[0m\u001b[1;33m\u001b[0m\u001b[1;33m\u001b[0m\u001b[0m\n\u001b[0;32m     19\u001b[0m         \u001b[1;32mreturn\u001b[0m \u001b[0mu\u001b[0m\u001b[1;33m**\u001b[0m\u001b[1;33m(\u001b[0m\u001b[0mr\u001b[0m\u001b[1;33m/\u001b[0m\u001b[0mmu\u001b[0m \u001b[1;33m-\u001b[0m \u001b[1;36m1\u001b[0m\u001b[1;33m)\u001b[0m \u001b[1;33m*\u001b[0m \u001b[0mexp\u001b[0m\u001b[1;33m(\u001b[0m\u001b[0msqrt\u001b[0m\u001b[1;33m(\u001b[0m\u001b[1;36m2\u001b[0m\u001b[1;33m*\u001b[0m\u001b[0mmu\u001b[0m \u001b[1;33m/\u001b[0m \u001b[0msigma\u001b[0m\u001b[1;33m**\u001b[0m\u001b[1;36m2\u001b[0m\u001b[1;33m)\u001b[0m \u001b[1;33m*\u001b[0m \u001b[1;33m(\u001b[0m\u001b[0mx\u001b[0m\u001b[1;33m-\u001b[0m\u001b[0mtheta\u001b[0m\u001b[1;33m)\u001b[0m\u001b[1;33m*\u001b[0m\u001b[0mu\u001b[0m \u001b[1;33m-\u001b[0m \u001b[0mu\u001b[0m\u001b[1;33m**\u001b[0m\u001b[1;36m2\u001b[0m\u001b[1;33m/\u001b[0m\u001b[1;36m2\u001b[0m\u001b[1;33m)\u001b[0m\u001b[1;33m\u001b[0m\u001b[1;33m\u001b[0m\u001b[0m\n\u001b[1;32m---> 20\u001b[1;33m     \u001b[1;32mreturn\u001b[0m \u001b[0msi\u001b[0m\u001b[1;33m.\u001b[0m\u001b[0mquad\u001b[0m\u001b[1;33m(\u001b[0m\u001b[0mintegrand\u001b[0m\u001b[1;33m,\u001b[0m \u001b[1;36m0\u001b[0m\u001b[1;33m,\u001b[0m \u001b[0mnp\u001b[0m\u001b[1;33m.\u001b[0m\u001b[0minf\u001b[0m\u001b[1;33m)\u001b[0m\u001b[1;33m[\u001b[0m\u001b[1;36m0\u001b[0m\u001b[1;33m]\u001b[0m\u001b[1;33m\u001b[0m\u001b[1;33m\u001b[0m\u001b[0m\n\u001b[0m\u001b[0;32m     21\u001b[0m \u001b[1;33m\u001b[0m\u001b[0m\n\u001b[0;32m     22\u001b[0m \u001b[1;32mdef\u001b[0m \u001b[0mG\u001b[0m\u001b[1;33m(\u001b[0m\u001b[0mx\u001b[0m\u001b[1;33m,\u001b[0m \u001b[0mtheta\u001b[0m\u001b[1;33m,\u001b[0m \u001b[0mmu\u001b[0m\u001b[1;33m,\u001b[0m \u001b[0msigma\u001b[0m\u001b[1;33m,\u001b[0m \u001b[0mr\u001b[0m\u001b[1;33m)\u001b[0m\u001b[1;33m:\u001b[0m\u001b[1;33m\u001b[0m\u001b[1;33m\u001b[0m\u001b[0m\n",
      "\u001b[1;32m~\\anaconda3\\envs\\quant\\lib\\site-packages\\scipy\\integrate\\quadpack.py\u001b[0m in \u001b[0;36mquad\u001b[1;34m(func, a, b, args, full_output, epsabs, epsrel, limit, points, weight, wvar, wopts, maxp1, limlst)\u001b[0m\n\u001b[0;32m    339\u001b[0m \u001b[1;33m\u001b[0m\u001b[0m\n\u001b[0;32m    340\u001b[0m     \u001b[1;32mif\u001b[0m \u001b[0mweight\u001b[0m \u001b[1;32mis\u001b[0m \u001b[1;32mNone\u001b[0m\u001b[1;33m:\u001b[0m\u001b[1;33m\u001b[0m\u001b[1;33m\u001b[0m\u001b[0m\n\u001b[1;32m--> 341\u001b[1;33m         retval = _quad(func, a, b, args, full_output, epsabs, epsrel, limit,\n\u001b[0m\u001b[0;32m    342\u001b[0m                        points)\n\u001b[0;32m    343\u001b[0m     \u001b[1;32melse\u001b[0m\u001b[1;33m:\u001b[0m\u001b[1;33m\u001b[0m\u001b[1;33m\u001b[0m\u001b[0m\n",
      "\u001b[1;32m~\\anaconda3\\envs\\quant\\lib\\site-packages\\scipy\\integrate\\quadpack.py\u001b[0m in \u001b[0;36m_quad\u001b[1;34m(func, a, b, args, full_output, epsabs, epsrel, limit, points)\u001b[0m\n\u001b[0;32m    453\u001b[0m             \u001b[1;32mreturn\u001b[0m \u001b[0m_quadpack\u001b[0m\u001b[1;33m.\u001b[0m\u001b[0m_qagse\u001b[0m\u001b[1;33m(\u001b[0m\u001b[0mfunc\u001b[0m\u001b[1;33m,\u001b[0m\u001b[0ma\u001b[0m\u001b[1;33m,\u001b[0m\u001b[0mb\u001b[0m\u001b[1;33m,\u001b[0m\u001b[0margs\u001b[0m\u001b[1;33m,\u001b[0m\u001b[0mfull_output\u001b[0m\u001b[1;33m,\u001b[0m\u001b[0mepsabs\u001b[0m\u001b[1;33m,\u001b[0m\u001b[0mepsrel\u001b[0m\u001b[1;33m,\u001b[0m\u001b[0mlimit\u001b[0m\u001b[1;33m)\u001b[0m\u001b[1;33m\u001b[0m\u001b[1;33m\u001b[0m\u001b[0m\n\u001b[0;32m    454\u001b[0m         \u001b[1;32melse\u001b[0m\u001b[1;33m:\u001b[0m\u001b[1;33m\u001b[0m\u001b[1;33m\u001b[0m\u001b[0m\n\u001b[1;32m--> 455\u001b[1;33m             \u001b[1;32mreturn\u001b[0m \u001b[0m_quadpack\u001b[0m\u001b[1;33m.\u001b[0m\u001b[0m_qagie\u001b[0m\u001b[1;33m(\u001b[0m\u001b[0mfunc\u001b[0m\u001b[1;33m,\u001b[0m\u001b[0mbound\u001b[0m\u001b[1;33m,\u001b[0m\u001b[0minfbounds\u001b[0m\u001b[1;33m,\u001b[0m\u001b[0margs\u001b[0m\u001b[1;33m,\u001b[0m\u001b[0mfull_output\u001b[0m\u001b[1;33m,\u001b[0m\u001b[0mepsabs\u001b[0m\u001b[1;33m,\u001b[0m\u001b[0mepsrel\u001b[0m\u001b[1;33m,\u001b[0m\u001b[0mlimit\u001b[0m\u001b[1;33m)\u001b[0m\u001b[1;33m\u001b[0m\u001b[1;33m\u001b[0m\u001b[0m\n\u001b[0m\u001b[0;32m    456\u001b[0m     \u001b[1;32melse\u001b[0m\u001b[1;33m:\u001b[0m\u001b[1;33m\u001b[0m\u001b[1;33m\u001b[0m\u001b[0m\n\u001b[0;32m    457\u001b[0m         \u001b[1;32mif\u001b[0m \u001b[0minfbounds\u001b[0m \u001b[1;33m!=\u001b[0m \u001b[1;36m0\u001b[0m\u001b[1;33m:\u001b[0m\u001b[1;33m\u001b[0m\u001b[1;33m\u001b[0m\u001b[0m\n",
      "\u001b[1;32m<ipython-input-10-6f78aa557b4a>\u001b[0m in \u001b[0;36mintegrand\u001b[1;34m(u)\u001b[0m\n\u001b[0;32m     17\u001b[0m     \u001b[1;31m# equation 3.3\u001b[0m\u001b[1;33m\u001b[0m\u001b[1;33m\u001b[0m\u001b[1;33m\u001b[0m\u001b[0m\n\u001b[0;32m     18\u001b[0m     \u001b[1;32mdef\u001b[0m \u001b[0mintegrand\u001b[0m\u001b[1;33m(\u001b[0m\u001b[0mu\u001b[0m\u001b[1;33m)\u001b[0m\u001b[1;33m:\u001b[0m\u001b[1;33m\u001b[0m\u001b[1;33m\u001b[0m\u001b[0m\n\u001b[1;32m---> 19\u001b[1;33m         \u001b[1;32mreturn\u001b[0m \u001b[0mu\u001b[0m\u001b[1;33m**\u001b[0m\u001b[1;33m(\u001b[0m\u001b[0mr\u001b[0m\u001b[1;33m/\u001b[0m\u001b[0mmu\u001b[0m \u001b[1;33m-\u001b[0m \u001b[1;36m1\u001b[0m\u001b[1;33m)\u001b[0m \u001b[1;33m*\u001b[0m \u001b[0mexp\u001b[0m\u001b[1;33m(\u001b[0m\u001b[0msqrt\u001b[0m\u001b[1;33m(\u001b[0m\u001b[1;36m2\u001b[0m\u001b[1;33m*\u001b[0m\u001b[0mmu\u001b[0m \u001b[1;33m/\u001b[0m \u001b[0msigma\u001b[0m\u001b[1;33m**\u001b[0m\u001b[1;36m2\u001b[0m\u001b[1;33m)\u001b[0m \u001b[1;33m*\u001b[0m \u001b[1;33m(\u001b[0m\u001b[0mx\u001b[0m\u001b[1;33m-\u001b[0m\u001b[0mtheta\u001b[0m\u001b[1;33m)\u001b[0m\u001b[1;33m*\u001b[0m\u001b[0mu\u001b[0m \u001b[1;33m-\u001b[0m \u001b[0mu\u001b[0m\u001b[1;33m**\u001b[0m\u001b[1;36m2\u001b[0m\u001b[1;33m/\u001b[0m\u001b[1;36m2\u001b[0m\u001b[1;33m)\u001b[0m\u001b[1;33m\u001b[0m\u001b[1;33m\u001b[0m\u001b[0m\n\u001b[0m\u001b[0;32m     20\u001b[0m     \u001b[1;32mreturn\u001b[0m \u001b[0msi\u001b[0m\u001b[1;33m.\u001b[0m\u001b[0mquad\u001b[0m\u001b[1;33m(\u001b[0m\u001b[0mintegrand\u001b[0m\u001b[1;33m,\u001b[0m \u001b[1;36m0\u001b[0m\u001b[1;33m,\u001b[0m \u001b[0mnp\u001b[0m\u001b[1;33m.\u001b[0m\u001b[0minf\u001b[0m\u001b[1;33m)\u001b[0m\u001b[1;33m[\u001b[0m\u001b[1;36m0\u001b[0m\u001b[1;33m]\u001b[0m\u001b[1;33m\u001b[0m\u001b[1;33m\u001b[0m\u001b[0m\n\u001b[0;32m     21\u001b[0m \u001b[1;33m\u001b[0m\u001b[0m\n",
      "\u001b[1;31mOverflowError\u001b[0m: math range error"
     ]
    }
   ],
   "source": [
    "r = c = .05\n",
    "b = b_star(theta, mu, sigma, r, c)\n",
    "d = d_star(theta, mu, sigma, r, c)\n",
    "b, d  # our optima"
   ]
  },
  {
   "cell_type": "code",
   "execution_count": null,
   "metadata": {},
   "outputs": [],
   "source": [
    "def createPositions(prices, betas):\n",
    "    dataWithPosition = pd.DataFrame()\n",
    "    dfList = [group[1] for group in prices.groupby(prices['datetime'].dt.date)]\n",
    "    betaList = [group[1] for group in betas.groupby(prices[\"datetime\"].dt.date)]\n",
    "    qqq_gain = 1\n",
    "    synth_gain = 1\n",
    "    \n",
    "    for day, beta in dfList: #Iterate over single items in data\n",
    "        print(day[\"qqqprice\"])\n",
    "        day['aboveOrBelowEMA'] = np.where(day['spread'] > day['ema'], 1, -1)\n",
    "        day['signal'] = np.where(day['spread'] > day['upperband'], -1, np.nan)\n",
    "        day['signal'] = np.where(day['spread'] < day['lowerband'], 1, day['signal'])\n",
    "        day['signal'] = np.where(day['aboveOrBelowEMA'] * day['aboveOrBelowEMA'].shift(1) < 0, \n",
    "                                         0, day['signal'])\n",
    "        day['signal'] = day['signal'].ffill().fillna(0)\n",
    "        day['position'] = day['signal'].shift(1).fillna(0)\n",
    "        if day['position'].iloc[-1] != 0:\n",
    "            day['position'].iloc[-1] = 0\n",
    "        dataWithPosition = dataWithPosition.append(day)      \n",
    "    return dataWithPosition"
   ]
  },
  {
   "cell_type": "code",
   "execution_count": null,
   "metadata": {
    "scrolled": true
   },
   "outputs": [],
   "source": [
    "backtest_data = pd.read_csv(\"./data/backtest_data_entry_exit.csv\")\n",
    "slopes_data = pd.read_csv(\"./data/hedge_ratios.csv\")\n",
    "backtest_data[\"datetime\"] = pd.to_datetime(backtest_data[\"datetime\"])\n",
    "slopes_data[]\n",
    "\n",
    "createPositions(backtest_data, slopes_data)"
   ]
  },
  {
   "cell_type": "code",
   "execution_count": null,
   "metadata": {},
   "outputs": [],
   "source": [
    "syntheticAssetLogPrice = data[['hasclose', 'ttwoclose', 'idxxclose', 'sbuxclose', 'ctasclose', 'alxnclose']].apply(np.log)\n",
    "qqqLogPrice = np.log(data['qqqclose'].values)"
   ]
  },
  {
   "cell_type": "code",
   "execution_count": null,
   "metadata": {},
   "outputs": [],
   "source": [
    "kf = fn.multivariateKalmanFilter(syntheticAssetLogPrice, qqqLogPrice)\n",
    "state_means, state_covs = kf.filter(qqqLogPrice)\n",
    "basket_size = len(syntheticAssetLogPrice.columns)\n",
    "slopes = state_means[:, np.arange(0, basket_size, 1)]\n",
    "intercept = state_means[:, basket_size]"
   ]
  },
  {
   "cell_type": "code",
   "execution_count": null,
   "metadata": {
    "scrolled": true
   },
   "outputs": [],
   "source": [
    "prices = backtest_data[['hasclose', 'aaplclose', 'ttwoclose','sbuxclose', 'ctasclose', 'alxnclose', 'algnclose', 'payxclose']].values\n",
    "hedge_ratios = np.asarray([slopes.T[i][lookback - 1:] for i in range(len(slopes.T))]).T"
   ]
  },
  {
   "cell_type": "code",
   "execution_count": null,
   "metadata": {},
   "outputs": [],
   "source": [
    "backtest_data['hedgeRatioHAS'] = slopes[:, 0][lookback - 1:]\n",
    "backtest_data['hedgeRatioTTWO'] = slopes[:, 1][lookback - 1:]\n",
    "backtest_data['hedgeRatioIDXX'] = slopes[:, 2][lookback - 1:]\n",
    "backtest_data['hedgeRatioSBUX'] = slopes[:, 3][lookback -1 :]\n",
    "backtest_data['hedgeRatioCTAS'] = slopes[:, 4][lookback - 1:]"
   ]
  },
  {
   "cell_type": "code",
   "execution_count": null,
   "metadata": {},
   "outputs": [],
   "source": [
    "tradeLog, minuteDf = fn.constructTradeLog(backtest_data['datetime'].values, backtest_data['position'].values, \n",
    "                                backtest_data['qqqclose'].values, prices, hedge_ratios.round(3), lot_size = 1000, \n",
    "                               stoploss = None)\n",
    "tradeLog.tail()"
   ]
  },
  {
   "cell_type": "code",
   "execution_count": null,
   "metadata": {},
   "outputs": [],
   "source": [
    "returns_df = minuteDf[['datetime']]\n",
    "returns_df['cumulative_returns'] = np.cumprod(1 + minuteDf['returns'])\n",
    "returns_df = returns_df.set_index('datetime')\n",
    "returns_df.plot(figsize=[15, 7])"
   ]
  },
  {
   "cell_type": "code",
   "execution_count": null,
   "metadata": {},
   "outputs": [],
   "source": [
    "total_profit = np.cumsum(tradeLog['trade_profit'])\n",
    "print('Trade Log cumulative profit was {:.3f}'.format(total_profit.iloc[-1]))"
   ]
  },
  {
   "cell_type": "code",
   "execution_count": null,
   "metadata": {},
   "outputs": [],
   "source": [
    "cumulative_return = np.cumprod(1 + tradeLog['trade_returns']) - 1\n",
    "print('Trade Log cumulative return was {:.3f}%'.format(cumulative_return.iloc[-1] * 100))"
   ]
  },
  {
   "cell_type": "code",
   "execution_count": null,
   "metadata": {},
   "outputs": [],
   "source": [
    "minuteDf['datetime'] = pd.to_datetime(minuteDf['datetime'])\n",
    "dailyReturns = fn.calculateDailyReturns(minuteDf[['datetime', 'returns']])\n",
    "sharpeRatio = fn.calculateAnnualizedSharpeRatio(dailyReturns)\n",
    "print('Annualized Sharpe Ratio: ', sharpeRatio)"
   ]
  },
  {
   "cell_type": "code",
   "execution_count": null,
   "metadata": {},
   "outputs": [],
   "source": [
    "plt.figure(figsize=[15, 7])\n",
    "plt.hist(tradeLog['trade_returns'], bins=75)\n",
    "plt.axvline(tradeLog['trade_returns'].mean(), color='k', linestyle='dashed', linewidth=1)"
   ]
  },
  {
   "cell_type": "code",
   "execution_count": null,
   "metadata": {},
   "outputs": [],
   "source": [
    "tradeLog['trade_returns'].quantile(0.1)"
   ]
  },
  {
   "cell_type": "code",
   "execution_count": null,
   "metadata": {},
   "outputs": [],
   "source": [
    "plt.figure(figsize=[15, 7])\n",
    "plt.hist(tradeLog['trade_profit'], bins=75)\n",
    "plt.axvline(tradeLog['trade_profit'].mean(), color='k', linestyle='dashed', linewidth=1)"
   ]
  },
  {
   "cell_type": "code",
   "execution_count": null,
   "metadata": {},
   "outputs": [],
   "source": [
    "plt.figure(figsize=[15, 7])\n",
    "plt.hist(tradeLog['holdingPeriod'], bins=50)\n",
    "plt.axvline(tradeLog['holdingPeriod'].mean(), color='k', linestyle='dashed', linewidth=1)\n",
    "plt.axvline(tradeLog['holdingPeriod'].median(), color='r', linestyle='dashed', linewidth=1)"
   ]
  },
  {
   "cell_type": "code",
   "execution_count": null,
   "metadata": {},
   "outputs": [],
   "source": [
    "tradeLog.loc[tradeLog['trade_returns'] <= -0.0025]"
   ]
  }
 ],
 "metadata": {
  "kernelspec": {
   "display_name": "Python 3",
   "language": "python",
   "name": "python3"
  },
  "language_info": {
   "codemirror_mode": {
    "name": "ipython",
    "version": 3
   },
   "file_extension": ".py",
   "mimetype": "text/x-python",
   "name": "python",
   "nbconvert_exporter": "python",
   "pygments_lexer": "ipython3",
   "version": "3.8.5"
  }
 },
 "nbformat": 4,
 "nbformat_minor": 2
}
