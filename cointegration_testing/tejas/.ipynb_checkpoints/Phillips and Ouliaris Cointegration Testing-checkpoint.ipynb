{
 "cells": [
  {
   "cell_type": "code",
   "execution_count": 5,
   "metadata": {},
   "outputs": [],
   "source": [
    "from arch.unitroot.cointegration import phillips_ouliaris\n",
    "import yfinance\n",
    "import matplotlib.pyplot as plt\n",
    "import seaborn\n",
    "import numpy as np"
   ]
  },
  {
   "cell_type": "markdown",
   "metadata": {},
   "source": [
    "## Philips Ouliaris Testing"
   ]
  },
  {
   "cell_type": "code",
   "execution_count": null,
   "metadata": {},
   "outputs": [],
   "source": [
    "def philips_ouliaris(ticker1, ticker2, start_date, end_date):\n",
    "    \"\"\" Philips Ouliaris Test: Outputs Test-Statistic, P-value, \n",
    "        ADF Lag Length, and Estimated Root\n",
    "        time_series1: Time Series data for asset 1\n",
    "        time_series2: Time Series data for asset 2\n",
    "        start_date: start date for asset comparison\n",
    "        end_date: end date for asset comparison\n",
    "    \"\"\"\n",
    "    asset1 = \n",
    "    po_zt_test = phillips_ouliaris(log_price.WTI, log_price.Brent, trend = \"c\", test_type = \"ZT\")\n",
    "    \n",
    "    "
   ]
  },
  {
   "cell_type": "markdown",
   "metadata": {},
   "source": [
    "## Testing on Cointegrated Pair"
   ]
  },
  {
   "cell_type": "code",
   "execution_count": null,
   "metadata": {},
   "outputs": [],
   "source": [
    "value = np.arange("
   ]
  }
 ],
 "metadata": {
  "kernelspec": {
   "display_name": "Python 3",
   "language": "python",
   "name": "python3"
  },
  "language_info": {
   "codemirror_mode": {
    "name": "ipython",
    "version": 3
   },
   "file_extension": ".py",
   "mimetype": "text/x-python",
   "name": "python",
   "nbconvert_exporter": "python",
   "pygments_lexer": "ipython3",
   "version": "3.7.3"
  }
 },
 "nbformat": 4,
 "nbformat_minor": 2
}
