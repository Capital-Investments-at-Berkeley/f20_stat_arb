{
 "cells": [
  {
   "cell_type": "code",
   "execution_count": 1,
   "metadata": {},
   "outputs": [
    {
     "name": "stderr",
     "output_type": "stream",
     "text": [
      "/Users/Tejas/anaconda3/lib/python3.7/site-packages/statsmodels/tools/_testing.py:19: FutureWarning: pandas.util.testing is deprecated. Use the functions in the public API at pandas.testing instead.\n",
      "  import pandas.util.testing as tm\n"
     ]
    }
   ],
   "source": [
    "from arch.unitroot.cointegration import phillips_ouliaris\n",
    "import yfinance as yf\n",
    "import matplotlib.pyplot as plt\n",
    "import seaborn\n",
    "import numpy as np\n",
    "import warnings\n",
    "from pandas import DataFrame\n",
    "warnings.filterwarnings('ignore')"
   ]
  },
  {
   "cell_type": "markdown",
   "metadata": {},
   "source": [
    "## Phillips Ouliaris Testing"
   ]
  },
  {
   "cell_type": "code",
   "execution_count": 6,
   "metadata": {},
   "outputs": [],
   "source": [
    "def phillips_ouliaris_test_ticker(ticker1: str, ticker2: str, start_date: str, end_date: str):\n",
    "    \"\"\" Philips Ouliaris Test: Outputs Test-Statistic, P-value, \n",
    "        ADF Lag Length, and Estimated Root\n",
    "        @params:\n",
    "            ticker1: Ticker for asset 1\n",
    "            ticker2: Time Series data for asset 2\n",
    "            start_date: start date for asset comparison\n",
    "            end_date: end date for asset comparison\n",
    "        \n",
    "        @return: Phillips Ouliaris Cointegration Summary\n",
    "    \"\"\"\n",
    "    asset1 = yf.download(tickers = ticker1, start = start_date, end = end_date, interval = \"1d\")[\"Close\"]\n",
    "    asset2 = yf.download(tickers = ticker2, start = start_date, end = end_date, interval = \"1d\")[\"Close\"]\n",
    "    log_asset_1 = np.log(asset1)\n",
    "    log_asset_2 = np.log(asset2)\n",
    "    po_zt_test = phillips_ouliaris(log_asset_1, log_asset_2, trend = \"ctt\", test_type = \"Zt\")\n",
    "    return po_zt_test.summary()\n",
    "\n",
    "def phillips_ouliaris_test_ts(asset_1: DataFrame, asset_2: DataFrame, start_date: str, end_date:str):\n",
    "    \"\"\" Philips Ouliaris Test: Outputs Test-Statistic, P-value, \n",
    "        ADF Lag Length, and Estimated Root\n",
    "        @params:\n",
    "            asset_1: Time Series data for asset 1\n",
    "            asset_2: Time Series data for asset 2\n",
    "            start_date: start date for asset comparison\n",
    "            end_date: end date for asset comparison\n",
    "        \n",
    "        @return: Phillips Ouliaris Cointegration Summary\n",
    "    \"\"\"\n",
    "    log_asset_1 = np.log(asset_1)\n",
    "    log_asset_2 = np.log(asset_2)\n",
    "    po_zt_test = phillips_ouliaris(log_asset_1, log_asset_2, trend = \"ctt\", test_type = \"Zt\")\n",
    "    return asset1, asset2, po_zt_test.summary()"
   ]
  },
  {
   "cell_type": "markdown",
   "metadata": {},
   "source": [
    "## Testing on Cointegrated Pair - NVIDIA, INTEL"
   ]
  },
  {
   "cell_type": "code",
   "execution_count": 4,
   "metadata": {
    "scrolled": false
   },
   "outputs": [
    {
     "name": "stdout",
     "output_type": "stream",
     "text": [
      "[*********************100%***********************]  1 of 1 completed\n",
      "[*********************100%***********************]  1 of 1 completed\n",
      "<class 'statsmodels.iolib.summary.Summary'>\n"
     ]
    }
   ],
   "source": [
    "po_results = phillips_ouliaris_test_ticker(\"NVDA\", \"INTC\", \"2020-09-02\", \"2020-10-01\")\n"
   ]
  },
  {
   "cell_type": "code",
   "execution_count": 5,
   "metadata": {
    "scrolled": false
   },
   "outputs": [
    {
     "name": "stdout",
     "output_type": "stream",
     "text": [
      "Phillips-Ouliaris zt Cointegration Test\n",
      "=====================================\n",
      "Test Statistic                 -4.396\n",
      "P-value                         0.026\n",
      "Kernel                       Bartlett\n",
      "Bandwidth                       5.236\n",
      "-------------------------------------\n",
      "\n",
      "Trend: Constant\n",
      "Critical Values: -4.71 (10%), -5.18 (5%), -6.26 (1%)\n",
      "Null Hypothesis: No Cointegration\n",
      "Alternative Hypothesis: Cointegration\n",
      "Distribution Order: 5\n"
     ]
    }
   ],
   "source": [
    "print(po_results)"
   ]
  },
  {
   "cell_type": "code",
   "execution_count": null,
   "metadata": {},
   "outputs": [],
   "source": []
  }
 ],
 "metadata": {
  "kernelspec": {
   "display_name": "Python 3",
   "language": "python",
   "name": "python3"
  },
  "language_info": {
   "codemirror_mode": {
    "name": "ipython",
    "version": 3
   },
   "file_extension": ".py",
   "mimetype": "text/x-python",
   "name": "python",
   "nbconvert_exporter": "python",
   "pygments_lexer": "ipython3",
   "version": "3.7.3"
  }
 },
 "nbformat": 4,
 "nbformat_minor": 2
}
