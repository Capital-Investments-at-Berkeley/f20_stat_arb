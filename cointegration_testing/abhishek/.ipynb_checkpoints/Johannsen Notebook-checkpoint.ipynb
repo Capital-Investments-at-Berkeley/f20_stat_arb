{
 "cells": [
  {
   "cell_type": "code",
   "execution_count": 37,
   "metadata": {},
   "outputs": [],
   "source": [
    "import matplotlib.pyplot as plt\n",
    "from numpy.random import randn\n",
    "from pandas import DataFrame\n",
    "from statsmodels.tsa.vector_ar.vecm import coint_johansen, JohansenTestResult\n",
    "from yfinance import Ticker"
   ]
  },
  {
   "cell_type": "code",
   "execution_count": 47,
   "metadata": {},
   "outputs": [],
   "source": [
    "def johannsen(df: DataFrame):\n",
    "    '''\n",
    "        Completes a Johannsen Test of Cointegration on DataFrame\n",
    "        Input: pd.DataFrame\n",
    "        Output: statsmodels.tsa.vector_ar.vecm.JohansenTestResult\n",
    "    '''\n",
    "    assert len(df.columns) > 1\n",
    "    jres = coint_johansen(df, det_order=0, k_ar_diff=1)\n",
    "    return jres\n",
    "\n",
    "def print_johannsen(jres: JohansenTestResult):\n",
    "    '''\n",
    "        Prints Significant values of a Johannsen Test\n",
    "        Input: statsmodels.tsa.vector_ar.vecm.JohansenTestResult\n",
    "        Output: None\n",
    "    '''\n",
    "    print(\"Trace Stat: \", jres.trace_stat)\n",
    "    print(\"Critical Trace Stat Value: \", jres.trace_stat_crit_vals)\n",
    "    print(\"Max Eigenvalue Stat: \", jres.max_eig_stat)\n",
    "    print(\"Critical Max Eigenvalue Stat Value: \", jres.max_eig_stat_crit_vals)\n",
    "    \n",
    "def johannsen_financial_test(ticker_1: str, ticker_2: str, time_period: str='3y', value: str='Close'):\n",
    "    '''\n",
    "        Completes a Johannsen Test of Cointegration on Two Specific Assets\n",
    "        Input: pd.DataFrame\n",
    "        Output: statsmodels.tsa.vector_ar.vecm.JohansenTestResult\n",
    "    '''\n",
    "    asset_1 = Ticker(ticker_1).history(period=time_period)[value]\n",
    "    asset_2 = Ticker(ticker_2).history(period=time_period)[value]\n",
    "    asset_df = DataFrame(\n",
    "        list(zip(asset_1, asset_2)),\n",
    "        columns=[ticker_1, ticker_2]\n",
    "    )\n",
    "    return johannsen(asset_df)\n",
    "\n",
    "def multi_asset_johannsent_test(tickers: list, time_period: str='3y', value: str='Close'):\n",
    "    '''\n",
    "        Completes a Johannsen Test of Cointegration on N Assets\n",
    "        Input: pd.DataFrame\n",
    "        Output: statsmodels.tsa.vector_ar.vecm.JohansenTestResult\n",
    "    '''\n",
    "    asset_df = DataFrame()\n",
    "    for ticker in tickers:\n",
    "        asset_df[ticker] = Ticker(ticker).history(period=time_period)[value]\n",
    "    return johannsen(asset_df)"
   ]
  },
  {
   "cell_type": "markdown",
   "metadata": {},
   "source": [
    "# With Random Data"
   ]
  },
  {
   "cell_type": "code",
   "execution_count": 41,
   "metadata": {},
   "outputs": [],
   "source": [
    "#Test Series with similar variance\n",
    "series_1 = 250 * randn(10000) + 1000\n",
    "series_2 = 250 * randn(10000) + 2000\n",
    "\n",
    "random_cointegrated_df = DataFrame(\n",
    "    list(zip(series_1, series_2)),\n",
    "    columns=['Series 1', 'Series 2']\n",
    ")"
   ]
  },
  {
   "cell_type": "code",
   "execution_count": 42,
   "metadata": {},
   "outputs": [
    {
     "data": {
      "image/png": "[encoded data removed]",
      "text/plain": [
       "<Figure size 432x288 with 1 Axes>"
      ]
     },
     "metadata": {
      "needs_background": "light"
     },
     "output_type": "display_data"
    }
   ],
   "source": [
    "plt.plot(random_cointegrated_df)\n",
    "plt.show()"
   ]
  },
  {
   "cell_type": "code",
   "execution_count": 43,
   "metadata": {},
   "outputs": [
    {
     "data": {
      "text/plain": [
       "<statsmodels.tsa.vector_ar.vecm.JohansenTestResult at 0x138a0b640>"
      ]
     },
     "execution_count": 43,
     "metadata": {},
     "output_type": "execute_result"
    }
   ],
   "source": [
    "jres = johannsen(random_cointegrated_df)\n",
    "jres #Object Type"
   ]
  },
  {
   "cell_type": "code",
   "execution_count": 44,
   "metadata": {},
   "outputs": [
    {
     "name": "stdout",
     "output_type": "stream",
     "text": [
      "Trace Stat:  [8002.36554477 3963.33520295]\n",
      "Critical Trace Stat Value:  [[13.4294 15.4943 19.9349]\n",
      " [ 2.7055  3.8415  6.6349]]\n",
      "Max Eigenvalue Stat:  [4039.03034183 3963.33520295]\n",
      "Critical Max Eigenvalue Stat Value:  [[12.2971 14.2639 18.52  ]\n",
      " [ 2.7055  3.8415  6.6349]]\n"
     ]
    }
   ],
   "source": [
    "print_johannsen(jres)"
   ]
  },
  {
   "cell_type": "markdown",
   "metadata": {},
   "source": [
    "# With Real Finance Data"
   ]
  },
  {
   "cell_type": "code",
   "execution_count": 45,
   "metadata": {},
   "outputs": [
    {
     "name": "stdout",
     "output_type": "stream",
     "text": [
      "Trace Stat:  [14.11865134  0.05723894]\n",
      "Critical Trace Stat Value:  [[13.4294 15.4943 19.9349]\n",
      " [ 2.7055  3.8415  6.6349]]\n",
      "Max Eigenvalue Stat:  [14.0614124   0.05723894]\n",
      "Critical Max Eigenvalue Stat Value:  [[12.2971 14.2639 18.52  ]\n",
      " [ 2.7055  3.8415  6.6349]]\n"
     ]
    }
   ],
   "source": [
    "apple_tesla_coint = johannsen_financial_test(ticker_1='AAPL', ticker_2='TSLA', time_period='3y', value='Close')\n",
    "print_johannsen(apple_tesla_coint)"
   ]
  },
  {
   "cell_type": "code",
   "execution_count": 49,
   "metadata": {},
   "outputs": [
    {
     "name": "stdout",
     "output_type": "stream",
     "text": [
      "Trace Stat:  [27.66809302  8.41867714  0.99363661]\n",
      "Critical Trace Stat Value:  [[27.0669 29.7961 35.4628]\n",
      " [13.4294 15.4943 19.9349]\n",
      " [ 2.7055  3.8415  6.6349]]\n",
      "Max Eigenvalue Stat:  [19.24941588  7.42504053  0.99363661]\n",
      "Critical Max Eigenvalue Stat Value:  [[18.8928 21.1314 25.865 ]\n",
      " [12.2971 14.2639 18.52  ]\n",
      " [ 2.7055  3.8415  6.6349]]\n"
     ]
    }
   ],
   "source": [
    "stocks = ['AAPL', 'TSLA', 'MSFT']\n",
    "three_asset_johannsen = multi_asset_johannsent_test(tickers=stocks)\n",
    "print_johannsen(three_asset_johannsen)"
   ]
  },
  {
   "cell_type": "code",
   "execution_count": null,
   "metadata": {},
   "outputs": [],
   "source": []
  }
 ],
 "metadata": {
  "kernelspec": {
   "display_name": "Python 3",
   "language": "python",
   "name": "python3"
  },
  "language_info": {
   "codemirror_mode": {
    "name": "ipython",
    "version": 3
   },
   "file_extension": ".py",
   "mimetype": "text/x-python",
   "name": "python",
   "nbconvert_exporter": "python",
   "pygments_lexer": "ipython3",
   "version": "3.7.3"
  }
 },
 "nbformat": 4,
 "nbformat_minor": 4
}
